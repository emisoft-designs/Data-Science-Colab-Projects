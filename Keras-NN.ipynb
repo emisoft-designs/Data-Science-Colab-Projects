{
  "nbformat": 4,
  "nbformat_minor": 0,
  "metadata": {
    "colab": {
      "name": "Sample NN.ipynb",
      "provenance": [],
      "collapsed_sections": [],
      "mount_file_id": "1FAwobsAK_NprX82Aw2iPBINxarrVJdhz",
      "authorship_tag": "ABX9TyPDjSRTBDRE+HxB2L7nkRWn",
      "include_colab_link": true
    },
    "kernelspec": {
      "name": "python3",
      "display_name": "Python 3"
    },
    "language_info": {
      "name": "python"
    }
  },
  "cells": [
    {
      "cell_type": "markdown",
      "metadata": {
        "id": "view-in-github",
        "colab_type": "text"
      },
      "source": [
        "<a href=\"https://colab.research.google.com/github/emisoft-designs/Data-Science-Practice-Projects/blob/main/Keras-NN.ipynb\" target=\"_parent\"><img src=\"https://colab.research.google.com/assets/colab-badge.svg\" alt=\"Open In Colab\"/></a>"
      ]
    },
    {
      "cell_type": "code",
      "source": [
        "!pip install -U -q PyDrive\n",
        "from pydrive.auth import GoogleAuth\n",
        "from pydrive.drive import GoogleDrive\n",
        "from google.colab import auth, files\n",
        "from oauth2client.client import GoogleCredentials"
      ],
      "metadata": {
        "id": "7aTM85CYrlAo"
      },
      "execution_count": null,
      "outputs": []
    },
    {
      "cell_type": "code",
      "source": [
        "auth.authenticate_user()\n",
        "gauth = GoogleAuth()\n",
        "gauth.credentials = GoogleCredentials.get_application_default()\n",
        "drive = GoogleDrive(gauth)"
      ],
      "metadata": {
        "id": "OcyQM2G8rro6"
      },
      "execution_count": null,
      "outputs": []
    },
    {
      "cell_type": "code",
      "execution_count": null,
      "metadata": {
        "id": "BA36aoEHmQum"
      },
      "outputs": [],
      "source": [
        "import tensorflow as tf\n",
        "from tensorflow import keras\n",
        "\n",
        "import pandas as pd\n",
        "import numpy as np"
      ]
    },
    {
      "cell_type": "markdown",
      "source": [
        "# **LINEAR MODEL**"
      ],
      "metadata": {
        "id": "DXe98bGhnIvq"
      }
    },
    {
      "cell_type": "code",
      "source": [
        "train_data = drive.CreateFile({'id':'1CLTanTjiGo3_hDfYoa0nhhvZTkqKibJv'})\n",
        "train_data.GetContentFile('/content/drive/MyDrive/Colab Notebooks/Development lab/neural-nets-master/examples/linear/data/train.csv')"
      ],
      "metadata": {
        "id": "6LgkwNUS-lg9"
      },
      "execution_count": null,
      "outputs": []
    },
    {
      "cell_type": "code",
      "source": [
        "test_data = drive.CreateFile({'id':'1r2ELQWqGn3o1rTYtAGT73iDuDq3eIqg3'})\n",
        "test_data.GetContentFile('/content/drive/MyDrive/Colab Notebooks/Development lab/neural-nets-master/examples/linear/data/test.csv')"
      ],
      "metadata": {
        "id": "KEgmePR2ASTN"
      },
      "execution_count": null,
      "outputs": []
    },
    {
      "cell_type": "code",
      "source": [
        "train_df = pd.read_csv('/content/drive/MyDrive/Colab Notebooks/Development lab/neural-nets-master/examples/linear/data/train.csv')\n",
        "test_df = pd.read_csv('/content/drive/MyDrive/Colab Notebooks/Development lab/neural-nets-master/examples/linear/data/test.csv')"
      ],
      "metadata": {
        "id": "Wh1HKaqwmnak"
      },
      "execution_count": null,
      "outputs": []
    },
    {
      "cell_type": "code",
      "source": [
        "linear_model = keras.Sequential([keras.layers.Dense(4, input_shape=(2,), activation='relu'),\n",
        "                          keras.layers.Dense(2)])"
      ],
      "metadata": {
        "id": "1wPeI7kLA--K"
      },
      "execution_count": null,
      "outputs": []
    },
    {
      "cell_type": "markdown",
      "source": [
        "https://developer.ibm.com/digitalnation/africa/course/machine-learning-v2/overview?lang=en&course-lang=en"
      ],
      "metadata": {
        "id": "AkwJuODMiEgj"
      }
    },
    {
      "cell_type": "code",
      "source": [
        "linear_model.compile(optimizer='adam',\n",
        "              loss=keras.losses.SparseCategoricalCrossentropy(from_logits=True),\n",
        "              metrics=['accuracy'])"
      ],
      "metadata": {
        "id": "0CCGgspmAExV"
      },
      "execution_count": null,
      "outputs": []
    },
    {
      "cell_type": "code",
      "source": [
        "x = np.column_stack((train_df.x.values,train_df.y.values))\n",
        "np.random.shuffle(train_df.values)\n",
        "\n",
        "linear_model.fit(x, train_df.color.values, batch_size=4, epochs=6)"
      ],
      "metadata": {
        "colab": {
          "base_uri": "https://localhost:8080/"
        },
        "id": "RpgRZej0szW1",
        "outputId": "b7cfd0f9-b220-4d50-8b8c-429701b14396"
      },
      "execution_count": null,
      "outputs": [
        {
          "output_type": "stream",
          "name": "stdout",
          "text": [
            "Epoch 1/6\n",
            "1000/1000 [==============================] - 2s 2ms/step - loss: 0.0925 - accuracy: 1.0000\n",
            "Epoch 2/6\n",
            "1000/1000 [==============================] - 1s 1ms/step - loss: 0.0151 - accuracy: 1.0000\n",
            "Epoch 3/6\n",
            "1000/1000 [==============================] - 2s 2ms/step - loss: 0.0065 - accuracy: 1.0000\n",
            "Epoch 4/6\n",
            "1000/1000 [==============================] - 3s 3ms/step - loss: 0.0036 - accuracy: 1.0000\n",
            "Epoch 5/6\n",
            "1000/1000 [==============================] - 3s 3ms/step - loss: 0.0022 - accuracy: 1.0000\n",
            "Epoch 6/6\n",
            "1000/1000 [==============================] - 3s 3ms/step - loss: 0.0015 - accuracy: 1.0000\n"
          ]
        },
        {
          "output_type": "execute_result",
          "data": {
            "text/plain": [
              "<keras.callbacks.History at 0x7fcc13ccd450>"
            ]
          },
          "metadata": {},
          "execution_count": 9
        }
      ]
    },
    {
      "cell_type": "code",
      "source": [
        "test_x = np.column_stack((test_df.x.values,test_df.y.values))\n",
        "linear_model.evaluate(test_x, test_df.color.values)"
      ],
      "metadata": {
        "colab": {
          "base_uri": "https://localhost:8080/"
        },
        "id": "RBhbH5iOtos-",
        "outputId": "decc6ee1-8d59-4108-998e-4069f806ac66"
      },
      "execution_count": null,
      "outputs": [
        {
          "output_type": "stream",
          "name": "stdout",
          "text": [
            "32/32 [==============================] - 0s 2ms/step - loss: 0.0013 - accuracy: 1.0000\n"
          ]
        },
        {
          "output_type": "execute_result",
          "data": {
            "text/plain": [
              "[0.0012848807964473963, 1.0]"
            ]
          },
          "metadata": {},
          "execution_count": 10
        }
      ]
    },
    {
      "cell_type": "code",
      "source": [
        ""
      ],
      "metadata": {
        "id": "VyGgK3u8uSC_"
      },
      "execution_count": null,
      "outputs": []
    },
    {
      "cell_type": "markdown",
      "source": [
        "# **QUADRATIC MODEL**"
      ],
      "metadata": {
        "id": "XR8ylPEunSSp"
      }
    },
    {
      "cell_type": "code",
      "source": [
        "train_data = drive.CreateFile({'id':'1xZ7ckZvXcda5f9mvDobzi3zu2xxCkKqZ'})\n",
        "train_data.GetContentFile('/content/drive/MyDrive/Colab Notebooks/Development lab/neural-nets-master/examples/quadratic/data/train.csv')"
      ],
      "metadata": {
        "id": "tNQ1RvpPnyOZ"
      },
      "execution_count": null,
      "outputs": []
    },
    {
      "cell_type": "code",
      "source": [
        "test_data = drive.CreateFile({'id':'1grs_5FS6z8ZhJsvLulO2Le6AZVU1YWHg'})\n",
        "test_data.GetContentFile('/content/drive/MyDrive/Colab Notebooks/Development lab/neural-nets-master/examples/quadratic/data/test.csv')"
      ],
      "metadata": {
        "id": "bMQRDm0UoUmW"
      },
      "execution_count": null,
      "outputs": []
    },
    {
      "cell_type": "code",
      "source": [
        "train_df = pd.read_csv('/content/drive/MyDrive/Colab Notebooks/Development lab/neural-nets-master/examples/quadratic/data/train.csv')\n",
        "test_df = pd.read_csv('/content/drive/MyDrive/Colab Notebooks/Development lab/neural-nets-master/examples/quadratic/data/test.csv')"
      ],
      "metadata": {
        "id": "vJ9s8tPxo6hF"
      },
      "execution_count": null,
      "outputs": []
    },
    {
      "cell_type": "code",
      "source": [
        "train_x = np.column_stack((train_df.x.values,train_df.y.values))\n",
        "test_x = np.column_stack((test_df.x.values,test_df.y.values))"
      ],
      "metadata": {
        "id": "NqOv_nx0qmm-"
      },
      "execution_count": null,
      "outputs": []
    },
    {
      "cell_type": "code",
      "source": [
        "quadratic_model = keras.Sequential([\n",
        "                                    keras.layers.Dense(32, input_shape=(2,), activation='relu'),\n",
        "                                    keras.layers.Dense(2)\n",
        "                                                       ])\n",
        "\n",
        "quadratic_model.compile(optimizer='adam',\n",
        "              loss=keras.losses.SparseCategoricalCrossentropy(from_logits=True),\n",
        "              metrics=['accuracy'])\n",
        "\n",
        "quadratic_model.fit(train_x, train_df.color.values, batch_size=4, epochs=10)"
      ],
      "metadata": {
        "colab": {
          "base_uri": "https://localhost:8080/"
        },
        "id": "fQd0gJ49nV9u",
        "outputId": "cff82ee6-374c-451b-f4f0-854cdf925918"
      },
      "execution_count": null,
      "outputs": [
        {
          "output_type": "stream",
          "name": "stdout",
          "text": [
            "Epoch 1/10\n",
            "1000/1000 [==============================] - 5s 4ms/step - loss: 0.7452 - accuracy: 0.6410\n",
            "Epoch 2/10\n",
            "1000/1000 [==============================] - 3s 3ms/step - loss: 0.4507 - accuracy: 0.8127\n",
            "Epoch 3/10\n",
            "1000/1000 [==============================] - 2s 2ms/step - loss: 0.3488 - accuracy: 0.8867\n",
            "Epoch 4/10\n",
            "1000/1000 [==============================] - 2s 2ms/step - loss: 0.2735 - accuracy: 0.9212\n",
            "Epoch 5/10\n",
            "1000/1000 [==============================] - 1s 1ms/step - loss: 0.2237 - accuracy: 0.9495\n",
            "Epoch 6/10\n",
            "1000/1000 [==============================] - 2s 2ms/step - loss: 0.1902 - accuracy: 0.9580\n",
            "Epoch 7/10\n",
            "1000/1000 [==============================] - 2s 2ms/step - loss: 0.1663 - accuracy: 0.9703\n",
            "Epoch 8/10\n",
            "1000/1000 [==============================] - 2s 2ms/step - loss: 0.1449 - accuracy: 0.9753\n",
            "Epoch 9/10\n",
            "1000/1000 [==============================] - 1s 1ms/step - loss: 0.1244 - accuracy: 0.9840\n",
            "Epoch 10/10\n",
            "1000/1000 [==============================] - 1s 1ms/step - loss: 0.1074 - accuracy: 0.9902\n"
          ]
        },
        {
          "output_type": "execute_result",
          "data": {
            "text/plain": [
              "<keras.callbacks.History at 0x7fcc13c4b150>"
            ]
          },
          "metadata": {},
          "execution_count": 15
        }
      ]
    },
    {
      "cell_type": "code",
      "source": [
        "quadratic_model.evaluate(test_x, test_df.color.values)"
      ],
      "metadata": {
        "colab": {
          "base_uri": "https://localhost:8080/"
        },
        "id": "eX6ShvvMqqdm",
        "outputId": "20b9a0c0-410f-48b7-8308-c90e816f2a20"
      },
      "execution_count": null,
      "outputs": [
        {
          "output_type": "stream",
          "name": "stdout",
          "text": [
            "32/32 [==============================] - 0s 1ms/step - loss: 0.0929 - accuracy: 0.9990\n"
          ]
        },
        {
          "output_type": "execute_result",
          "data": {
            "text/plain": [
              "[0.09293263405561447, 0.9990000128746033]"
            ]
          },
          "metadata": {},
          "execution_count": 16
        }
      ]
    },
    {
      "cell_type": "code",
      "source": [
        ""
      ],
      "metadata": {
        "id": "3SZwjO6HrQvD"
      },
      "execution_count": null,
      "outputs": []
    },
    {
      "cell_type": "markdown",
      "source": [
        "# **COMPLEX**"
      ],
      "metadata": {
        "id": "n00UOCRIxdaj"
      }
    },
    {
      "cell_type": "code",
      "source": [
        ""
      ],
      "metadata": {
        "id": "A08sNXI1mDYs"
      },
      "execution_count": null,
      "outputs": []
    }
  ]
}