{
  "cells": [
    {
      "cell_type": "markdown",
      "metadata": {
        "id": "view-in-github",
        "colab_type": "text"
      },
      "source": [
        "<a href=\"https://colab.research.google.com/github/emisoft-designs/Data-Science-Practice-Projects/blob/main/Key%20Informant%20Interview%20Analysis.ipynb\" target=\"_parent\"><img src=\"https://colab.research.google.com/assets/colab-badge.svg\" alt=\"Open In Colab\"/></a>"
      ]
    },
    {
      "cell_type": "code",
      "execution_count": null,
      "metadata": {
        "id": "PV_w2d9p_7di"
      },
      "outputs": [],
      "source": [
        "import gspread\n",
        "from google.colab import auth,files\n",
        "auth.authenticate_user()\n",
        "from oauth2client.client import GoogleCredentials"
      ]
    },
    {
      "cell_type": "code",
      "execution_count": null,
      "metadata": {
        "id": "MZc2movhAFl1"
      },
      "outputs": [],
      "source": [
        "# setup\n",
        "gc = gspread.authorize(GoogleCredentials.get_application_default())\n",
        "\n",
        "# read data and put it in a dataframe\n",
        "gsheets1 = gc.open_by_url('https://docs.google.com/spreadsheets/d/1yhTiQmv1Z1lkgXAx-DPqPD1eEC3hRk9AeO3FnABajNk/edit?usp=sharing')\n",
        "gsheets2 = gc.open_by_url('https://docs.google.com/spreadsheets/d/1AttBD8xVNDszTiCabgHBxMvC72w2pUle4HvWb3FiwO4/edit?usp=sharing')\n",
        "gsheets3 = gc.open_by_url('https://docs.google.com/spreadsheets/d/1Mfo1mSwfCsNp-w2QzG4t68Kclb_hct8ToJNjXIplNd8/edit?usp=sharing')\n",
        "gsheets4 = gc.open_by_url('https://docs.google.com/spreadsheets/d/1M7I707BKA1WTRVTOrJ_QWypL4qURpije3f4fK0xGta4/edit?usp=sharing')\n",
        "gsheets5 = gc.open_by_url('https://docs.google.com/spreadsheets/d/1kLNbSpiu4FJdQpBy8Y2lZhk9qrqsJKv0VvV5kJRWy7E/edit?usp=sharing')\n",
        "gsheets6 = gc.open_by_url('https://docs.google.com/spreadsheets/d/1vnTH6xFjhKruxQfxoApXgAkakhziwyBbL9Eh0WnCcJ4/edit?usp=sharing')\n",
        "gsheets7 = gc.open_by_url('https://docs.google.com/spreadsheets/d/1pUeSuHJlHL5q86nyEUb0tzMqMkubagTxR9ZF_YeF8rE/edit?usp=sharing')"
      ]
    },
    {
      "cell_type": "code",
      "execution_count": null,
      "metadata": {
        "id": "SFtxfkW0CgXr"
      },
      "outputs": [],
      "source": [
        "import pandas as pd\n",
        "import numpy as np\n",
        "import seaborn as sns\n",
        "import matplotlib.pyplot as plt"
      ]
    },
    {
      "cell_type": "code",
      "execution_count": null,
      "metadata": {
        "id": "zBRXIWIeDDJH"
      },
      "outputs": [],
      "source": [
        "sheet1 = pd.DataFrame(gsheets1.worksheet('Form responses 1').get_all_values())\n",
        "sheet2 = pd.DataFrame(gsheets2.worksheet('Form responses 1').get_all_values())\n",
        "sheet3 = pd.DataFrame(gsheets3.worksheet('Form responses 1').get_all_values())\n",
        "sheet4 = pd.DataFrame(gsheets4.worksheet('Form responses 1').get_all_values())\n",
        "sheet5 = pd.DataFrame(gsheets5.worksheet('Form responses 1').get_all_values())\n",
        "sheet6 = pd.DataFrame(gsheets6.worksheet('Form responses 1').get_all_values())\n",
        "sheet7 = pd.DataFrame(gsheets7.worksheet('Form responses 1').get_all_values())"
      ]
    },
    {
      "cell_type": "code",
      "execution_count": null,
      "metadata": {
        "id": "yI2acOSaO1Hz"
      },
      "outputs": [],
      "source": [
        "# reset co"
      ]
    },
    {
      "cell_type": "code",
      "execution_count": null,
      "metadata": {
        "id": "XlIBOSfmFVMY"
      },
      "outputs": [],
      "source": [
        "sample_df = pd.concat([sheet1,sheet2.iloc[1:],sheet3.iloc[1:],sheet4.iloc[1:],sheet5.iloc[1:],sheet6.iloc[1:],sheet7.iloc[1:]],ignore_index=True,axis=0)\n",
        "sample_df.columns = sample_df.iloc[0] # reset column\n",
        "sample_df = sample_df.iloc[1:]\n",
        "sample_df.head(2)"
      ]
    },
    {
      "cell_type": "markdown",
      "metadata": {
        "id": "fGc2aOL5GzWm"
      },
      "source": [
        "#**FUNCTIONS/DEFINITIONS**"
      ]
    },
    {
      "cell_type": "code",
      "execution_count": null,
      "metadata": {
        "id": "Kg72gvvuFvRs"
      },
      "outputs": [],
      "source": [
        "plt.rc('font', size=12) #controls default text size\n",
        "plt.rc('axes', titlesize=16) #fontsize of the title\n",
        "plt.rc('axes', labelsize=14) #fontsize of the x and y labels\n",
        "plt.rc('xtick', labelsize=12) #fontsize of the x tick labels\n",
        "plt.rc('ytick', labelsize=12) #fontsize of the y tick labels\n",
        "plt.rc('legend', fontsize=12) #fontsize of the legend"
      ]
    },
    {
      "cell_type": "code",
      "execution_count": null,
      "metadata": {
        "id": "qPLQrW48HCoc"
      },
      "outputs": [],
      "source": [
        "def _filter(dic,col): \n",
        "  correction_df = pd.DataFrame(dic) # create dataframe from dictionary for mapping\n",
        "  # loop through column an effect correction\n",
        "  for w, c in correction_df.itertuples(index=False,name=None):  \n",
        "    col = col.str.replace(r'\\b{0}\\b'.format(w),c)\n",
        "  return col"
      ]
    },
    {
      "cell_type": "code",
      "execution_count": null,
      "metadata": {
        "id": "aPcGuk_2HGGB"
      },
      "outputs": [],
      "source": [
        "def create_df(index,series):\n",
        "  df = ','.join(x for x in series if type(x) == str)\n",
        "  df = df.split(',')\n",
        "  df = [x.replace(';',',') for x in df]\n",
        "  df = [x.strip() for x in df]\n",
        "  df_s = pd.Series(df) \n",
        "  dfp  = pd.DataFrame(df_s.value_counts()) \n",
        "  dfp.columns = ['Responses'] \n",
        "  return dfp"
      ]
    },
    {
      "cell_type": "code",
      "execution_count": null,
      "metadata": {
        "id": "44TGotgvHhVZ"
      },
      "outputs": [],
      "source": [
        "def getCol(df,col):\n",
        "  df.reset_index(inplace=True)  # reset index\n",
        "  df.columns = [col,'Responses'] # rename column\n",
        "  return df # display table"
      ]
    },
    {
      "cell_type": "code",
      "execution_count": null,
      "metadata": {
        "id": "M81e45LWHmMW"
      },
      "outputs": [],
      "source": [
        "# convert age to categories of range of 5 years remove unwanted character\n",
        "def getCategory(df,col,min,max,ran):\n",
        "  bin = np.arange(min, max, ran)\n",
        "  labels = [\"{0} - {1}\".format(i, i + ran-1) for i in bin]\n",
        "  bin = pd.IntervalIndex.from_tuples([tuple(map(float, x.split('-'))) for x in labels])\n",
        "  #if col.upper() == 'AGE':\n",
        "    #bin = pd.IntervalIndex.from_tuples([(0, 5), (6, 10), (11, 15), (16, 20),(21, 25),(26, 30),(31, 35), (36, 40), (41, 45), (46, 50), (51, 55), (56, 60),(61, 65),(66, 70)])\n",
        "  group = df.groupby(pd.cut(df[col], bin)).sum()\n",
        "  group = group.drop(col,axis=1)\n",
        "  group.index = group.index.astype(str)\n",
        "  if col.upper() == 'AGE':\n",
        "    group.index = [x.replace(']',')') for x in group.index]\n",
        "    group.index = [x.replace(', ',' - ') for x in group.index]\n",
        "    group.index = [x.replace('.0','') for x in group.index]\n",
        "  else:\n",
        "    group.index = [x.replace(']','k)') for x in group.index]\n",
        "    group.index = [x.replace(', ','k - ') for x in group.index]\n",
        "    group.index = [x.replace('.0','') for x in group.index]\n",
        "  return group"
      ]
    },
    {
      "cell_type": "code",
      "execution_count": null,
      "metadata": {
        "id": "YVnk15IXbfrc"
      },
      "outputs": [],
      "source": [
        "def sort_dataframe(df):\n",
        "  df.columns=['Responses']\n",
        "  df.index = df.index.astype(int)\n",
        "  df.sort_index(inplace=True)\n",
        "  return df"
      ]
    },
    {
      "cell_type": "code",
      "execution_count": null,
      "metadata": {
        "id": "2EpHzhCwoB2K"
      },
      "outputs": [],
      "source": [
        "def restruct(word):\n",
        "  w = word.strip('# | ,')\n",
        "  \n",
        "  if len(word.split('-'))>1: w = word.split('-')[1]\n",
        "\n",
        "  if len(word.split('.'))>1: \n",
        "    if word.split('.')[1] == '00':w = word.split('.')[0]\n",
        "\n",
        "  if len(word.split(' '))>1: \n",
        "    if word.split(' ')[0].isnumeric():\n",
        "      w = word.split(' ')[0]\n",
        "\n",
        "  a = ''\n",
        "  b = ''\n",
        "  result = ''\n",
        "\n",
        "  for x in w: \n",
        "    if x.isdigit():\n",
        "      a+=x\n",
        "    elif x.isalpha() or x.isspace():\n",
        "      b+=x\n",
        "  \n",
        "  b = b.strip()\n",
        "  a = a.strip()\n",
        "\n",
        "  if len(b.split(' '))>1:\n",
        "    br = b.split(' ')\n",
        "    for v in br:\n",
        "      if v == 'MILLION' or v == 'NMILLION':\n",
        "        b = 'MILLION'\n",
        "        break\n",
        "      elif v == 'HUNDRED':\n",
        "        break\n",
        "\n",
        "  if b == 'MILLION' or b=='NMILLION':\n",
        "    if len(a)>=2 :a+='00000'\n",
        "    elif len(a)==1: a+='000000'\n",
        "  elif b == 'K':\n",
        "    a+='000'\n",
        "  \n",
        "  result = a\n",
        "  if a == '':\n",
        "    result = b\n",
        "\n",
        "  return result"
      ]
    },
    {
      "cell_type": "code",
      "execution_count": null,
      "metadata": {
        "id": "AA5rM4AmHJs9"
      },
      "outputs": [],
      "source": [
        "def Create(data, name='', label=[], level=1, cat=False, min=0, max=1000, range=5, sort=False):\n",
        "  if level > 2: return 'FAILED'\n",
        "  \n",
        "  data[name] = data[name].replace('',np.nan)\n",
        "\n",
        "  if data[name].dtype == object:\n",
        "    data.columns = data.columns.str.upper()\n",
        "    data.columns = data.columns.str.strip()\n",
        "  \n",
        "    data['STATE_STUDIED'] = data['STATE_STUDIED'].str.upper()\n",
        "    data['STATE_STUDIED'] = data['STATE_STUDIED'].str.strip()\n",
        "\n",
        "    data[name] = data[name].str.upper()\n",
        "    data[name] = data[name].str.strip() \n",
        "\n",
        "  edo_df = data[data['STATE_STUDIED'].str.contains('EDO')]\n",
        "  kano_df = data[data['STATE_STUDIED'].str.contains('KANO')]\n",
        "  delta_df = data[data['STATE_STUDIED'].str.contains('DELTA')]\n",
        "  katsina_df = data[data['STATE_STUDIED'].str.contains('KATSINA')]\n",
        "  sokoto_df = data[data['STATE_STUDIED'].str.contains('SOKOTO')]\n",
        "  kaduna_df = data[data['STATE_STUDIED'].str.contains('KADUNA')]\n",
        "  jigawa_df = data[data['STATE_STUDIED'].str.contains('JIGAWA')]\n",
        "\n",
        "  \n",
        "  summary = data\n",
        "\n",
        "  if level == 0:\n",
        "      df          = pd.DataFrame(data[name].value_counts())\n",
        "      df.columns  = ['Responses']\n",
        "      summary     = df\n",
        "\n",
        "  elif level == 1:\n",
        "      df          = pd.DataFrame(data[name].value_counts())\n",
        "      edo_df      = pd.DataFrame(edo_df[name].value_counts())\n",
        "      kano_df     = pd.DataFrame(kano_df[name].value_counts())\n",
        "      delta_df    = pd.DataFrame(delta_df[name].value_counts())\n",
        "      katsina_df  = pd.DataFrame(katsina_df[name].value_counts())\n",
        "      sokoto_df   = pd.DataFrame(sokoto_df[name].value_counts())\n",
        "      kaduna_df   = pd.DataFrame(kaduna_df[name].value_counts())\n",
        "      jigawa_df   = pd.DataFrame(jigawa_df[name].value_counts())\n",
        "\n",
        "      if(cat==True):\n",
        "        if(max<=0):return ''\n",
        "        df = getCategory(getCol(df,name),name,min,max,range)\n",
        "        edo_df = getCategory(getCol(edo_df,name),name,min,max,range)\n",
        "        katsina_df = getCategory(getCol(katsina_df,name),name,min,max,range)\n",
        "        kaduna_df = getCategory(getCol(kaduna_df,name),name,min,max,range)\n",
        "        sokoto_df = getCategory(getCol(sokoto_df,name),name,min,max,range)\n",
        "        delta_df = getCategory(getCol(delta_df,name),name,min,max,range)\n",
        "        kano_df = getCategory(getCol(kano_df,name),name,min,max,range)\n",
        "        jigawa_df = getCategory(getCol(jigawa_df,name),name,min,max,range)\n",
        "      else:\n",
        "        df.columns          = ['Responses']\n",
        "        edo_df.columns      = ['Responses']\n",
        "        delta_df.columns    = ['Responses']\n",
        "        kano_df.columns     = ['Responses']\n",
        "        katsina_df.columns  = ['Responses']\n",
        "        kaduna_df.columns   = ['Responses']\n",
        "        sokoto_df.columns   = ['Responses']\n",
        "        jigawa_df.columns   = ['Responses']\n",
        "\n",
        "      if(sort==True):\n",
        "        df = sort_dataframe(df)\n",
        "        edo_df= sort_dataframe(edo_df)\n",
        "        katsina_df = sort_dataframe(katsina_df)\n",
        "        kaduna_df = sort_dataframe(kaduna_df)\n",
        "        sokoto_val = sort_dataframe(sokoto_df)\n",
        "        delta_val= sort_dataframe(delta_df)\n",
        "        kano_val = sort_dataframe(kano_df)\n",
        "        jigawa_val= sort_dataframe(jigawa_df)\n",
        "\n",
        "  elif level == 2:\n",
        "      df = create_df(label, data[name])\n",
        "      edo_df = create_df(label, edo_df[name])\n",
        "      delta_df = create_df(label, delta_df[name])\n",
        "      kano_df = create_df(label, kano_df[name])\n",
        "      katsina_df = create_df(label, katsina_df[name])\n",
        "      kaduna_df = create_df(label, kaduna_df[name])\n",
        "      sokoto_df = create_df(label, sokoto_df[name])\n",
        "      jigawa_df = create_df(label, jigawa_df[name])\n",
        "  \n",
        "  if(level>0):\n",
        "    summary = pd.concat([edo_df,delta_df,kano_df,katsina_df,kaduna_df,sokoto_df,jigawa_df, df], axis=1)\n",
        "    summary.columns = ['Edo','Delta','Kano','Katsina','Kaduna','Sokoto','Jigawa','Total']\n",
        "    \n",
        "  if(sort==False):\n",
        "    summary['sort'] = [format(str(x)) for x in  summary.index]\n",
        "    summary =   summary.sort_values('sort').drop('sort', axis=1)\n",
        "\n",
        "  check = summary.index.isin(['nan'])\n",
        "  if(check[0]==True):\n",
        "    summary = summary.drop('nan', axis=0)\n",
        "\n",
        "  summary.to_csv('/content/drive/MyDrive/Colab Notebooks/KII Analysis/{}_Summary.csv'.format(name))\n",
        "\n",
        "  return summary"
      ]
    },
    {
      "cell_type": "markdown",
      "metadata": {
        "id": "s0eSbIkUL6OC"
      },
      "source": [
        "#**DATA WRANGLING**"
      ]
    },
    {
      "cell_type": "code",
      "execution_count": null,
      "metadata": {
        "id": "fcixxFeENEZ5"
      },
      "outputs": [],
      "source": [
        "sample_df.columns = sample_df.columns.str.upper()\n",
        "sample_df.columns"
      ]
    },
    {
      "cell_type": "markdown",
      "metadata": {
        "id": "Qzjs5_75M2vV"
      },
      "source": [
        "###**STATE STUDIED**"
      ]
    },
    {
      "cell_type": "code",
      "execution_count": null,
      "metadata": {
        "id": "OxEORProM60s"
      },
      "outputs": [],
      "source": [
        "sample_df.STATE_STUDIED.unique()"
      ]
    },
    {
      "cell_type": "code",
      "execution_count": null,
      "metadata": {
        "id": "dR249sRPL4fb"
      },
      "outputs": [],
      "source": [
        "sample_df.STATE_STUDIED = sample_df.STATE_STUDIED.str.upper()   # ensure they are all in upper case\n",
        "sample_df.STATE_STUDIED = [x.replace('STATE','').strip() for x in sample_df.STATE_STUDIED] #strip out \"STATE\" from all the text and strip out white spaces around\n",
        "sample_df.STATE_STUDIED = sample_df.STATE_STUDIED.replace('',np.nan) # convert empty spaces to nan values\n",
        "sample_df.STATE_STUDIED.value_counts()"
      ]
    },
    {
      "cell_type": "code",
      "execution_count": null,
      "metadata": {
        "id": "LduqmfHlONrh"
      },
      "outputs": [],
      "source": [
        "state_df = Create(data=sample_df, name='STATE_STUDIED', level=0)\n",
        "state_df"
      ]
    },
    {
      "cell_type": "markdown",
      "metadata": {
        "id": "1iTVRtgkTUHi"
      },
      "source": [
        "###**RESPONDENTS' AGE**"
      ]
    },
    {
      "cell_type": "code",
      "execution_count": null,
      "metadata": {
        "id": "eie-3RZ8QdTP"
      },
      "outputs": [],
      "source": [
        "sample_df.AGE.unique()\n",
        "sample_df.AGE = sample_df.AGE.str.upper()\n",
        "sample_df.AGE = sample_df.AGE.str.strip()\n",
        "sample_df.AGE = sample_df.AGE.replace('',np.nan)\n",
        "sample_df.AGE = pd.to_numeric(sample_df.AGE)\n",
        "sample_df.AGE.value_counts()"
      ]
    },
    {
      "cell_type": "code",
      "execution_count": null,
      "metadata": {
        "id": "LdrIMqm5T4_-"
      },
      "outputs": [],
      "source": [
        "age_df = Create(sample_df,'AGE',cat=True,max=int(sample_df.AGE.max()))\n",
        "age_df"
      ]
    },
    {
      "cell_type": "markdown",
      "metadata": {
        "id": "jrD5_mOYYHOl"
      },
      "source": [
        "###**RESPONDENTS' SEX**"
      ]
    },
    {
      "cell_type": "code",
      "execution_count": null,
      "metadata": {
        "id": "nNDHoVYOUPiZ"
      },
      "outputs": [],
      "source": [
        "sample_df.SEX.unique()\n",
        "sample_df.SEX = sample_df.SEX.str.upper()\n",
        "sample_df.SEX = sample_df.SEX.str.strip()\n",
        "sample_df.SEX = sample_df.SEX.replace('',np.nan)\n",
        "sample_df.SEX.value_counts()"
      ]
    },
    {
      "cell_type": "code",
      "execution_count": null,
      "metadata": {
        "id": "8uVlRW4IYdIq"
      },
      "outputs": [],
      "source": [
        "sex_df = Create(sample_df,'SEX')\n",
        "sex_df"
      ]
    },
    {
      "cell_type": "markdown",
      "metadata": {
        "id": "X8jTfx3bYp7f"
      },
      "source": [
        "###**RESPONDENTS' MARITAL STATUS**"
      ]
    },
    {
      "cell_type": "code",
      "execution_count": null,
      "metadata": {
        "id": "Y46LmjsjY49v"
      },
      "outputs": [],
      "source": [
        "sample_df.MARITAL_STATUS.unique()"
      ]
    },
    {
      "cell_type": "code",
      "execution_count": null,
      "metadata": {
        "id": "9S2Ani6GYmO3"
      },
      "outputs": [],
      "source": [
        "sample_df.MARITAL_STATUS = sample_df.MARITAL_STATUS.str.upper()\n",
        "sample_df.MARITAL_STATUS = sample_df.MARITAL_STATUS.str.strip()\n",
        "sample_df.MARITAL_STATUS = sample_df.MARITAL_STATUS.replace('',np.nan)\n",
        "sample_df.MARITAL_STATUS.value_counts()"
      ]
    },
    {
      "cell_type": "code",
      "execution_count": null,
      "metadata": {
        "id": "UlyyDCDLZJzQ"
      },
      "outputs": [],
      "source": [
        "marital_df = Create(sample_df,'MARITAL_STATUS')\n",
        "marital_df"
      ]
    },
    {
      "cell_type": "markdown",
      "metadata": {
        "id": "WvKSxrIhZZ2F"
      },
      "source": [
        "###**RESPONDENTS' DEPENDANTS**"
      ]
    },
    {
      "cell_type": "code",
      "execution_count": null,
      "metadata": {
        "colab": {
          "background_save": true
        },
        "id": "t-1QpJmRZTV3",
        "outputId": "559651fa-09be-4d2d-d749-a121b80ba669"
      },
      "outputs": [
        {
          "data": {
            "text/plain": [
              "array(['4', '3', '5', '1', '2', '6', '0', '', '7', '11', '10', '13', '8',\n",
              "       '24', '31'], dtype=object)"
            ]
          },
          "execution_count": null,
          "metadata": {},
          "output_type": "execute_result"
        }
      ],
      "source": [
        "sample_df.DEPENDANTS.unique()"
      ]
    },
    {
      "cell_type": "code",
      "execution_count": null,
      "metadata": {
        "colab": {
          "background_save": true
        },
        "id": "YeOcsduaZ3TZ",
        "outputId": "0e6555eb-d50d-46d3-81b6-7a8a3162b052"
      },
      "outputs": [
        {
          "data": {
            "text/plain": [
              "4     16\n",
              "3     12\n",
              "2     12\n",
              "1     11\n",
              "5      9\n",
              "0      6\n",
              "6      5\n",
              "7      3\n",
              "8      3\n",
              "11     2\n",
              "10     2\n",
              "13     2\n",
              "24     1\n",
              "31     1\n",
              "Name: DEPENDANTS, dtype: int64"
            ]
          },
          "execution_count": null,
          "metadata": {},
          "output_type": "execute_result"
        }
      ],
      "source": [
        "sample_df.DEPENDANTS = sample_df.DEPENDANTS.str.strip()\n",
        "sample_df.DEPENDANTS = sample_df.DEPENDANTS.replace('',np.nan) \n",
        "sample_df.DEPENDANTS.value_counts()"
      ]
    },
    {
      "cell_type": "code",
      "execution_count": null,
      "metadata": {
        "colab": {
          "background_save": true
        },
        "id": "cPIaTme6aaeu",
        "outputId": "15d6b061-2b5c-42a3-d867-0d90910a1d77"
      },
      "outputs": [
        {
          "data": {
            "text/html": [
              "\n",
              "  <div id=\"df-954a3013-46fb-4415-80b9-7baade2ef585\">\n",
              "    <div class=\"colab-df-container\">\n",
              "      <div>\n",
              "<style scoped>\n",
              "    .dataframe tbody tr th:only-of-type {\n",
              "        vertical-align: middle;\n",
              "    }\n",
              "\n",
              "    .dataframe tbody tr th {\n",
              "        vertical-align: top;\n",
              "    }\n",
              "\n",
              "    .dataframe thead th {\n",
              "        text-align: right;\n",
              "    }\n",
              "</style>\n",
              "<table border=\"1\" class=\"dataframe\">\n",
              "  <thead>\n",
              "    <tr style=\"text-align: right;\">\n",
              "      <th></th>\n",
              "      <th>Edo</th>\n",
              "      <th>Delta</th>\n",
              "      <th>Kano</th>\n",
              "      <th>Katsina</th>\n",
              "      <th>Kaduna</th>\n",
              "      <th>Sokoto</th>\n",
              "      <th>Jigawa</th>\n",
              "      <th>Total</th>\n",
              "    </tr>\n",
              "  </thead>\n",
              "  <tbody>\n",
              "    <tr>\n",
              "      <th>0</th>\n",
              "      <td>5.0</td>\n",
              "      <td>NaN</td>\n",
              "      <td>NaN</td>\n",
              "      <td>NaN</td>\n",
              "      <td>NaN</td>\n",
              "      <td>1.0</td>\n",
              "      <td>NaN</td>\n",
              "      <td>6</td>\n",
              "    </tr>\n",
              "    <tr>\n",
              "      <th>1</th>\n",
              "      <td>4.0</td>\n",
              "      <td>1.0</td>\n",
              "      <td>NaN</td>\n",
              "      <td>NaN</td>\n",
              "      <td>5.0</td>\n",
              "      <td>NaN</td>\n",
              "      <td>1.0</td>\n",
              "      <td>11</td>\n",
              "    </tr>\n",
              "    <tr>\n",
              "      <th>2</th>\n",
              "      <td>5.0</td>\n",
              "      <td>3.0</td>\n",
              "      <td>1.0</td>\n",
              "      <td>NaN</td>\n",
              "      <td>1.0</td>\n",
              "      <td>1.0</td>\n",
              "      <td>1.0</td>\n",
              "      <td>12</td>\n",
              "    </tr>\n",
              "    <tr>\n",
              "      <th>3</th>\n",
              "      <td>2.0</td>\n",
              "      <td>5.0</td>\n",
              "      <td>1.0</td>\n",
              "      <td>2.0</td>\n",
              "      <td>1.0</td>\n",
              "      <td>1.0</td>\n",
              "      <td>NaN</td>\n",
              "      <td>12</td>\n",
              "    </tr>\n",
              "    <tr>\n",
              "      <th>4</th>\n",
              "      <td>5.0</td>\n",
              "      <td>2.0</td>\n",
              "      <td>3.0</td>\n",
              "      <td>3.0</td>\n",
              "      <td>1.0</td>\n",
              "      <td>1.0</td>\n",
              "      <td>1.0</td>\n",
              "      <td>16</td>\n",
              "    </tr>\n",
              "    <tr>\n",
              "      <th>5</th>\n",
              "      <td>2.0</td>\n",
              "      <td>3.0</td>\n",
              "      <td>2.0</td>\n",
              "      <td>NaN</td>\n",
              "      <td>NaN</td>\n",
              "      <td>NaN</td>\n",
              "      <td>2.0</td>\n",
              "      <td>9</td>\n",
              "    </tr>\n",
              "    <tr>\n",
              "      <th>6</th>\n",
              "      <td>NaN</td>\n",
              "      <td>1.0</td>\n",
              "      <td>NaN</td>\n",
              "      <td>1.0</td>\n",
              "      <td>2.0</td>\n",
              "      <td>NaN</td>\n",
              "      <td>1.0</td>\n",
              "      <td>5</td>\n",
              "    </tr>\n",
              "    <tr>\n",
              "      <th>7</th>\n",
              "      <td>NaN</td>\n",
              "      <td>NaN</td>\n",
              "      <td>1.0</td>\n",
              "      <td>NaN</td>\n",
              "      <td>1.0</td>\n",
              "      <td>NaN</td>\n",
              "      <td>1.0</td>\n",
              "      <td>3</td>\n",
              "    </tr>\n",
              "    <tr>\n",
              "      <th>8</th>\n",
              "      <td>NaN</td>\n",
              "      <td>NaN</td>\n",
              "      <td>2.0</td>\n",
              "      <td>1.0</td>\n",
              "      <td>NaN</td>\n",
              "      <td>NaN</td>\n",
              "      <td>NaN</td>\n",
              "      <td>3</td>\n",
              "    </tr>\n",
              "    <tr>\n",
              "      <th>10</th>\n",
              "      <td>NaN</td>\n",
              "      <td>NaN</td>\n",
              "      <td>2.0</td>\n",
              "      <td>NaN</td>\n",
              "      <td>NaN</td>\n",
              "      <td>NaN</td>\n",
              "      <td>NaN</td>\n",
              "      <td>2</td>\n",
              "    </tr>\n",
              "    <tr>\n",
              "      <th>11</th>\n",
              "      <td>NaN</td>\n",
              "      <td>NaN</td>\n",
              "      <td>NaN</td>\n",
              "      <td>1.0</td>\n",
              "      <td>NaN</td>\n",
              "      <td>NaN</td>\n",
              "      <td>1.0</td>\n",
              "      <td>2</td>\n",
              "    </tr>\n",
              "    <tr>\n",
              "      <th>13</th>\n",
              "      <td>NaN</td>\n",
              "      <td>NaN</td>\n",
              "      <td>1.0</td>\n",
              "      <td>1.0</td>\n",
              "      <td>NaN</td>\n",
              "      <td>NaN</td>\n",
              "      <td>NaN</td>\n",
              "      <td>2</td>\n",
              "    </tr>\n",
              "    <tr>\n",
              "      <th>24</th>\n",
              "      <td>NaN</td>\n",
              "      <td>NaN</td>\n",
              "      <td>NaN</td>\n",
              "      <td>1.0</td>\n",
              "      <td>NaN</td>\n",
              "      <td>NaN</td>\n",
              "      <td>NaN</td>\n",
              "      <td>1</td>\n",
              "    </tr>\n",
              "    <tr>\n",
              "      <th>31</th>\n",
              "      <td>NaN</td>\n",
              "      <td>NaN</td>\n",
              "      <td>NaN</td>\n",
              "      <td>1.0</td>\n",
              "      <td>NaN</td>\n",
              "      <td>NaN</td>\n",
              "      <td>NaN</td>\n",
              "      <td>1</td>\n",
              "    </tr>\n",
              "  </tbody>\n",
              "</table>\n",
              "</div>\n",
              "      <button class=\"colab-df-convert\" onclick=\"convertToInteractive('df-954a3013-46fb-4415-80b9-7baade2ef585')\"\n",
              "              title=\"Convert this dataframe to an interactive table.\"\n",
              "              style=\"display:none;\">\n",
              "        \n",
              "  <svg xmlns=\"http://www.w3.org/2000/svg\" height=\"24px\"viewBox=\"0 0 24 24\"\n",
              "       width=\"24px\">\n",
              "    <path d=\"M0 0h24v24H0V0z\" fill=\"none\"/>\n",
              "    <path d=\"M18.56 5.44l.94 2.06.94-2.06 2.06-.94-2.06-.94-.94-2.06-.94 2.06-2.06.94zm-11 1L8.5 8.5l.94-2.06 2.06-.94-2.06-.94L8.5 2.5l-.94 2.06-2.06.94zm10 10l.94 2.06.94-2.06 2.06-.94-2.06-.94-.94-2.06-.94 2.06-2.06.94z\"/><path d=\"M17.41 7.96l-1.37-1.37c-.4-.4-.92-.59-1.43-.59-.52 0-1.04.2-1.43.59L10.3 9.45l-7.72 7.72c-.78.78-.78 2.05 0 2.83L4 21.41c.39.39.9.59 1.41.59.51 0 1.02-.2 1.41-.59l7.78-7.78 2.81-2.81c.8-.78.8-2.07 0-2.86zM5.41 20L4 18.59l7.72-7.72 1.47 1.35L5.41 20z\"/>\n",
              "  </svg>\n",
              "      </button>\n",
              "      \n",
              "  <style>\n",
              "    .colab-df-container {\n",
              "      display:flex;\n",
              "      flex-wrap:wrap;\n",
              "      gap: 12px;\n",
              "    }\n",
              "\n",
              "    .colab-df-convert {\n",
              "      background-color: #E8F0FE;\n",
              "      border: none;\n",
              "      border-radius: 50%;\n",
              "      cursor: pointer;\n",
              "      display: none;\n",
              "      fill: #1967D2;\n",
              "      height: 32px;\n",
              "      padding: 0 0 0 0;\n",
              "      width: 32px;\n",
              "    }\n",
              "\n",
              "    .colab-df-convert:hover {\n",
              "      background-color: #E2EBFA;\n",
              "      box-shadow: 0px 1px 2px rgba(60, 64, 67, 0.3), 0px 1px 3px 1px rgba(60, 64, 67, 0.15);\n",
              "      fill: #174EA6;\n",
              "    }\n",
              "\n",
              "    [theme=dark] .colab-df-convert {\n",
              "      background-color: #3B4455;\n",
              "      fill: #D2E3FC;\n",
              "    }\n",
              "\n",
              "    [theme=dark] .colab-df-convert:hover {\n",
              "      background-color: #434B5C;\n",
              "      box-shadow: 0px 1px 3px 1px rgba(0, 0, 0, 0.15);\n",
              "      filter: drop-shadow(0px 1px 2px rgba(0, 0, 0, 0.3));\n",
              "      fill: #FFFFFF;\n",
              "    }\n",
              "  </style>\n",
              "\n",
              "      <script>\n",
              "        const buttonEl =\n",
              "          document.querySelector('#df-954a3013-46fb-4415-80b9-7baade2ef585 button.colab-df-convert');\n",
              "        buttonEl.style.display =\n",
              "          google.colab.kernel.accessAllowed ? 'block' : 'none';\n",
              "\n",
              "        async function convertToInteractive(key) {\n",
              "          const element = document.querySelector('#df-954a3013-46fb-4415-80b9-7baade2ef585');\n",
              "          const dataTable =\n",
              "            await google.colab.kernel.invokeFunction('convertToInteractive',\n",
              "                                                     [key], {});\n",
              "          if (!dataTable) return;\n",
              "\n",
              "          const docLinkHtml = 'Like what you see? Visit the ' +\n",
              "            '<a target=\"_blank\" href=https://colab.research.google.com/notebooks/data_table.ipynb>data table notebook</a>'\n",
              "            + ' to learn more about interactive tables.';\n",
              "          element.innerHTML = '';\n",
              "          dataTable['output_type'] = 'display_data';\n",
              "          await google.colab.output.renderOutput(dataTable, element);\n",
              "          const docLink = document.createElement('div');\n",
              "          docLink.innerHTML = docLinkHtml;\n",
              "          element.appendChild(docLink);\n",
              "        }\n",
              "      </script>\n",
              "    </div>\n",
              "  </div>\n",
              "  "
            ],
            "text/plain": [
              "    Edo  Delta  Kano  Katsina  Kaduna  Sokoto  Jigawa  Total\n",
              "0   5.0    NaN   NaN      NaN     NaN     1.0     NaN      6\n",
              "1   4.0    1.0   NaN      NaN     5.0     NaN     1.0     11\n",
              "2   5.0    3.0   1.0      NaN     1.0     1.0     1.0     12\n",
              "3   2.0    5.0   1.0      2.0     1.0     1.0     NaN     12\n",
              "4   5.0    2.0   3.0      3.0     1.0     1.0     1.0     16\n",
              "5   2.0    3.0   2.0      NaN     NaN     NaN     2.0      9\n",
              "6   NaN    1.0   NaN      1.0     2.0     NaN     1.0      5\n",
              "7   NaN    NaN   1.0      NaN     1.0     NaN     1.0      3\n",
              "8   NaN    NaN   2.0      1.0     NaN     NaN     NaN      3\n",
              "10  NaN    NaN   2.0      NaN     NaN     NaN     NaN      2\n",
              "11  NaN    NaN   NaN      1.0     NaN     NaN     1.0      2\n",
              "13  NaN    NaN   1.0      1.0     NaN     NaN     NaN      2\n",
              "24  NaN    NaN   NaN      1.0     NaN     NaN     NaN      1\n",
              "31  NaN    NaN   NaN      1.0     NaN     NaN     NaN      1"
            ]
          },
          "execution_count": null,
          "metadata": {},
          "output_type": "execute_result"
        }
      ],
      "source": [
        "dep_df = Create(sample_df,'DEPENDANTS', level=1, sort=True)\n",
        "dep_df"
      ]
    },
    {
      "cell_type": "markdown",
      "metadata": {
        "id": "dv4ULUNfi5Ca"
      },
      "source": [
        "###**RESPONDENTS' EDUCATION**"
      ]
    },
    {
      "cell_type": "code",
      "execution_count": null,
      "metadata": {
        "colab": {
          "background_save": true
        },
        "id": "DwhUWSA7atXk",
        "outputId": "bf7d2d92-cb99-4838-d14d-f53a3876e054"
      },
      "outputs": [
        {
          "data": {
            "text/plain": [
              "array([\"HND or Bachelor's degree\", 'Secondary School', \"Master's degree\",\n",
              "       'Primary School', '', 'Diploma', 'None', 'Informal Schooling'],\n",
              "      dtype=object)"
            ]
          },
          "execution_count": null,
          "metadata": {},
          "output_type": "execute_result"
        }
      ],
      "source": [
        "sample_df.EDUCATION.unique()"
      ]
    },
    {
      "cell_type": "code",
      "execution_count": null,
      "metadata": {
        "colab": {
          "background_save": true
        },
        "id": "D3-hiJ4rkUa2",
        "outputId": "3b8a6217-70e8-4863-e72d-718f466a91d7"
      },
      "outputs": [
        {
          "data": {
            "text/plain": [
              "Secondary School            42\n",
              "Primary School              13\n",
              "Diploma                      9\n",
              "HND or Bachelor's degree     8\n",
              "Informal Schooling           6\n",
              "None                         2\n",
              "Master's degree              1\n",
              "Name: EDUCATION, dtype: int64"
            ]
          },
          "execution_count": null,
          "metadata": {},
          "output_type": "execute_result"
        }
      ],
      "source": [
        "sample_df.EDUCATION = sample_df.EDUCATION.str.strip()\n",
        "sample_df.EDUCATION = sample_df.EDUCATION.replace('',np.nan) \n",
        "sample_df.EDUCATION.value_counts()"
      ]
    },
    {
      "cell_type": "code",
      "execution_count": null,
      "metadata": {
        "colab": {
          "background_save": true
        },
        "id": "KTlHKAmfkiV1",
        "outputId": "d24ada61-794b-4054-cf9d-9f09452fcee7"
      },
      "outputs": [
        {
          "data": {
            "text/html": [
              "\n",
              "  <div id=\"df-37163a30-3400-4b66-b3e2-5a3d78f49b72\">\n",
              "    <div class=\"colab-df-container\">\n",
              "      <div>\n",
              "<style scoped>\n",
              "    .dataframe tbody tr th:only-of-type {\n",
              "        vertical-align: middle;\n",
              "    }\n",
              "\n",
              "    .dataframe tbody tr th {\n",
              "        vertical-align: top;\n",
              "    }\n",
              "\n",
              "    .dataframe thead th {\n",
              "        text-align: right;\n",
              "    }\n",
              "</style>\n",
              "<table border=\"1\" class=\"dataframe\">\n",
              "  <thead>\n",
              "    <tr style=\"text-align: right;\">\n",
              "      <th></th>\n",
              "      <th>Edo</th>\n",
              "      <th>Delta</th>\n",
              "      <th>Kano</th>\n",
              "      <th>Katsina</th>\n",
              "      <th>Kaduna</th>\n",
              "      <th>Sokoto</th>\n",
              "      <th>Jigawa</th>\n",
              "      <th>Total</th>\n",
              "    </tr>\n",
              "  </thead>\n",
              "  <tbody>\n",
              "    <tr>\n",
              "      <th>DIPLOMA</th>\n",
              "      <td>1.0</td>\n",
              "      <td>NaN</td>\n",
              "      <td>3.0</td>\n",
              "      <td>NaN</td>\n",
              "      <td>1.0</td>\n",
              "      <td>3.0</td>\n",
              "      <td>1.0</td>\n",
              "      <td>9</td>\n",
              "    </tr>\n",
              "    <tr>\n",
              "      <th>HND OR BACHELOR'S DEGREE</th>\n",
              "      <td>1.0</td>\n",
              "      <td>5.0</td>\n",
              "      <td>NaN</td>\n",
              "      <td>1.0</td>\n",
              "      <td>1.0</td>\n",
              "      <td>NaN</td>\n",
              "      <td>NaN</td>\n",
              "      <td>8</td>\n",
              "    </tr>\n",
              "    <tr>\n",
              "      <th>INFORMAL SCHOOLING</th>\n",
              "      <td>NaN</td>\n",
              "      <td>NaN</td>\n",
              "      <td>NaN</td>\n",
              "      <td>4.0</td>\n",
              "      <td>1.0</td>\n",
              "      <td>1.0</td>\n",
              "      <td>NaN</td>\n",
              "      <td>6</td>\n",
              "    </tr>\n",
              "    <tr>\n",
              "      <th>MASTER'S DEGREE</th>\n",
              "      <td>NaN</td>\n",
              "      <td>1.0</td>\n",
              "      <td>NaN</td>\n",
              "      <td>NaN</td>\n",
              "      <td>NaN</td>\n",
              "      <td>NaN</td>\n",
              "      <td>NaN</td>\n",
              "      <td>1</td>\n",
              "    </tr>\n",
              "    <tr>\n",
              "      <th>NONE</th>\n",
              "      <td>NaN</td>\n",
              "      <td>NaN</td>\n",
              "      <td>1.0</td>\n",
              "      <td>NaN</td>\n",
              "      <td>NaN</td>\n",
              "      <td>NaN</td>\n",
              "      <td>1.0</td>\n",
              "      <td>2</td>\n",
              "    </tr>\n",
              "    <tr>\n",
              "      <th>PRIMARY SCHOOL</th>\n",
              "      <td>2.0</td>\n",
              "      <td>2.0</td>\n",
              "      <td>3.0</td>\n",
              "      <td>2.0</td>\n",
              "      <td>1.0</td>\n",
              "      <td>1.0</td>\n",
              "      <td>2.0</td>\n",
              "      <td>13</td>\n",
              "    </tr>\n",
              "    <tr>\n",
              "      <th>SECONDARY SCHOOL</th>\n",
              "      <td>17.0</td>\n",
              "      <td>6.0</td>\n",
              "      <td>6.0</td>\n",
              "      <td>4.0</td>\n",
              "      <td>5.0</td>\n",
              "      <td>NaN</td>\n",
              "      <td>4.0</td>\n",
              "      <td>42</td>\n",
              "    </tr>\n",
              "  </tbody>\n",
              "</table>\n",
              "</div>\n",
              "      <button class=\"colab-df-convert\" onclick=\"convertToInteractive('df-37163a30-3400-4b66-b3e2-5a3d78f49b72')\"\n",
              "              title=\"Convert this dataframe to an interactive table.\"\n",
              "              style=\"display:none;\">\n",
              "        \n",
              "  <svg xmlns=\"http://www.w3.org/2000/svg\" height=\"24px\"viewBox=\"0 0 24 24\"\n",
              "       width=\"24px\">\n",
              "    <path d=\"M0 0h24v24H0V0z\" fill=\"none\"/>\n",
              "    <path d=\"M18.56 5.44l.94 2.06.94-2.06 2.06-.94-2.06-.94-.94-2.06-.94 2.06-2.06.94zm-11 1L8.5 8.5l.94-2.06 2.06-.94-2.06-.94L8.5 2.5l-.94 2.06-2.06.94zm10 10l.94 2.06.94-2.06 2.06-.94-2.06-.94-.94-2.06-.94 2.06-2.06.94z\"/><path d=\"M17.41 7.96l-1.37-1.37c-.4-.4-.92-.59-1.43-.59-.52 0-1.04.2-1.43.59L10.3 9.45l-7.72 7.72c-.78.78-.78 2.05 0 2.83L4 21.41c.39.39.9.59 1.41.59.51 0 1.02-.2 1.41-.59l7.78-7.78 2.81-2.81c.8-.78.8-2.07 0-2.86zM5.41 20L4 18.59l7.72-7.72 1.47 1.35L5.41 20z\"/>\n",
              "  </svg>\n",
              "      </button>\n",
              "      \n",
              "  <style>\n",
              "    .colab-df-container {\n",
              "      display:flex;\n",
              "      flex-wrap:wrap;\n",
              "      gap: 12px;\n",
              "    }\n",
              "\n",
              "    .colab-df-convert {\n",
              "      background-color: #E8F0FE;\n",
              "      border: none;\n",
              "      border-radius: 50%;\n",
              "      cursor: pointer;\n",
              "      display: none;\n",
              "      fill: #1967D2;\n",
              "      height: 32px;\n",
              "      padding: 0 0 0 0;\n",
              "      width: 32px;\n",
              "    }\n",
              "\n",
              "    .colab-df-convert:hover {\n",
              "      background-color: #E2EBFA;\n",
              "      box-shadow: 0px 1px 2px rgba(60, 64, 67, 0.3), 0px 1px 3px 1px rgba(60, 64, 67, 0.15);\n",
              "      fill: #174EA6;\n",
              "    }\n",
              "\n",
              "    [theme=dark] .colab-df-convert {\n",
              "      background-color: #3B4455;\n",
              "      fill: #D2E3FC;\n",
              "    }\n",
              "\n",
              "    [theme=dark] .colab-df-convert:hover {\n",
              "      background-color: #434B5C;\n",
              "      box-shadow: 0px 1px 3px 1px rgba(0, 0, 0, 0.15);\n",
              "      filter: drop-shadow(0px 1px 2px rgba(0, 0, 0, 0.3));\n",
              "      fill: #FFFFFF;\n",
              "    }\n",
              "  </style>\n",
              "\n",
              "      <script>\n",
              "        const buttonEl =\n",
              "          document.querySelector('#df-37163a30-3400-4b66-b3e2-5a3d78f49b72 button.colab-df-convert');\n",
              "        buttonEl.style.display =\n",
              "          google.colab.kernel.accessAllowed ? 'block' : 'none';\n",
              "\n",
              "        async function convertToInteractive(key) {\n",
              "          const element = document.querySelector('#df-37163a30-3400-4b66-b3e2-5a3d78f49b72');\n",
              "          const dataTable =\n",
              "            await google.colab.kernel.invokeFunction('convertToInteractive',\n",
              "                                                     [key], {});\n",
              "          if (!dataTable) return;\n",
              "\n",
              "          const docLinkHtml = 'Like what you see? Visit the ' +\n",
              "            '<a target=\"_blank\" href=https://colab.research.google.com/notebooks/data_table.ipynb>data table notebook</a>'\n",
              "            + ' to learn more about interactive tables.';\n",
              "          element.innerHTML = '';\n",
              "          dataTable['output_type'] = 'display_data';\n",
              "          await google.colab.output.renderOutput(dataTable, element);\n",
              "          const docLink = document.createElement('div');\n",
              "          docLink.innerHTML = docLinkHtml;\n",
              "          element.appendChild(docLink);\n",
              "        }\n",
              "      </script>\n",
              "    </div>\n",
              "  </div>\n",
              "  "
            ],
            "text/plain": [
              "                           Edo  Delta  Kano  Katsina  Kaduna  Sokoto  Jigawa  \\\n",
              "DIPLOMA                    1.0    NaN   3.0      NaN     1.0     3.0     1.0   \n",
              "HND OR BACHELOR'S DEGREE   1.0    5.0   NaN      1.0     1.0     NaN     NaN   \n",
              "INFORMAL SCHOOLING         NaN    NaN   NaN      4.0     1.0     1.0     NaN   \n",
              "MASTER'S DEGREE            NaN    1.0   NaN      NaN     NaN     NaN     NaN   \n",
              "NONE                       NaN    NaN   1.0      NaN     NaN     NaN     1.0   \n",
              "PRIMARY SCHOOL             2.0    2.0   3.0      2.0     1.0     1.0     2.0   \n",
              "SECONDARY SCHOOL          17.0    6.0   6.0      4.0     5.0     NaN     4.0   \n",
              "\n",
              "                          Total  \n",
              "DIPLOMA                       9  \n",
              "HND OR BACHELOR'S DEGREE      8  \n",
              "INFORMAL SCHOOLING            6  \n",
              "MASTER'S DEGREE               1  \n",
              "NONE                          2  \n",
              "PRIMARY SCHOOL               13  \n",
              "SECONDARY SCHOOL             42  "
            ]
          },
          "execution_count": null,
          "metadata": {},
          "output_type": "execute_result"
        }
      ],
      "source": [
        "edu_df = Create(sample_df,'EDUCATION')\n",
        "edu_df"
      ]
    },
    {
      "cell_type": "markdown",
      "metadata": {
        "id": "MCxSps8Sk-N6"
      },
      "source": [
        "###**RESPONDENTS' RESIDENT STATE**"
      ]
    },
    {
      "cell_type": "code",
      "execution_count": null,
      "metadata": {
        "colab": {
          "background_save": true
        },
        "id": "xLrgoqMbkv9d",
        "outputId": "65573659-4343-45b0-f064-355dd4dc4521"
      },
      "outputs": [
        {
          "data": {
            "text/plain": [
              "array(['DELTA', '', 'EDO ', 'EDO', 'EDO STATE', 'BENIN', 'IRRUA', 'AUCHI',\n",
              "       'UROMI', 'BENIN CITY', 'JIGAWA', 'KANO', 'KADUNA', 'KATSINA',\n",
              "       'KATSINA ', 'SOKOTO', 'ZAMFARA'], dtype=object)"
            ]
          },
          "execution_count": null,
          "metadata": {},
          "output_type": "execute_result"
        }
      ],
      "source": [
        "sample_df.LOCATION.unique()"
      ]
    },
    {
      "cell_type": "code",
      "execution_count": null,
      "metadata": {
        "colab": {
          "background_save": true
        },
        "id": "lqDUGqoMl1Mw"
      },
      "outputs": [],
      "source": [
        "sample_df.LOCATION = sample_df.LOCATION.replace(['DELTA', '', 'EDO ', 'EDO', 'EDO STATE', 'BENIN', 'IRRUA', 'AUCHI',\n",
        "       'UROMI', 'BENIN CITY', 'JIGAWA', 'KANO', 'KADUNA', 'KATSINA',\n",
        "       'KATSINA ', 'SOKOTO', 'ZAMFARA'],['DELTA', '', 'EDO', 'EDO', 'EDO STATE', 'EDO', 'EDO', 'EDO',\n",
        "       'EDO', 'EDO', 'JIGAWA', 'KANO', 'KADUNA', 'KATSINA',\n",
        "       'KATSINA', 'SOKOTO', 'ZAMFARA'])"
      ]
    },
    {
      "cell_type": "code",
      "execution_count": null,
      "metadata": {
        "colab": {
          "background_save": true
        },
        "id": "TKZKt2CGlPDV",
        "outputId": "46ce7a38-d90a-45f9-ff0e-71566b77aa19"
      },
      "outputs": [
        {
          "data": {
            "text/plain": [
              "EDO        24\n",
              "DELTA      14\n",
              "KANO       13\n",
              "KADUNA     13\n",
              "KATSINA    11\n",
              "JIGAWA      7\n",
              "SOKOTO      6\n",
              "ZAMFARA     1\n",
              "Name: LOCATION, dtype: int64"
            ]
          },
          "execution_count": null,
          "metadata": {},
          "output_type": "execute_result"
        }
      ],
      "source": [
        "sample_df.LOCATION = sample_df.LOCATION.str.upper()   # ensure they are all in upper case\n",
        "sample_df.LOCATION = [x.replace('STATE','').strip() for x in sample_df.LOCATION] #strip out \"STATE\" from all the text and strip out white spaces around\n",
        "sample_df.LOCATION = sample_df.LOCATION.replace('',np.nan) # convert empty spaces to nan values\n",
        "sample_df.LOCATION.value_counts()"
      ]
    },
    {
      "cell_type": "code",
      "execution_count": null,
      "metadata": {
        "colab": {
          "background_save": true
        },
        "id": "nTKmK96plf16",
        "outputId": "a608a200-e05f-453c-b1f2-f416de572604"
      },
      "outputs": [
        {
          "data": {
            "text/html": [
              "\n",
              "  <div id=\"df-c7d38f74-5f71-4162-8239-5aa5fd9e978e\">\n",
              "    <div class=\"colab-df-container\">\n",
              "      <div>\n",
              "<style scoped>\n",
              "    .dataframe tbody tr th:only-of-type {\n",
              "        vertical-align: middle;\n",
              "    }\n",
              "\n",
              "    .dataframe tbody tr th {\n",
              "        vertical-align: top;\n",
              "    }\n",
              "\n",
              "    .dataframe thead th {\n",
              "        text-align: right;\n",
              "    }\n",
              "</style>\n",
              "<table border=\"1\" class=\"dataframe\">\n",
              "  <thead>\n",
              "    <tr style=\"text-align: right;\">\n",
              "      <th></th>\n",
              "      <th>Edo</th>\n",
              "      <th>Delta</th>\n",
              "      <th>Kano</th>\n",
              "      <th>Katsina</th>\n",
              "      <th>Kaduna</th>\n",
              "      <th>Sokoto</th>\n",
              "      <th>Jigawa</th>\n",
              "      <th>Total</th>\n",
              "    </tr>\n",
              "  </thead>\n",
              "  <tbody>\n",
              "    <tr>\n",
              "      <th>DELTA</th>\n",
              "      <td>NaN</td>\n",
              "      <td>14.0</td>\n",
              "      <td>NaN</td>\n",
              "      <td>NaN</td>\n",
              "      <td>NaN</td>\n",
              "      <td>NaN</td>\n",
              "      <td>NaN</td>\n",
              "      <td>14</td>\n",
              "    </tr>\n",
              "    <tr>\n",
              "      <th>EDO</th>\n",
              "      <td>24.0</td>\n",
              "      <td>NaN</td>\n",
              "      <td>NaN</td>\n",
              "      <td>NaN</td>\n",
              "      <td>NaN</td>\n",
              "      <td>NaN</td>\n",
              "      <td>NaN</td>\n",
              "      <td>24</td>\n",
              "    </tr>\n",
              "    <tr>\n",
              "      <th>JIGAWA</th>\n",
              "      <td>NaN</td>\n",
              "      <td>NaN</td>\n",
              "      <td>NaN</td>\n",
              "      <td>NaN</td>\n",
              "      <td>NaN</td>\n",
              "      <td>NaN</td>\n",
              "      <td>7.0</td>\n",
              "      <td>7</td>\n",
              "    </tr>\n",
              "    <tr>\n",
              "      <th>KADUNA</th>\n",
              "      <td>NaN</td>\n",
              "      <td>NaN</td>\n",
              "      <td>NaN</td>\n",
              "      <td>NaN</td>\n",
              "      <td>13.0</td>\n",
              "      <td>NaN</td>\n",
              "      <td>NaN</td>\n",
              "      <td>13</td>\n",
              "    </tr>\n",
              "    <tr>\n",
              "      <th>KANO</th>\n",
              "      <td>NaN</td>\n",
              "      <td>NaN</td>\n",
              "      <td>12.0</td>\n",
              "      <td>NaN</td>\n",
              "      <td>NaN</td>\n",
              "      <td>NaN</td>\n",
              "      <td>1.0</td>\n",
              "      <td>13</td>\n",
              "    </tr>\n",
              "    <tr>\n",
              "      <th>KATSINA</th>\n",
              "      <td>NaN</td>\n",
              "      <td>NaN</td>\n",
              "      <td>NaN</td>\n",
              "      <td>11.0</td>\n",
              "      <td>NaN</td>\n",
              "      <td>NaN</td>\n",
              "      <td>NaN</td>\n",
              "      <td>11</td>\n",
              "    </tr>\n",
              "    <tr>\n",
              "      <th>SOKOTO</th>\n",
              "      <td>NaN</td>\n",
              "      <td>NaN</td>\n",
              "      <td>NaN</td>\n",
              "      <td>NaN</td>\n",
              "      <td>NaN</td>\n",
              "      <td>6.0</td>\n",
              "      <td>NaN</td>\n",
              "      <td>6</td>\n",
              "    </tr>\n",
              "    <tr>\n",
              "      <th>ZAMFARA</th>\n",
              "      <td>NaN</td>\n",
              "      <td>NaN</td>\n",
              "      <td>NaN</td>\n",
              "      <td>NaN</td>\n",
              "      <td>NaN</td>\n",
              "      <td>1.0</td>\n",
              "      <td>NaN</td>\n",
              "      <td>1</td>\n",
              "    </tr>\n",
              "  </tbody>\n",
              "</table>\n",
              "</div>\n",
              "      <button class=\"colab-df-convert\" onclick=\"convertToInteractive('df-c7d38f74-5f71-4162-8239-5aa5fd9e978e')\"\n",
              "              title=\"Convert this dataframe to an interactive table.\"\n",
              "              style=\"display:none;\">\n",
              "        \n",
              "  <svg xmlns=\"http://www.w3.org/2000/svg\" height=\"24px\"viewBox=\"0 0 24 24\"\n",
              "       width=\"24px\">\n",
              "    <path d=\"M0 0h24v24H0V0z\" fill=\"none\"/>\n",
              "    <path d=\"M18.56 5.44l.94 2.06.94-2.06 2.06-.94-2.06-.94-.94-2.06-.94 2.06-2.06.94zm-11 1L8.5 8.5l.94-2.06 2.06-.94-2.06-.94L8.5 2.5l-.94 2.06-2.06.94zm10 10l.94 2.06.94-2.06 2.06-.94-2.06-.94-.94-2.06-.94 2.06-2.06.94z\"/><path d=\"M17.41 7.96l-1.37-1.37c-.4-.4-.92-.59-1.43-.59-.52 0-1.04.2-1.43.59L10.3 9.45l-7.72 7.72c-.78.78-.78 2.05 0 2.83L4 21.41c.39.39.9.59 1.41.59.51 0 1.02-.2 1.41-.59l7.78-7.78 2.81-2.81c.8-.78.8-2.07 0-2.86zM5.41 20L4 18.59l7.72-7.72 1.47 1.35L5.41 20z\"/>\n",
              "  </svg>\n",
              "      </button>\n",
              "      \n",
              "  <style>\n",
              "    .colab-df-container {\n",
              "      display:flex;\n",
              "      flex-wrap:wrap;\n",
              "      gap: 12px;\n",
              "    }\n",
              "\n",
              "    .colab-df-convert {\n",
              "      background-color: #E8F0FE;\n",
              "      border: none;\n",
              "      border-radius: 50%;\n",
              "      cursor: pointer;\n",
              "      display: none;\n",
              "      fill: #1967D2;\n",
              "      height: 32px;\n",
              "      padding: 0 0 0 0;\n",
              "      width: 32px;\n",
              "    }\n",
              "\n",
              "    .colab-df-convert:hover {\n",
              "      background-color: #E2EBFA;\n",
              "      box-shadow: 0px 1px 2px rgba(60, 64, 67, 0.3), 0px 1px 3px 1px rgba(60, 64, 67, 0.15);\n",
              "      fill: #174EA6;\n",
              "    }\n",
              "\n",
              "    [theme=dark] .colab-df-convert {\n",
              "      background-color: #3B4455;\n",
              "      fill: #D2E3FC;\n",
              "    }\n",
              "\n",
              "    [theme=dark] .colab-df-convert:hover {\n",
              "      background-color: #434B5C;\n",
              "      box-shadow: 0px 1px 3px 1px rgba(0, 0, 0, 0.15);\n",
              "      filter: drop-shadow(0px 1px 2px rgba(0, 0, 0, 0.3));\n",
              "      fill: #FFFFFF;\n",
              "    }\n",
              "  </style>\n",
              "\n",
              "      <script>\n",
              "        const buttonEl =\n",
              "          document.querySelector('#df-c7d38f74-5f71-4162-8239-5aa5fd9e978e button.colab-df-convert');\n",
              "        buttonEl.style.display =\n",
              "          google.colab.kernel.accessAllowed ? 'block' : 'none';\n",
              "\n",
              "        async function convertToInteractive(key) {\n",
              "          const element = document.querySelector('#df-c7d38f74-5f71-4162-8239-5aa5fd9e978e');\n",
              "          const dataTable =\n",
              "            await google.colab.kernel.invokeFunction('convertToInteractive',\n",
              "                                                     [key], {});\n",
              "          if (!dataTable) return;\n",
              "\n",
              "          const docLinkHtml = 'Like what you see? Visit the ' +\n",
              "            '<a target=\"_blank\" href=https://colab.research.google.com/notebooks/data_table.ipynb>data table notebook</a>'\n",
              "            + ' to learn more about interactive tables.';\n",
              "          element.innerHTML = '';\n",
              "          dataTable['output_type'] = 'display_data';\n",
              "          await google.colab.output.renderOutput(dataTable, element);\n",
              "          const docLink = document.createElement('div');\n",
              "          docLink.innerHTML = docLinkHtml;\n",
              "          element.appendChild(docLink);\n",
              "        }\n",
              "      </script>\n",
              "    </div>\n",
              "  </div>\n",
              "  "
            ],
            "text/plain": [
              "          Edo  Delta  Kano  Katsina  Kaduna  Sokoto  Jigawa  Total\n",
              "DELTA     NaN   14.0   NaN      NaN     NaN     NaN     NaN     14\n",
              "EDO      24.0    NaN   NaN      NaN     NaN     NaN     NaN     24\n",
              "JIGAWA    NaN    NaN   NaN      NaN     NaN     NaN     7.0      7\n",
              "KADUNA    NaN    NaN   NaN      NaN    13.0     NaN     NaN     13\n",
              "KANO      NaN    NaN  12.0      NaN     NaN     NaN     1.0     13\n",
              "KATSINA   NaN    NaN   NaN     11.0     NaN     NaN     NaN     11\n",
              "SOKOTO    NaN    NaN   NaN      NaN     NaN     6.0     NaN      6\n",
              "ZAMFARA   NaN    NaN   NaN      NaN     NaN     1.0     NaN      1"
            ]
          },
          "execution_count": null,
          "metadata": {},
          "output_type": "execute_result"
        }
      ],
      "source": [
        "loc_df = Create(sample_df,'LOCATION')\n",
        "loc_df"
      ]
    },
    {
      "cell_type": "markdown",
      "metadata": {
        "id": "B7tt0kZimxoZ"
      },
      "source": [
        "###**RESPONDENTS' ORIGIN STATE**"
      ]
    },
    {
      "cell_type": "code",
      "execution_count": null,
      "metadata": {
        "colab": {
          "background_save": true
        },
        "id": "hWu1sPdTmmqu",
        "outputId": "b1e124e1-f2e7-4d17-e872-9c4354fe6c6e"
      },
      "outputs": [
        {
          "data": {
            "text/plain": [
              "array(['DELTA', 'EDO', 'IMO', 'ENUGU', 'JIGAWA', 'KANO', 'KADUNA',\n",
              "       'NIGER', 'OYO', '', 'KATSINA', 'ZAMFARA', 'SOKOTO'], dtype=object)"
            ]
          },
          "execution_count": null,
          "metadata": {},
          "output_type": "execute_result"
        }
      ],
      "source": [
        "sample_df.ORIGIN_STATE.unique()"
      ]
    },
    {
      "cell_type": "code",
      "execution_count": null,
      "metadata": {
        "colab": {
          "background_save": true
        },
        "id": "ZxAs4UANm7CG",
        "outputId": "6a3e1020-a9ce-4ef6-f2f2-c6d9df1f0dab"
      },
      "outputs": [
        {
          "data": {
            "text/plain": [
              "EDO        23\n",
              "DELTA      14\n",
              "KANO       13\n",
              "JIGAWA      9\n",
              "KADUNA      9\n",
              "KATSINA     7\n",
              "SOKOTO      7\n",
              "ENUGU       3\n",
              "IMO         2\n",
              "NIGER       1\n",
              "OYO         1\n",
              "ZAMFARA     1\n",
              "Name: ORIGIN_STATE, dtype: int64"
            ]
          },
          "execution_count": null,
          "metadata": {},
          "output_type": "execute_result"
        }
      ],
      "source": [
        "sample_df.ORIGIN_STATE = sample_df.ORIGIN_STATE.str.strip()\n",
        "sample_df.ORIGIN_STATE = sample_df.ORIGIN_STATE.replace('',np.nan) \n",
        "sample_df.ORIGIN_STATE.value_counts()"
      ]
    },
    {
      "cell_type": "code",
      "execution_count": null,
      "metadata": {
        "colab": {
          "background_save": true
        },
        "id": "dfYkgkIKnKb4",
        "outputId": "fd8d6ef2-2bb3-465f-e196-163f92b6db90"
      },
      "outputs": [
        {
          "data": {
            "text/html": [
              "\n",
              "  <div id=\"df-44cfbc37-a786-4699-a64f-5b121518b7fe\">\n",
              "    <div class=\"colab-df-container\">\n",
              "      <div>\n",
              "<style scoped>\n",
              "    .dataframe tbody tr th:only-of-type {\n",
              "        vertical-align: middle;\n",
              "    }\n",
              "\n",
              "    .dataframe tbody tr th {\n",
              "        vertical-align: top;\n",
              "    }\n",
              "\n",
              "    .dataframe thead th {\n",
              "        text-align: right;\n",
              "    }\n",
              "</style>\n",
              "<table border=\"1\" class=\"dataframe\">\n",
              "  <thead>\n",
              "    <tr style=\"text-align: right;\">\n",
              "      <th></th>\n",
              "      <th>Edo</th>\n",
              "      <th>Delta</th>\n",
              "      <th>Kano</th>\n",
              "      <th>Katsina</th>\n",
              "      <th>Kaduna</th>\n",
              "      <th>Sokoto</th>\n",
              "      <th>Jigawa</th>\n",
              "      <th>Total</th>\n",
              "    </tr>\n",
              "  </thead>\n",
              "  <tbody>\n",
              "    <tr>\n",
              "      <th>DELTA</th>\n",
              "      <td>1.0</td>\n",
              "      <td>13.0</td>\n",
              "      <td>NaN</td>\n",
              "      <td>NaN</td>\n",
              "      <td>NaN</td>\n",
              "      <td>NaN</td>\n",
              "      <td>NaN</td>\n",
              "      <td>14</td>\n",
              "    </tr>\n",
              "    <tr>\n",
              "      <th>EDO</th>\n",
              "      <td>21.0</td>\n",
              "      <td>1.0</td>\n",
              "      <td>NaN</td>\n",
              "      <td>NaN</td>\n",
              "      <td>1.0</td>\n",
              "      <td>NaN</td>\n",
              "      <td>NaN</td>\n",
              "      <td>23</td>\n",
              "    </tr>\n",
              "    <tr>\n",
              "      <th>ENUGU</th>\n",
              "      <td>1.0</td>\n",
              "      <td>NaN</td>\n",
              "      <td>NaN</td>\n",
              "      <td>NaN</td>\n",
              "      <td>2.0</td>\n",
              "      <td>NaN</td>\n",
              "      <td>NaN</td>\n",
              "      <td>3</td>\n",
              "    </tr>\n",
              "    <tr>\n",
              "      <th>IMO</th>\n",
              "      <td>1.0</td>\n",
              "      <td>1.0</td>\n",
              "      <td>NaN</td>\n",
              "      <td>NaN</td>\n",
              "      <td>NaN</td>\n",
              "      <td>NaN</td>\n",
              "      <td>NaN</td>\n",
              "      <td>2</td>\n",
              "    </tr>\n",
              "    <tr>\n",
              "      <th>JIGAWA</th>\n",
              "      <td>NaN</td>\n",
              "      <td>NaN</td>\n",
              "      <td>1.0</td>\n",
              "      <td>1.0</td>\n",
              "      <td>NaN</td>\n",
              "      <td>NaN</td>\n",
              "      <td>7.0</td>\n",
              "      <td>9</td>\n",
              "    </tr>\n",
              "    <tr>\n",
              "      <th>KADUNA</th>\n",
              "      <td>NaN</td>\n",
              "      <td>NaN</td>\n",
              "      <td>NaN</td>\n",
              "      <td>1.0</td>\n",
              "      <td>8.0</td>\n",
              "      <td>NaN</td>\n",
              "      <td>NaN</td>\n",
              "      <td>9</td>\n",
              "    </tr>\n",
              "    <tr>\n",
              "      <th>KANO</th>\n",
              "      <td>NaN</td>\n",
              "      <td>NaN</td>\n",
              "      <td>11.0</td>\n",
              "      <td>1.0</td>\n",
              "      <td>NaN</td>\n",
              "      <td>NaN</td>\n",
              "      <td>1.0</td>\n",
              "      <td>13</td>\n",
              "    </tr>\n",
              "    <tr>\n",
              "      <th>KATSINA</th>\n",
              "      <td>NaN</td>\n",
              "      <td>NaN</td>\n",
              "      <td>NaN</td>\n",
              "      <td>6.0</td>\n",
              "      <td>NaN</td>\n",
              "      <td>1.0</td>\n",
              "      <td>NaN</td>\n",
              "      <td>7</td>\n",
              "    </tr>\n",
              "    <tr>\n",
              "      <th>NIGER</th>\n",
              "      <td>NaN</td>\n",
              "      <td>NaN</td>\n",
              "      <td>NaN</td>\n",
              "      <td>NaN</td>\n",
              "      <td>1.0</td>\n",
              "      <td>NaN</td>\n",
              "      <td>NaN</td>\n",
              "      <td>1</td>\n",
              "    </tr>\n",
              "    <tr>\n",
              "      <th>OYO</th>\n",
              "      <td>NaN</td>\n",
              "      <td>NaN</td>\n",
              "      <td>NaN</td>\n",
              "      <td>NaN</td>\n",
              "      <td>1.0</td>\n",
              "      <td>NaN</td>\n",
              "      <td>NaN</td>\n",
              "      <td>1</td>\n",
              "    </tr>\n",
              "    <tr>\n",
              "      <th>SOKOTO</th>\n",
              "      <td>NaN</td>\n",
              "      <td>NaN</td>\n",
              "      <td>NaN</td>\n",
              "      <td>1.0</td>\n",
              "      <td>NaN</td>\n",
              "      <td>6.0</td>\n",
              "      <td>NaN</td>\n",
              "      <td>7</td>\n",
              "    </tr>\n",
              "    <tr>\n",
              "      <th>ZAMFARA</th>\n",
              "      <td>NaN</td>\n",
              "      <td>NaN</td>\n",
              "      <td>NaN</td>\n",
              "      <td>1.0</td>\n",
              "      <td>NaN</td>\n",
              "      <td>NaN</td>\n",
              "      <td>NaN</td>\n",
              "      <td>1</td>\n",
              "    </tr>\n",
              "  </tbody>\n",
              "</table>\n",
              "</div>\n",
              "      <button class=\"colab-df-convert\" onclick=\"convertToInteractive('df-44cfbc37-a786-4699-a64f-5b121518b7fe')\"\n",
              "              title=\"Convert this dataframe to an interactive table.\"\n",
              "              style=\"display:none;\">\n",
              "        \n",
              "  <svg xmlns=\"http://www.w3.org/2000/svg\" height=\"24px\"viewBox=\"0 0 24 24\"\n",
              "       width=\"24px\">\n",
              "    <path d=\"M0 0h24v24H0V0z\" fill=\"none\"/>\n",
              "    <path d=\"M18.56 5.44l.94 2.06.94-2.06 2.06-.94-2.06-.94-.94-2.06-.94 2.06-2.06.94zm-11 1L8.5 8.5l.94-2.06 2.06-.94-2.06-.94L8.5 2.5l-.94 2.06-2.06.94zm10 10l.94 2.06.94-2.06 2.06-.94-2.06-.94-.94-2.06-.94 2.06-2.06.94z\"/><path d=\"M17.41 7.96l-1.37-1.37c-.4-.4-.92-.59-1.43-.59-.52 0-1.04.2-1.43.59L10.3 9.45l-7.72 7.72c-.78.78-.78 2.05 0 2.83L4 21.41c.39.39.9.59 1.41.59.51 0 1.02-.2 1.41-.59l7.78-7.78 2.81-2.81c.8-.78.8-2.07 0-2.86zM5.41 20L4 18.59l7.72-7.72 1.47 1.35L5.41 20z\"/>\n",
              "  </svg>\n",
              "      </button>\n",
              "      \n",
              "  <style>\n",
              "    .colab-df-container {\n",
              "      display:flex;\n",
              "      flex-wrap:wrap;\n",
              "      gap: 12px;\n",
              "    }\n",
              "\n",
              "    .colab-df-convert {\n",
              "      background-color: #E8F0FE;\n",
              "      border: none;\n",
              "      border-radius: 50%;\n",
              "      cursor: pointer;\n",
              "      display: none;\n",
              "      fill: #1967D2;\n",
              "      height: 32px;\n",
              "      padding: 0 0 0 0;\n",
              "      width: 32px;\n",
              "    }\n",
              "\n",
              "    .colab-df-convert:hover {\n",
              "      background-color: #E2EBFA;\n",
              "      box-shadow: 0px 1px 2px rgba(60, 64, 67, 0.3), 0px 1px 3px 1px rgba(60, 64, 67, 0.15);\n",
              "      fill: #174EA6;\n",
              "    }\n",
              "\n",
              "    [theme=dark] .colab-df-convert {\n",
              "      background-color: #3B4455;\n",
              "      fill: #D2E3FC;\n",
              "    }\n",
              "\n",
              "    [theme=dark] .colab-df-convert:hover {\n",
              "      background-color: #434B5C;\n",
              "      box-shadow: 0px 1px 3px 1px rgba(0, 0, 0, 0.15);\n",
              "      filter: drop-shadow(0px 1px 2px rgba(0, 0, 0, 0.3));\n",
              "      fill: #FFFFFF;\n",
              "    }\n",
              "  </style>\n",
              "\n",
              "      <script>\n",
              "        const buttonEl =\n",
              "          document.querySelector('#df-44cfbc37-a786-4699-a64f-5b121518b7fe button.colab-df-convert');\n",
              "        buttonEl.style.display =\n",
              "          google.colab.kernel.accessAllowed ? 'block' : 'none';\n",
              "\n",
              "        async function convertToInteractive(key) {\n",
              "          const element = document.querySelector('#df-44cfbc37-a786-4699-a64f-5b121518b7fe');\n",
              "          const dataTable =\n",
              "            await google.colab.kernel.invokeFunction('convertToInteractive',\n",
              "                                                     [key], {});\n",
              "          if (!dataTable) return;\n",
              "\n",
              "          const docLinkHtml = 'Like what you see? Visit the ' +\n",
              "            '<a target=\"_blank\" href=https://colab.research.google.com/notebooks/data_table.ipynb>data table notebook</a>'\n",
              "            + ' to learn more about interactive tables.';\n",
              "          element.innerHTML = '';\n",
              "          dataTable['output_type'] = 'display_data';\n",
              "          await google.colab.output.renderOutput(dataTable, element);\n",
              "          const docLink = document.createElement('div');\n",
              "          docLink.innerHTML = docLinkHtml;\n",
              "          element.appendChild(docLink);\n",
              "        }\n",
              "      </script>\n",
              "    </div>\n",
              "  </div>\n",
              "  "
            ],
            "text/plain": [
              "          Edo  Delta  Kano  Katsina  Kaduna  Sokoto  Jigawa  Total\n",
              "DELTA     1.0   13.0   NaN      NaN     NaN     NaN     NaN     14\n",
              "EDO      21.0    1.0   NaN      NaN     1.0     NaN     NaN     23\n",
              "ENUGU     1.0    NaN   NaN      NaN     2.0     NaN     NaN      3\n",
              "IMO       1.0    1.0   NaN      NaN     NaN     NaN     NaN      2\n",
              "JIGAWA    NaN    NaN   1.0      1.0     NaN     NaN     7.0      9\n",
              "KADUNA    NaN    NaN   NaN      1.0     8.0     NaN     NaN      9\n",
              "KANO      NaN    NaN  11.0      1.0     NaN     NaN     1.0     13\n",
              "KATSINA   NaN    NaN   NaN      6.0     NaN     1.0     NaN      7\n",
              "NIGER     NaN    NaN   NaN      NaN     1.0     NaN     NaN      1\n",
              "OYO       NaN    NaN   NaN      NaN     1.0     NaN     NaN      1\n",
              "SOKOTO    NaN    NaN   NaN      1.0     NaN     6.0     NaN      7\n",
              "ZAMFARA   NaN    NaN   NaN      1.0     NaN     NaN     NaN      1"
            ]
          },
          "execution_count": null,
          "metadata": {},
          "output_type": "execute_result"
        }
      ],
      "source": [
        "origin_df = Create(sample_df,'ORIGIN_STATE')\n",
        "origin_df"
      ]
    },
    {
      "cell_type": "markdown",
      "metadata": {
        "id": "vL_LpVeInYvV"
      },
      "source": [
        "###**RESPONDENTS' COUNTRY OF ORIGIN**"
      ]
    },
    {
      "cell_type": "code",
      "execution_count": null,
      "metadata": {
        "colab": {
          "background_save": true
        },
        "id": "VNbqEG-knUSo",
        "outputId": "e27cd1c0-41d2-4419-809c-a64814e4d3a0"
      },
      "outputs": [
        {
          "data": {
            "text/plain": [
              "array(['NIGERIA', '', ' NIGERIA'], dtype=object)"
            ]
          },
          "execution_count": null,
          "metadata": {},
          "output_type": "execute_result"
        }
      ],
      "source": [
        "sample_df.COUNTRY.unique()"
      ]
    },
    {
      "cell_type": "code",
      "execution_count": null,
      "metadata": {
        "colab": {
          "background_save": true
        },
        "id": "CjAKSlDcnkuD",
        "outputId": "fcc91b6e-7ddc-47ec-e876-8704c264c0c1"
      },
      "outputs": [
        {
          "data": {
            "text/plain": [
              "NIGERIA    90\n",
              "Name: COUNTRY, dtype: int64"
            ]
          },
          "execution_count": null,
          "metadata": {},
          "output_type": "execute_result"
        }
      ],
      "source": [
        "sample_df.COUNTRY = sample_df.COUNTRY.str.strip()\n",
        "sample_df.COUNTRY = sample_df.COUNTRY.replace('',np.nan) \n",
        "sample_df.COUNTRY.value_counts()"
      ]
    },
    {
      "cell_type": "code",
      "execution_count": null,
      "metadata": {
        "colab": {
          "background_save": true
        },
        "id": "3PXqVLYqnwA1",
        "outputId": "5971e1f8-c5c2-46fe-d63b-43dabecb3e88"
      },
      "outputs": [
        {
          "data": {
            "text/html": [
              "\n",
              "  <div id=\"df-43eee151-6739-4ce8-927c-d640233cd80d\">\n",
              "    <div class=\"colab-df-container\">\n",
              "      <div>\n",
              "<style scoped>\n",
              "    .dataframe tbody tr th:only-of-type {\n",
              "        vertical-align: middle;\n",
              "    }\n",
              "\n",
              "    .dataframe tbody tr th {\n",
              "        vertical-align: top;\n",
              "    }\n",
              "\n",
              "    .dataframe thead th {\n",
              "        text-align: right;\n",
              "    }\n",
              "</style>\n",
              "<table border=\"1\" class=\"dataframe\">\n",
              "  <thead>\n",
              "    <tr style=\"text-align: right;\">\n",
              "      <th></th>\n",
              "      <th>Edo</th>\n",
              "      <th>Delta</th>\n",
              "      <th>Kano</th>\n",
              "      <th>Katsina</th>\n",
              "      <th>Kaduna</th>\n",
              "      <th>Sokoto</th>\n",
              "      <th>Jigawa</th>\n",
              "      <th>Total</th>\n",
              "    </tr>\n",
              "  </thead>\n",
              "  <tbody>\n",
              "    <tr>\n",
              "      <th>NIGERIA</th>\n",
              "      <td>24</td>\n",
              "      <td>15</td>\n",
              "      <td>12</td>\n",
              "      <td>11</td>\n",
              "      <td>13</td>\n",
              "      <td>7</td>\n",
              "      <td>8</td>\n",
              "      <td>90</td>\n",
              "    </tr>\n",
              "  </tbody>\n",
              "</table>\n",
              "</div>\n",
              "      <button class=\"colab-df-convert\" onclick=\"convertToInteractive('df-43eee151-6739-4ce8-927c-d640233cd80d')\"\n",
              "              title=\"Convert this dataframe to an interactive table.\"\n",
              "              style=\"display:none;\">\n",
              "        \n",
              "  <svg xmlns=\"http://www.w3.org/2000/svg\" height=\"24px\"viewBox=\"0 0 24 24\"\n",
              "       width=\"24px\">\n",
              "    <path d=\"M0 0h24v24H0V0z\" fill=\"none\"/>\n",
              "    <path d=\"M18.56 5.44l.94 2.06.94-2.06 2.06-.94-2.06-.94-.94-2.06-.94 2.06-2.06.94zm-11 1L8.5 8.5l.94-2.06 2.06-.94-2.06-.94L8.5 2.5l-.94 2.06-2.06.94zm10 10l.94 2.06.94-2.06 2.06-.94-2.06-.94-.94-2.06-.94 2.06-2.06.94z\"/><path d=\"M17.41 7.96l-1.37-1.37c-.4-.4-.92-.59-1.43-.59-.52 0-1.04.2-1.43.59L10.3 9.45l-7.72 7.72c-.78.78-.78 2.05 0 2.83L4 21.41c.39.39.9.59 1.41.59.51 0 1.02-.2 1.41-.59l7.78-7.78 2.81-2.81c.8-.78.8-2.07 0-2.86zM5.41 20L4 18.59l7.72-7.72 1.47 1.35L5.41 20z\"/>\n",
              "  </svg>\n",
              "      </button>\n",
              "      \n",
              "  <style>\n",
              "    .colab-df-container {\n",
              "      display:flex;\n",
              "      flex-wrap:wrap;\n",
              "      gap: 12px;\n",
              "    }\n",
              "\n",
              "    .colab-df-convert {\n",
              "      background-color: #E8F0FE;\n",
              "      border: none;\n",
              "      border-radius: 50%;\n",
              "      cursor: pointer;\n",
              "      display: none;\n",
              "      fill: #1967D2;\n",
              "      height: 32px;\n",
              "      padding: 0 0 0 0;\n",
              "      width: 32px;\n",
              "    }\n",
              "\n",
              "    .colab-df-convert:hover {\n",
              "      background-color: #E2EBFA;\n",
              "      box-shadow: 0px 1px 2px rgba(60, 64, 67, 0.3), 0px 1px 3px 1px rgba(60, 64, 67, 0.15);\n",
              "      fill: #174EA6;\n",
              "    }\n",
              "\n",
              "    [theme=dark] .colab-df-convert {\n",
              "      background-color: #3B4455;\n",
              "      fill: #D2E3FC;\n",
              "    }\n",
              "\n",
              "    [theme=dark] .colab-df-convert:hover {\n",
              "      background-color: #434B5C;\n",
              "      box-shadow: 0px 1px 3px 1px rgba(0, 0, 0, 0.15);\n",
              "      filter: drop-shadow(0px 1px 2px rgba(0, 0, 0, 0.3));\n",
              "      fill: #FFFFFF;\n",
              "    }\n",
              "  </style>\n",
              "\n",
              "      <script>\n",
              "        const buttonEl =\n",
              "          document.querySelector('#df-43eee151-6739-4ce8-927c-d640233cd80d button.colab-df-convert');\n",
              "        buttonEl.style.display =\n",
              "          google.colab.kernel.accessAllowed ? 'block' : 'none';\n",
              "\n",
              "        async function convertToInteractive(key) {\n",
              "          const element = document.querySelector('#df-43eee151-6739-4ce8-927c-d640233cd80d');\n",
              "          const dataTable =\n",
              "            await google.colab.kernel.invokeFunction('convertToInteractive',\n",
              "                                                     [key], {});\n",
              "          if (!dataTable) return;\n",
              "\n",
              "          const docLinkHtml = 'Like what you see? Visit the ' +\n",
              "            '<a target=\"_blank\" href=https://colab.research.google.com/notebooks/data_table.ipynb>data table notebook</a>'\n",
              "            + ' to learn more about interactive tables.';\n",
              "          element.innerHTML = '';\n",
              "          dataTable['output_type'] = 'display_data';\n",
              "          await google.colab.output.renderOutput(dataTable, element);\n",
              "          const docLink = document.createElement('div');\n",
              "          docLink.innerHTML = docLinkHtml;\n",
              "          element.appendChild(docLink);\n",
              "        }\n",
              "      </script>\n",
              "    </div>\n",
              "  </div>\n",
              "  "
            ],
            "text/plain": [
              "         Edo  Delta  Kano  Katsina  Kaduna  Sokoto  Jigawa  Total\n",
              "NIGERIA   24     15    12       11      13       7       8     90"
            ]
          },
          "execution_count": null,
          "metadata": {},
          "output_type": "execute_result"
        }
      ],
      "source": [
        "country_df = Create(sample_df,'COUNTRY')\n",
        "country_df"
      ]
    },
    {
      "cell_type": "markdown",
      "metadata": {
        "id": "g64-XQI9n5RV"
      },
      "source": [
        "###**RESPONDENTS' JOB STATUS**"
      ]
    },
    {
      "cell_type": "code",
      "execution_count": null,
      "metadata": {
        "colab": {
          "background_save": true
        },
        "id": "A20_7FDqn3yI",
        "outputId": "45f6d72b-7731-4d6c-c38a-e81c10b32bb9"
      },
      "outputs": [
        {
          "data": {
            "text/plain": [
              "array(['Self-employed', 'Not Working', 'Working', 'Seeking for Job'],\n",
              "      dtype=object)"
            ]
          },
          "execution_count": null,
          "metadata": {},
          "output_type": "execute_result"
        }
      ],
      "source": [
        "sample_df.JOB_STATUS.unique()"
      ]
    },
    {
      "cell_type": "code",
      "execution_count": null,
      "metadata": {
        "colab": {
          "background_save": true
        },
        "id": "E34j0SPjoJWI",
        "outputId": "07064179-2c4e-497d-e7a8-bc9991f695b6"
      },
      "outputs": [
        {
          "data": {
            "text/plain": [
              "Self-employed      61\n",
              "Seeking for Job    15\n",
              "Not Working         8\n",
              "Working             7\n",
              "Name: JOB_STATUS, dtype: int64"
            ]
          },
          "execution_count": null,
          "metadata": {},
          "output_type": "execute_result"
        }
      ],
      "source": [
        "sample_df.JOB_STATUS = sample_df.JOB_STATUS.str.strip()\n",
        "sample_df.JOB_STATUS = sample_df.JOB_STATUS.replace('',np.nan) \n",
        "sample_df.JOB_STATUS.value_counts()"
      ]
    },
    {
      "cell_type": "code",
      "execution_count": null,
      "metadata": {
        "colab": {
          "background_save": true
        },
        "id": "6p1Kd9szoRum",
        "outputId": "88f43f5b-5526-4116-eb9f-0d46ea4ca71e"
      },
      "outputs": [
        {
          "data": {
            "text/html": [
              "\n",
              "  <div id=\"df-f38670d0-bab1-451c-ab5d-1244a6c17a56\">\n",
              "    <div class=\"colab-df-container\">\n",
              "      <div>\n",
              "<style scoped>\n",
              "    .dataframe tbody tr th:only-of-type {\n",
              "        vertical-align: middle;\n",
              "    }\n",
              "\n",
              "    .dataframe tbody tr th {\n",
              "        vertical-align: top;\n",
              "    }\n",
              "\n",
              "    .dataframe thead th {\n",
              "        text-align: right;\n",
              "    }\n",
              "</style>\n",
              "<table border=\"1\" class=\"dataframe\">\n",
              "  <thead>\n",
              "    <tr style=\"text-align: right;\">\n",
              "      <th></th>\n",
              "      <th>Edo</th>\n",
              "      <th>Delta</th>\n",
              "      <th>Kano</th>\n",
              "      <th>Katsina</th>\n",
              "      <th>Kaduna</th>\n",
              "      <th>Sokoto</th>\n",
              "      <th>Jigawa</th>\n",
              "      <th>Total</th>\n",
              "    </tr>\n",
              "  </thead>\n",
              "  <tbody>\n",
              "    <tr>\n",
              "      <th>NOT WORKING</th>\n",
              "      <td>1</td>\n",
              "      <td>5.0</td>\n",
              "      <td>NaN</td>\n",
              "      <td>NaN</td>\n",
              "      <td>NaN</td>\n",
              "      <td>1.0</td>\n",
              "      <td>1.0</td>\n",
              "      <td>8</td>\n",
              "    </tr>\n",
              "    <tr>\n",
              "      <th>SEEKING FOR JOB</th>\n",
              "      <td>4</td>\n",
              "      <td>NaN</td>\n",
              "      <td>NaN</td>\n",
              "      <td>2.0</td>\n",
              "      <td>7.0</td>\n",
              "      <td>2.0</td>\n",
              "      <td>NaN</td>\n",
              "      <td>15</td>\n",
              "    </tr>\n",
              "    <tr>\n",
              "      <th>SELF-EMPLOYED</th>\n",
              "      <td>16</td>\n",
              "      <td>9.0</td>\n",
              "      <td>13.0</td>\n",
              "      <td>8.0</td>\n",
              "      <td>4.0</td>\n",
              "      <td>4.0</td>\n",
              "      <td>7.0</td>\n",
              "      <td>61</td>\n",
              "    </tr>\n",
              "    <tr>\n",
              "      <th>WORKING</th>\n",
              "      <td>3</td>\n",
              "      <td>1.0</td>\n",
              "      <td>NaN</td>\n",
              "      <td>1.0</td>\n",
              "      <td>2.0</td>\n",
              "      <td>NaN</td>\n",
              "      <td>NaN</td>\n",
              "      <td>7</td>\n",
              "    </tr>\n",
              "  </tbody>\n",
              "</table>\n",
              "</div>\n",
              "      <button class=\"colab-df-convert\" onclick=\"convertToInteractive('df-f38670d0-bab1-451c-ab5d-1244a6c17a56')\"\n",
              "              title=\"Convert this dataframe to an interactive table.\"\n",
              "              style=\"display:none;\">\n",
              "        \n",
              "  <svg xmlns=\"http://www.w3.org/2000/svg\" height=\"24px\"viewBox=\"0 0 24 24\"\n",
              "       width=\"24px\">\n",
              "    <path d=\"M0 0h24v24H0V0z\" fill=\"none\"/>\n",
              "    <path d=\"M18.56 5.44l.94 2.06.94-2.06 2.06-.94-2.06-.94-.94-2.06-.94 2.06-2.06.94zm-11 1L8.5 8.5l.94-2.06 2.06-.94-2.06-.94L8.5 2.5l-.94 2.06-2.06.94zm10 10l.94 2.06.94-2.06 2.06-.94-2.06-.94-.94-2.06-.94 2.06-2.06.94z\"/><path d=\"M17.41 7.96l-1.37-1.37c-.4-.4-.92-.59-1.43-.59-.52 0-1.04.2-1.43.59L10.3 9.45l-7.72 7.72c-.78.78-.78 2.05 0 2.83L4 21.41c.39.39.9.59 1.41.59.51 0 1.02-.2 1.41-.59l7.78-7.78 2.81-2.81c.8-.78.8-2.07 0-2.86zM5.41 20L4 18.59l7.72-7.72 1.47 1.35L5.41 20z\"/>\n",
              "  </svg>\n",
              "      </button>\n",
              "      \n",
              "  <style>\n",
              "    .colab-df-container {\n",
              "      display:flex;\n",
              "      flex-wrap:wrap;\n",
              "      gap: 12px;\n",
              "    }\n",
              "\n",
              "    .colab-df-convert {\n",
              "      background-color: #E8F0FE;\n",
              "      border: none;\n",
              "      border-radius: 50%;\n",
              "      cursor: pointer;\n",
              "      display: none;\n",
              "      fill: #1967D2;\n",
              "      height: 32px;\n",
              "      padding: 0 0 0 0;\n",
              "      width: 32px;\n",
              "    }\n",
              "\n",
              "    .colab-df-convert:hover {\n",
              "      background-color: #E2EBFA;\n",
              "      box-shadow: 0px 1px 2px rgba(60, 64, 67, 0.3), 0px 1px 3px 1px rgba(60, 64, 67, 0.15);\n",
              "      fill: #174EA6;\n",
              "    }\n",
              "\n",
              "    [theme=dark] .colab-df-convert {\n",
              "      background-color: #3B4455;\n",
              "      fill: #D2E3FC;\n",
              "    }\n",
              "\n",
              "    [theme=dark] .colab-df-convert:hover {\n",
              "      background-color: #434B5C;\n",
              "      box-shadow: 0px 1px 3px 1px rgba(0, 0, 0, 0.15);\n",
              "      filter: drop-shadow(0px 1px 2px rgba(0, 0, 0, 0.3));\n",
              "      fill: #FFFFFF;\n",
              "    }\n",
              "  </style>\n",
              "\n",
              "      <script>\n",
              "        const buttonEl =\n",
              "          document.querySelector('#df-f38670d0-bab1-451c-ab5d-1244a6c17a56 button.colab-df-convert');\n",
              "        buttonEl.style.display =\n",
              "          google.colab.kernel.accessAllowed ? 'block' : 'none';\n",
              "\n",
              "        async function convertToInteractive(key) {\n",
              "          const element = document.querySelector('#df-f38670d0-bab1-451c-ab5d-1244a6c17a56');\n",
              "          const dataTable =\n",
              "            await google.colab.kernel.invokeFunction('convertToInteractive',\n",
              "                                                     [key], {});\n",
              "          if (!dataTable) return;\n",
              "\n",
              "          const docLinkHtml = 'Like what you see? Visit the ' +\n",
              "            '<a target=\"_blank\" href=https://colab.research.google.com/notebooks/data_table.ipynb>data table notebook</a>'\n",
              "            + ' to learn more about interactive tables.';\n",
              "          element.innerHTML = '';\n",
              "          dataTable['output_type'] = 'display_data';\n",
              "          await google.colab.output.renderOutput(dataTable, element);\n",
              "          const docLink = document.createElement('div');\n",
              "          docLink.innerHTML = docLinkHtml;\n",
              "          element.appendChild(docLink);\n",
              "        }\n",
              "      </script>\n",
              "    </div>\n",
              "  </div>\n",
              "  "
            ],
            "text/plain": [
              "                 Edo  Delta  Kano  Katsina  Kaduna  Sokoto  Jigawa  Total\n",
              "NOT WORKING        1    5.0   NaN      NaN     NaN     1.0     1.0      8\n",
              "SEEKING FOR JOB    4    NaN   NaN      2.0     7.0     2.0     NaN     15\n",
              "SELF-EMPLOYED     16    9.0  13.0      8.0     4.0     4.0     7.0     61\n",
              "WORKING            3    1.0   NaN      1.0     2.0     NaN     NaN      7"
            ]
          },
          "execution_count": null,
          "metadata": {},
          "output_type": "execute_result"
        }
      ],
      "source": [
        "job_df = Create(sample_df,'JOB_STATUS')\n",
        "job_df"
      ]
    },
    {
      "cell_type": "markdown",
      "metadata": {
        "id": "80DFsuc3offK"
      },
      "source": [
        "###**RESPONDENTS' OCCUPATION**"
      ]
    },
    {
      "cell_type": "code",
      "execution_count": null,
      "metadata": {
        "colab": {
          "background_save": true
        },
        "id": "Lgak-lifoZoo",
        "outputId": "cb85ac9e-ef1c-4f57-b38e-864dc9c36e13"
      },
      "outputs": [
        {
          "data": {
            "text/plain": [
              "array(['BARBER', 'TRADER', 'TAILOR', 'PROVISION', 'BUSINESS', '', 'ACTOR',\n",
              "       'CIVIL SERVANT', 'POS BUSINESS', 'FASHION DESIGNER', 'NOTHING ',\n",
              "       'PHARMACY', 'CARPENTARY/TILING', 'SALES REP',\n",
              "       'AUTOMOBILE ENGINEERING ', 'STORE KEEPER IN AN ORGANIZATION',\n",
              "       'SALES OF PROVISION', 'HAIR DRESSER', 'PHOTOGRAPHER/VIDEOGRAPHER',\n",
              "       'WELDING', 'RUN  A BOUTIQUE', 'CLOTHESE SALES (BOUTIQUE)',\n",
              "       'FULL HOUSE WIFE', 'CARPENTER', 'BARBAR', 'BRICK LAYER',\n",
              "       'PASTORING', 'TRADING', 'LOCAL STARTCH SUPPLIER',\n",
              "       'SELLING WRAPPER', 'MECHANIC', 'TAILORING', 'OKADA', 'SALES HELP',\n",
              "       'CAPENTER', 'FARMING', 'SELLING PHONE AND ACCESSORIES', 'OIL',\n",
              "       'DRIVER', 'SEWING', 'MARKETER', 'RESTURANT ATTENDANT', 'MARCHANT',\n",
              "       'PETTY TRADING', 'DEALER OF USED CLOTHS', 'SELLING FOOD'],\n",
              "      dtype=object)"
            ]
          },
          "execution_count": null,
          "metadata": {},
          "output_type": "execute_result"
        }
      ],
      "source": [
        "sample_df.OCCUPATION.unique()"
      ]
    },
    {
      "cell_type": "code",
      "execution_count": null,
      "metadata": {
        "colab": {
          "background_save": true
        },
        "id": "3mEJ4grAornH",
        "outputId": "bdefaf37-a012-44c6-fec5-bcc90f9e7fb2"
      },
      "outputs": [
        {
          "data": {
            "text/plain": [
              "BUSINESS                           23\n",
              "TRADER                              5\n",
              "SALES REP                           2\n",
              "PETTY TRADING                       2\n",
              "CIVIL SERVANT                       2\n",
              "DRIVER                              2\n",
              "HAIR DRESSER                        2\n",
              "CAPENTER                            1\n",
              "LOCAL STARTCH SUPPLIER              1\n",
              "SELLING WRAPPER                     1\n",
              "MECHANIC                            1\n",
              "TAILORING                           1\n",
              "OKADA                               1\n",
              "SALES HELP                          1\n",
              "BARBER                              1\n",
              "FARMING                             1\n",
              "SELLING PHONE AND ACCESSORIES       1\n",
              "PASTORING                           1\n",
              "OIL                                 1\n",
              "SEWING                              1\n",
              "MARKETER                            1\n",
              "RESTURANT ATTENDANT                 1\n",
              "MARCHANT                            1\n",
              "DEALER OF USED CLOTHS               1\n",
              "TRADING                             1\n",
              "CARPENTER                           1\n",
              "BRICK LAYER                         1\n",
              "CARPENTARY/TILING                   1\n",
              "TAILOR                              1\n",
              "PROVISION                           1\n",
              "ACTOR                               1\n",
              "POS BUSINESS                        1\n",
              "FASHION DESIGNER                    1\n",
              "NOTHING                             1\n",
              "PHARMACY                            1\n",
              "AUTOMOBILE ENGINEERING              1\n",
              "BARBAR                              1\n",
              "STORE KEEPER IN AN ORGANIZATION     1\n",
              "SALES OF PROVISION                  1\n",
              "PHOTOGRAPHER/VIDEOGRAPHER           1\n",
              "WELDING                             1\n",
              "RUN  A BOUTIQUE                     1\n",
              "CLOTHESE SALES (BOUTIQUE)           1\n",
              "FULL HOUSE WIFE                     1\n",
              "SELLING FOOD                        1\n",
              "Name: OCCUPATION, dtype: int64"
            ]
          },
          "execution_count": null,
          "metadata": {},
          "output_type": "execute_result"
        }
      ],
      "source": [
        "sample_df.OCCUPATION = sample_df.OCCUPATION.str.strip()\n",
        "sample_df.OCCUPATION = sample_df.OCCUPATION.replace('',np.nan) \n",
        "sample_df.OCCUPATION.value_counts()"
      ]
    },
    {
      "cell_type": "code",
      "execution_count": null,
      "metadata": {
        "colab": {
          "background_save": true
        },
        "id": "1wnNUqEhorcB",
        "outputId": "84e27cbe-fb7b-456f-a62f-ae5fe78e1929"
      },
      "outputs": [
        {
          "data": {
            "text/plain": [
              "array(['BARBER', 'TRADER', 'TAILOR', 'PROVISION', 'BUSINESS', nan,\n",
              "       'ACTOR', 'CIVIL SERVANT', 'POS BUSINESS', 'FASHION DESIGNER',\n",
              "       'NOTHING', 'PHARMACY', 'CARPENTARY/TILING', 'SALES REP',\n",
              "       'AUTOMOBILE ENGINEERING', 'STORE KEEPER IN AN ORGANIZATION',\n",
              "       'SALES OF PROVISION', 'HAIR DRESSER', 'PHOTOGRAPHER/VIDEOGRAPHER',\n",
              "       'WELDING', 'RUN  A BOUTIQUE', 'CLOTHESE SALES (BOUTIQUE)',\n",
              "       'FULL HOUSE WIFE', 'CARPENTER', 'BARBAR', 'BRICK LAYER',\n",
              "       'PASTORING', 'TRADING', 'LOCAL STARTCH SUPPLIER',\n",
              "       'SELLING WRAPPER', 'MECHANIC', 'TAILORING', 'OKADA', 'SALES HELP',\n",
              "       'CAPENTER', 'FARMING', 'SELLING PHONE AND ACCESSORIES', 'OIL',\n",
              "       'DRIVER', 'SEWING', 'MARKETER', 'RESTURANT ATTENDANT', 'MARCHANT',\n",
              "       'PETTY TRADING', 'DEALER OF USED CLOTHS', 'SELLING FOOD'],\n",
              "      dtype=object)"
            ]
          },
          "execution_count": null,
          "metadata": {},
          "output_type": "execute_result"
        }
      ],
      "source": [
        "sample_df['OCCUPATION_CLASS'] = sample_df.OCCUPATION\n",
        "sample_df['OCCUPATION_CLASS'].unique()"
      ]
    },
    {
      "cell_type": "code",
      "execution_count": null,
      "metadata": {
        "colab": {
          "background_save": true
        },
        "id": "xZj2oYNbqg-8"
      },
      "outputs": [],
      "source": [
        "words = ['BARBER', 'TRADER', 'TAILOR', 'PROVISION', 'BUSINESS',\n",
        "       'ACTOR', 'CIVIL SERVANT', 'POS BUSINESS', 'FASHION DESIGNER',\n",
        "       'NOTHING', 'PHARMACY', 'CARPENTARY/TILING', 'SALES REP',\n",
        "       'AUTOMOBILE ENGINEERING', 'STORE KEEPER IN AN ORGANIZATION',\n",
        "       'SALES OF PROVISION', 'HAIR DRESSER', 'PHOTOGRAPHER/VIDEOGRAPHER',\n",
        "       'WELDING', 'RUN  A BOUTIQUE', 'CLOTHESE SALES (BOUTIQUE)',\n",
        "       'FULL HOUSE WIFE', 'CARPENTER', 'BARBAR', 'BRICK LAYER',\n",
        "       'PASTORING', 'TRADING', 'LOCAL STARTCH SUPPLIER',\n",
        "       'SELLING WRAPPER', 'MECHANIC', 'TAILORING', 'OKADA', 'SALES HELP',\n",
        "       'CAPENTER', 'FARMING', 'SELLING PHONE AND ACCESSORIES', 'OIL',\n",
        "       'DRIVER', 'SEWING', 'MARKETER', 'RESTURANT ATTENDANT', 'MARCHANT',\n",
        "       'PETTY TRADING', 'DEALER OF USED CLOTHS', 'SELLING FOOD']\n",
        "grouped = ['CRAFT', 'TRADER', 'CRAFT', 'TRADER', 'TRADER',\n",
        "       'PROFESSIONAL', 'PROFESSIONAL', 'SERVICE', 'CRAFT',\n",
        "       'NOTHING', 'PROFESSIONAL', 'CRAFT', 'SALES',\n",
        "       'ASSOCIATE PROFESSIONAL', 'ASSOCIATE PROFESSIONAL',\n",
        "       'SALES', 'CRAFT', 'PROFESSIONAL',\n",
        "       'CRAFT', 'TRADER', 'TRADER',\n",
        "       'ELEMENTARY', 'CRAFT', 'CRAFT', 'CRAFT',\n",
        "       'CLERK', 'TRADER', 'SALES',\n",
        "       'TRADER', 'TECHNICIAN', 'CRAFT', 'SERVICE', 'SALES',\n",
        "       'CRAFT', 'AGRICULTURAL', 'TRADER', 'TRADER',\n",
        "       'SERVICE', 'CRAFT', 'SALES', 'SALES', 'TRADER',\n",
        "       'TRADER', 'TRADER', 'TRADER']\n",
        "sample_df.OCCUPATION_CLASS = sample_df.OCCUPATION_CLASS.replace(words,grouped)"
      ]
    },
    {
      "cell_type": "code",
      "execution_count": null,
      "metadata": {
        "colab": {
          "background_save": true
        },
        "id": "2vvLrrzhqguV",
        "outputId": "c54bb70c-3b2a-4424-96f7-d71eb550ae87"
      },
      "outputs": [
        {
          "data": {
            "text/plain": [
              "TRADER                    40\n",
              "CRAFT                     13\n",
              "SALES                      7\n",
              "PROFESSIONAL               5\n",
              "SERVICE                    4\n",
              "ASSOCIATE PROFESSIONAL     2\n",
              "NOTHING                    1\n",
              "ELEMENTARY                 1\n",
              "CLERK                      1\n",
              "TECHNICIAN                 1\n",
              "AGRICULTURAL               1\n",
              "Name: OCCUPATION_CLASS, dtype: int64"
            ]
          },
          "execution_count": null,
          "metadata": {},
          "output_type": "execute_result"
        }
      ],
      "source": [
        "sample_df.OCCUPATION_CLASS = sample_df.OCCUPATION_CLASS.str.strip()\n",
        "sample_df.OCCUPATION_CLASS = sample_df.OCCUPATION_CLASS.replace('',np.nan) \n",
        "sample_df.OCCUPATION_CLASS.value_counts()"
      ]
    },
    {
      "cell_type": "code",
      "execution_count": null,
      "metadata": {
        "colab": {
          "background_save": true
        },
        "id": "F-ilnmxHt15c",
        "outputId": "9d8aaa5a-f70b-4655-ed66-c81ae2a28df0"
      },
      "outputs": [
        {
          "data": {
            "text/html": [
              "\n",
              "  <div id=\"df-3e151d52-1d9b-4b7e-b8c7-3fb93dac3668\">\n",
              "    <div class=\"colab-df-container\">\n",
              "      <div>\n",
              "<style scoped>\n",
              "    .dataframe tbody tr th:only-of-type {\n",
              "        vertical-align: middle;\n",
              "    }\n",
              "\n",
              "    .dataframe tbody tr th {\n",
              "        vertical-align: top;\n",
              "    }\n",
              "\n",
              "    .dataframe thead th {\n",
              "        text-align: right;\n",
              "    }\n",
              "</style>\n",
              "<table border=\"1\" class=\"dataframe\">\n",
              "  <thead>\n",
              "    <tr style=\"text-align: right;\">\n",
              "      <th></th>\n",
              "      <th>Edo</th>\n",
              "      <th>Delta</th>\n",
              "      <th>Kano</th>\n",
              "      <th>Katsina</th>\n",
              "      <th>Kaduna</th>\n",
              "      <th>Sokoto</th>\n",
              "      <th>Jigawa</th>\n",
              "      <th>Total</th>\n",
              "    </tr>\n",
              "  </thead>\n",
              "  <tbody>\n",
              "    <tr>\n",
              "      <th>AGRICULTURAL</th>\n",
              "      <td>NaN</td>\n",
              "      <td>NaN</td>\n",
              "      <td>1.0</td>\n",
              "      <td>NaN</td>\n",
              "      <td>NaN</td>\n",
              "      <td>NaN</td>\n",
              "      <td>NaN</td>\n",
              "      <td>1</td>\n",
              "    </tr>\n",
              "    <tr>\n",
              "      <th>ASSOCIATE PROFESSIONAL</th>\n",
              "      <td>2.0</td>\n",
              "      <td>NaN</td>\n",
              "      <td>NaN</td>\n",
              "      <td>NaN</td>\n",
              "      <td>NaN</td>\n",
              "      <td>NaN</td>\n",
              "      <td>NaN</td>\n",
              "      <td>2</td>\n",
              "    </tr>\n",
              "    <tr>\n",
              "      <th>CLERK</th>\n",
              "      <td>NaN</td>\n",
              "      <td>NaN</td>\n",
              "      <td>NaN</td>\n",
              "      <td>NaN</td>\n",
              "      <td>1.0</td>\n",
              "      <td>NaN</td>\n",
              "      <td>NaN</td>\n",
              "      <td>1</td>\n",
              "    </tr>\n",
              "    <tr>\n",
              "      <th>CRAFT</th>\n",
              "      <td>7.0</td>\n",
              "      <td>3.0</td>\n",
              "      <td>2.0</td>\n",
              "      <td>NaN</td>\n",
              "      <td>1.0</td>\n",
              "      <td>NaN</td>\n",
              "      <td>NaN</td>\n",
              "      <td>13</td>\n",
              "    </tr>\n",
              "    <tr>\n",
              "      <th>ELEMENTARY</th>\n",
              "      <td>1.0</td>\n",
              "      <td>NaN</td>\n",
              "      <td>NaN</td>\n",
              "      <td>NaN</td>\n",
              "      <td>NaN</td>\n",
              "      <td>NaN</td>\n",
              "      <td>NaN</td>\n",
              "      <td>1</td>\n",
              "    </tr>\n",
              "    <tr>\n",
              "      <th>NOTHING</th>\n",
              "      <td>1.0</td>\n",
              "      <td>NaN</td>\n",
              "      <td>NaN</td>\n",
              "      <td>NaN</td>\n",
              "      <td>NaN</td>\n",
              "      <td>NaN</td>\n",
              "      <td>NaN</td>\n",
              "      <td>1</td>\n",
              "    </tr>\n",
              "    <tr>\n",
              "      <th>PROFESSIONAL</th>\n",
              "      <td>2.0</td>\n",
              "      <td>2.0</td>\n",
              "      <td>NaN</td>\n",
              "      <td>1.0</td>\n",
              "      <td>NaN</td>\n",
              "      <td>NaN</td>\n",
              "      <td>NaN</td>\n",
              "      <td>5</td>\n",
              "    </tr>\n",
              "    <tr>\n",
              "      <th>SALES</th>\n",
              "      <td>3.0</td>\n",
              "      <td>NaN</td>\n",
              "      <td>NaN</td>\n",
              "      <td>2.0</td>\n",
              "      <td>2.0</td>\n",
              "      <td>NaN</td>\n",
              "      <td>NaN</td>\n",
              "      <td>7</td>\n",
              "    </tr>\n",
              "    <tr>\n",
              "      <th>SERVICE</th>\n",
              "      <td>NaN</td>\n",
              "      <td>1.0</td>\n",
              "      <td>2.0</td>\n",
              "      <td>NaN</td>\n",
              "      <td>1.0</td>\n",
              "      <td>NaN</td>\n",
              "      <td>NaN</td>\n",
              "      <td>4</td>\n",
              "    </tr>\n",
              "    <tr>\n",
              "      <th>TECHNICIAN</th>\n",
              "      <td>NaN</td>\n",
              "      <td>NaN</td>\n",
              "      <td>NaN</td>\n",
              "      <td>NaN</td>\n",
              "      <td>1.0</td>\n",
              "      <td>NaN</td>\n",
              "      <td>NaN</td>\n",
              "      <td>1</td>\n",
              "    </tr>\n",
              "    <tr>\n",
              "      <th>TRADER</th>\n",
              "      <td>4.0</td>\n",
              "      <td>4.0</td>\n",
              "      <td>8.0</td>\n",
              "      <td>8.0</td>\n",
              "      <td>4.0</td>\n",
              "      <td>5.0</td>\n",
              "      <td>7.0</td>\n",
              "      <td>40</td>\n",
              "    </tr>\n",
              "  </tbody>\n",
              "</table>\n",
              "</div>\n",
              "      <button class=\"colab-df-convert\" onclick=\"convertToInteractive('df-3e151d52-1d9b-4b7e-b8c7-3fb93dac3668')\"\n",
              "              title=\"Convert this dataframe to an interactive table.\"\n",
              "              style=\"display:none;\">\n",
              "        \n",
              "  <svg xmlns=\"http://www.w3.org/2000/svg\" height=\"24px\"viewBox=\"0 0 24 24\"\n",
              "       width=\"24px\">\n",
              "    <path d=\"M0 0h24v24H0V0z\" fill=\"none\"/>\n",
              "    <path d=\"M18.56 5.44l.94 2.06.94-2.06 2.06-.94-2.06-.94-.94-2.06-.94 2.06-2.06.94zm-11 1L8.5 8.5l.94-2.06 2.06-.94-2.06-.94L8.5 2.5l-.94 2.06-2.06.94zm10 10l.94 2.06.94-2.06 2.06-.94-2.06-.94-.94-2.06-.94 2.06-2.06.94z\"/><path d=\"M17.41 7.96l-1.37-1.37c-.4-.4-.92-.59-1.43-.59-.52 0-1.04.2-1.43.59L10.3 9.45l-7.72 7.72c-.78.78-.78 2.05 0 2.83L4 21.41c.39.39.9.59 1.41.59.51 0 1.02-.2 1.41-.59l7.78-7.78 2.81-2.81c.8-.78.8-2.07 0-2.86zM5.41 20L4 18.59l7.72-7.72 1.47 1.35L5.41 20z\"/>\n",
              "  </svg>\n",
              "      </button>\n",
              "      \n",
              "  <style>\n",
              "    .colab-df-container {\n",
              "      display:flex;\n",
              "      flex-wrap:wrap;\n",
              "      gap: 12px;\n",
              "    }\n",
              "\n",
              "    .colab-df-convert {\n",
              "      background-color: #E8F0FE;\n",
              "      border: none;\n",
              "      border-radius: 50%;\n",
              "      cursor: pointer;\n",
              "      display: none;\n",
              "      fill: #1967D2;\n",
              "      height: 32px;\n",
              "      padding: 0 0 0 0;\n",
              "      width: 32px;\n",
              "    }\n",
              "\n",
              "    .colab-df-convert:hover {\n",
              "      background-color: #E2EBFA;\n",
              "      box-shadow: 0px 1px 2px rgba(60, 64, 67, 0.3), 0px 1px 3px 1px rgba(60, 64, 67, 0.15);\n",
              "      fill: #174EA6;\n",
              "    }\n",
              "\n",
              "    [theme=dark] .colab-df-convert {\n",
              "      background-color: #3B4455;\n",
              "      fill: #D2E3FC;\n",
              "    }\n",
              "\n",
              "    [theme=dark] .colab-df-convert:hover {\n",
              "      background-color: #434B5C;\n",
              "      box-shadow: 0px 1px 3px 1px rgba(0, 0, 0, 0.15);\n",
              "      filter: drop-shadow(0px 1px 2px rgba(0, 0, 0, 0.3));\n",
              "      fill: #FFFFFF;\n",
              "    }\n",
              "  </style>\n",
              "\n",
              "      <script>\n",
              "        const buttonEl =\n",
              "          document.querySelector('#df-3e151d52-1d9b-4b7e-b8c7-3fb93dac3668 button.colab-df-convert');\n",
              "        buttonEl.style.display =\n",
              "          google.colab.kernel.accessAllowed ? 'block' : 'none';\n",
              "\n",
              "        async function convertToInteractive(key) {\n",
              "          const element = document.querySelector('#df-3e151d52-1d9b-4b7e-b8c7-3fb93dac3668');\n",
              "          const dataTable =\n",
              "            await google.colab.kernel.invokeFunction('convertToInteractive',\n",
              "                                                     [key], {});\n",
              "          if (!dataTable) return;\n",
              "\n",
              "          const docLinkHtml = 'Like what you see? Visit the ' +\n",
              "            '<a target=\"_blank\" href=https://colab.research.google.com/notebooks/data_table.ipynb>data table notebook</a>'\n",
              "            + ' to learn more about interactive tables.';\n",
              "          element.innerHTML = '';\n",
              "          dataTable['output_type'] = 'display_data';\n",
              "          await google.colab.output.renderOutput(dataTable, element);\n",
              "          const docLink = document.createElement('div');\n",
              "          docLink.innerHTML = docLinkHtml;\n",
              "          element.appendChild(docLink);\n",
              "        }\n",
              "      </script>\n",
              "    </div>\n",
              "  </div>\n",
              "  "
            ],
            "text/plain": [
              "                        Edo  Delta  Kano  Katsina  Kaduna  Sokoto  Jigawa  \\\n",
              "AGRICULTURAL            NaN    NaN   1.0      NaN     NaN     NaN     NaN   \n",
              "ASSOCIATE PROFESSIONAL  2.0    NaN   NaN      NaN     NaN     NaN     NaN   \n",
              "CLERK                   NaN    NaN   NaN      NaN     1.0     NaN     NaN   \n",
              "CRAFT                   7.0    3.0   2.0      NaN     1.0     NaN     NaN   \n",
              "ELEMENTARY              1.0    NaN   NaN      NaN     NaN     NaN     NaN   \n",
              "NOTHING                 1.0    NaN   NaN      NaN     NaN     NaN     NaN   \n",
              "PROFESSIONAL            2.0    2.0   NaN      1.0     NaN     NaN     NaN   \n",
              "SALES                   3.0    NaN   NaN      2.0     2.0     NaN     NaN   \n",
              "SERVICE                 NaN    1.0   2.0      NaN     1.0     NaN     NaN   \n",
              "TECHNICIAN              NaN    NaN   NaN      NaN     1.0     NaN     NaN   \n",
              "TRADER                  4.0    4.0   8.0      8.0     4.0     5.0     7.0   \n",
              "\n",
              "                        Total  \n",
              "AGRICULTURAL                1  \n",
              "ASSOCIATE PROFESSIONAL      2  \n",
              "CLERK                       1  \n",
              "CRAFT                      13  \n",
              "ELEMENTARY                  1  \n",
              "NOTHING                     1  \n",
              "PROFESSIONAL                5  \n",
              "SALES                       7  \n",
              "SERVICE                     4  \n",
              "TECHNICIAN                  1  \n",
              "TRADER                     40  "
            ]
          },
          "execution_count": null,
          "metadata": {},
          "output_type": "execute_result"
        }
      ],
      "source": [
        "occ_df = Create(sample_df,'OCCUPATION_CLASS')\n",
        "occ_df"
      ]
    },
    {
      "cell_type": "markdown",
      "metadata": {
        "id": "OMnB_gYiosRR"
      },
      "source": [
        "###**RESPONDENTS' INCOME RANGE**"
      ]
    },
    {
      "cell_type": "code",
      "execution_count": null,
      "metadata": {
        "colab": {
          "background_save": true
        },
        "id": "aWM6sNCzow1U",
        "outputId": "ec555de3-cab7-4028-c5da-a6e51b057ddb"
      },
      "outputs": [
        {
          "data": {
            "text/plain": [
              "array(['N50,000 - N99,999', '', 'below N5,000', 'N5,000 - N49,999',\n",
              "       'N100,000 - N199,999', 'above N200,000'], dtype=object)"
            ]
          },
          "execution_count": null,
          "metadata": {},
          "output_type": "execute_result"
        }
      ],
      "source": [
        "sample_df.INCOME_RANGE.unique()"
      ]
    },
    {
      "cell_type": "code",
      "execution_count": null,
      "metadata": {
        "colab": {
          "background_save": true
        },
        "id": "pNnBF5ylo74Q",
        "outputId": "f59cd2ca-a4da-4db4-cd2a-2aa44f87e07d"
      },
      "outputs": [
        {
          "data": {
            "text/plain": [
              "N5,000 - N49,999       43\n",
              "below N5,000           24\n",
              "N50,000 - N99,999       5\n",
              "N100,000 - N199,999     2\n",
              "above N200,000          2\n",
              "Name: INCOME_RANGE, dtype: int64"
            ]
          },
          "execution_count": null,
          "metadata": {},
          "output_type": "execute_result"
        }
      ],
      "source": [
        "sample_df.INCOME_RANGE = sample_df.INCOME_RANGE.str.strip()\n",
        "sample_df.INCOME_RANGE = sample_df.INCOME_RANGE.replace('',np.nan) \n",
        "sample_df.INCOME_RANGE.value_counts()"
      ]
    },
    {
      "cell_type": "code",
      "execution_count": null,
      "metadata": {
        "colab": {
          "background_save": true
        },
        "id": "4C0ViJigpUYH",
        "outputId": "d35453c7-f59d-41f8-dc16-4bbf0659e461"
      },
      "outputs": [
        {
          "data": {
            "text/html": [
              "\n",
              "  <div id=\"df-71fa8c46-ccad-4af3-a4d5-054e8a91e3e0\">\n",
              "    <div class=\"colab-df-container\">\n",
              "      <div>\n",
              "<style scoped>\n",
              "    .dataframe tbody tr th:only-of-type {\n",
              "        vertical-align: middle;\n",
              "    }\n",
              "\n",
              "    .dataframe tbody tr th {\n",
              "        vertical-align: top;\n",
              "    }\n",
              "\n",
              "    .dataframe thead th {\n",
              "        text-align: right;\n",
              "    }\n",
              "</style>\n",
              "<table border=\"1\" class=\"dataframe\">\n",
              "  <thead>\n",
              "    <tr style=\"text-align: right;\">\n",
              "      <th></th>\n",
              "      <th>Edo</th>\n",
              "      <th>Delta</th>\n",
              "      <th>Kano</th>\n",
              "      <th>Katsina</th>\n",
              "      <th>Kaduna</th>\n",
              "      <th>Sokoto</th>\n",
              "      <th>Jigawa</th>\n",
              "      <th>Total</th>\n",
              "    </tr>\n",
              "  </thead>\n",
              "  <tbody>\n",
              "    <tr>\n",
              "      <th>ABOVE N200,000</th>\n",
              "      <td>NaN</td>\n",
              "      <td>NaN</td>\n",
              "      <td>NaN</td>\n",
              "      <td>2.0</td>\n",
              "      <td>NaN</td>\n",
              "      <td>NaN</td>\n",
              "      <td>NaN</td>\n",
              "      <td>2</td>\n",
              "    </tr>\n",
              "    <tr>\n",
              "      <th>BELOW N5,000</th>\n",
              "      <td>3.0</td>\n",
              "      <td>5.0</td>\n",
              "      <td>NaN</td>\n",
              "      <td>1.0</td>\n",
              "      <td>8.0</td>\n",
              "      <td>1.0</td>\n",
              "      <td>6.0</td>\n",
              "      <td>24</td>\n",
              "    </tr>\n",
              "    <tr>\n",
              "      <th>N100,000 - N199,999</th>\n",
              "      <td>NaN</td>\n",
              "      <td>NaN</td>\n",
              "      <td>NaN</td>\n",
              "      <td>2.0</td>\n",
              "      <td>NaN</td>\n",
              "      <td>NaN</td>\n",
              "      <td>NaN</td>\n",
              "      <td>2</td>\n",
              "    </tr>\n",
              "    <tr>\n",
              "      <th>N5,000 - N49,999</th>\n",
              "      <td>14.0</td>\n",
              "      <td>3.0</td>\n",
              "      <td>13.0</td>\n",
              "      <td>6.0</td>\n",
              "      <td>3.0</td>\n",
              "      <td>2.0</td>\n",
              "      <td>2.0</td>\n",
              "      <td>43</td>\n",
              "    </tr>\n",
              "    <tr>\n",
              "      <th>N50,000 - N99,999</th>\n",
              "      <td>4.0</td>\n",
              "      <td>1.0</td>\n",
              "      <td>NaN</td>\n",
              "      <td>NaN</td>\n",
              "      <td>NaN</td>\n",
              "      <td>NaN</td>\n",
              "      <td>NaN</td>\n",
              "      <td>5</td>\n",
              "    </tr>\n",
              "  </tbody>\n",
              "</table>\n",
              "</div>\n",
              "      <button class=\"colab-df-convert\" onclick=\"convertToInteractive('df-71fa8c46-ccad-4af3-a4d5-054e8a91e3e0')\"\n",
              "              title=\"Convert this dataframe to an interactive table.\"\n",
              "              style=\"display:none;\">\n",
              "        \n",
              "  <svg xmlns=\"http://www.w3.org/2000/svg\" height=\"24px\"viewBox=\"0 0 24 24\"\n",
              "       width=\"24px\">\n",
              "    <path d=\"M0 0h24v24H0V0z\" fill=\"none\"/>\n",
              "    <path d=\"M18.56 5.44l.94 2.06.94-2.06 2.06-.94-2.06-.94-.94-2.06-.94 2.06-2.06.94zm-11 1L8.5 8.5l.94-2.06 2.06-.94-2.06-.94L8.5 2.5l-.94 2.06-2.06.94zm10 10l.94 2.06.94-2.06 2.06-.94-2.06-.94-.94-2.06-.94 2.06-2.06.94z\"/><path d=\"M17.41 7.96l-1.37-1.37c-.4-.4-.92-.59-1.43-.59-.52 0-1.04.2-1.43.59L10.3 9.45l-7.72 7.72c-.78.78-.78 2.05 0 2.83L4 21.41c.39.39.9.59 1.41.59.51 0 1.02-.2 1.41-.59l7.78-7.78 2.81-2.81c.8-.78.8-2.07 0-2.86zM5.41 20L4 18.59l7.72-7.72 1.47 1.35L5.41 20z\"/>\n",
              "  </svg>\n",
              "      </button>\n",
              "      \n",
              "  <style>\n",
              "    .colab-df-container {\n",
              "      display:flex;\n",
              "      flex-wrap:wrap;\n",
              "      gap: 12px;\n",
              "    }\n",
              "\n",
              "    .colab-df-convert {\n",
              "      background-color: #E8F0FE;\n",
              "      border: none;\n",
              "      border-radius: 50%;\n",
              "      cursor: pointer;\n",
              "      display: none;\n",
              "      fill: #1967D2;\n",
              "      height: 32px;\n",
              "      padding: 0 0 0 0;\n",
              "      width: 32px;\n",
              "    }\n",
              "\n",
              "    .colab-df-convert:hover {\n",
              "      background-color: #E2EBFA;\n",
              "      box-shadow: 0px 1px 2px rgba(60, 64, 67, 0.3), 0px 1px 3px 1px rgba(60, 64, 67, 0.15);\n",
              "      fill: #174EA6;\n",
              "    }\n",
              "\n",
              "    [theme=dark] .colab-df-convert {\n",
              "      background-color: #3B4455;\n",
              "      fill: #D2E3FC;\n",
              "    }\n",
              "\n",
              "    [theme=dark] .colab-df-convert:hover {\n",
              "      background-color: #434B5C;\n",
              "      box-shadow: 0px 1px 3px 1px rgba(0, 0, 0, 0.15);\n",
              "      filter: drop-shadow(0px 1px 2px rgba(0, 0, 0, 0.3));\n",
              "      fill: #FFFFFF;\n",
              "    }\n",
              "  </style>\n",
              "\n",
              "      <script>\n",
              "        const buttonEl =\n",
              "          document.querySelector('#df-71fa8c46-ccad-4af3-a4d5-054e8a91e3e0 button.colab-df-convert');\n",
              "        buttonEl.style.display =\n",
              "          google.colab.kernel.accessAllowed ? 'block' : 'none';\n",
              "\n",
              "        async function convertToInteractive(key) {\n",
              "          const element = document.querySelector('#df-71fa8c46-ccad-4af3-a4d5-054e8a91e3e0');\n",
              "          const dataTable =\n",
              "            await google.colab.kernel.invokeFunction('convertToInteractive',\n",
              "                                                     [key], {});\n",
              "          if (!dataTable) return;\n",
              "\n",
              "          const docLinkHtml = 'Like what you see? Visit the ' +\n",
              "            '<a target=\"_blank\" href=https://colab.research.google.com/notebooks/data_table.ipynb>data table notebook</a>'\n",
              "            + ' to learn more about interactive tables.';\n",
              "          element.innerHTML = '';\n",
              "          dataTable['output_type'] = 'display_data';\n",
              "          await google.colab.output.renderOutput(dataTable, element);\n",
              "          const docLink = document.createElement('div');\n",
              "          docLink.innerHTML = docLinkHtml;\n",
              "          element.appendChild(docLink);\n",
              "        }\n",
              "      </script>\n",
              "    </div>\n",
              "  </div>\n",
              "  "
            ],
            "text/plain": [
              "                      Edo  Delta  Kano  Katsina  Kaduna  Sokoto  Jigawa  Total\n",
              "ABOVE N200,000        NaN    NaN   NaN      2.0     NaN     NaN     NaN      2\n",
              "BELOW N5,000          3.0    5.0   NaN      1.0     8.0     1.0     6.0     24\n",
              "N100,000 - N199,999   NaN    NaN   NaN      2.0     NaN     NaN     NaN      2\n",
              "N5,000 - N49,999     14.0    3.0  13.0      6.0     3.0     2.0     2.0     43\n",
              "N50,000 - N99,999     4.0    1.0   NaN      NaN     NaN     NaN     NaN      5"
            ]
          },
          "execution_count": null,
          "metadata": {},
          "output_type": "execute_result"
        }
      ],
      "source": [
        "income_df = Create(sample_df,'INCOME_RANGE')\n",
        "income_df"
      ]
    },
    {
      "cell_type": "code",
      "execution_count": null,
      "metadata": {
        "colab": {
          "background_save": true
        },
        "id": "3hZWZ47FpccQ"
      },
      "outputs": [],
      "source": [
        "sample_df = sample_df.reindex(columns=['TIMESTAMP', 'CONCEDED', 'STATE_STUDIED', 'LGA', 'PHONE', 'FULL_NAME',\n",
        "       'FORM_STATUS', 'AGE', 'SEX', 'MARITAL_STATUS', 'DEPENDANTS',\n",
        "       'EDUCATION', 'LOCATION', 'ORIGIN_STATE', 'COUNTRY', 'JOB_STATUS',\n",
        "       'OCCUPATION', 'OCCUPATION_CLASS', 'INCOME_RANGE', 'Q1', 'Q2', 'Q3', 'Q4', 'Q5', 'Q6', 'Q7',\n",
        "       'Q8', 'Q9', 'Q10', 'Q11', 'Q12', 'Q13', 'Q14', 'Q15', 'Q16', 'Q17',\n",
        "       'Q18', 'Q19', 'Q20', 'Q21', 'Q22', 'Q23', 'Q24', 'Q25', 'Q26', 'Q27',\n",
        "       'Q28', 'Q29', 'Q30', 'Q31'])"
      ]
    },
    {
      "cell_type": "code",
      "execution_count": null,
      "metadata": {
        "colab": {
          "background_save": true
        },
        "id": "YLPewaICvGxv",
        "outputId": "48bf34b7-2d38-4d90-8c44-4cf875902637"
      },
      "outputs": [
        {
          "data": {
            "text/plain": [
              "Index(['TIMESTAMP', 'CONCEDED', 'STATE_STUDIED', 'LGA', 'PHONE', 'FULL_NAME',\n",
              "       'FORM_STATUS', 'AGE', 'SEX', 'MARITAL_STATUS', 'DEPENDANTS',\n",
              "       'EDUCATION', 'LOCATION', 'ORIGIN_STATE', 'COUNTRY', 'JOB_STATUS',\n",
              "       'OCCUPATION', 'OCCUPATION_CLASS', 'INCOME_RANGE', 'Q1', 'Q2', 'Q3',\n",
              "       'Q4', 'Q5', 'Q6', 'Q7', 'Q8', 'Q9', 'Q10', 'Q11', 'Q12', 'Q13', 'Q14',\n",
              "       'Q15', 'Q16', 'Q17', 'Q18', 'Q19', 'Q20', 'Q21', 'Q22', 'Q23', 'Q24',\n",
              "       'Q25', 'Q26', 'Q27', 'Q28', 'Q29', 'Q30', 'Q31'],\n",
              "      dtype='object', name=0)"
            ]
          },
          "execution_count": null,
          "metadata": {},
          "output_type": "execute_result"
        }
      ],
      "source": [
        "sample_df.columns"
      ]
    },
    {
      "cell_type": "markdown",
      "metadata": {
        "id": "DVgdUgXTvl6s"
      },
      "source": [
        "#**RESPONDENTS' INTERVIEW SECTION**"
      ]
    },
    {
      "cell_type": "markdown",
      "metadata": {
        "id": "4eWWQnfUv1Op"
      },
      "source": [
        "###**RESPONDENTS' INTERVIEW QUESTION 1**"
      ]
    },
    {
      "cell_type": "code",
      "execution_count": null,
      "metadata": {
        "colab": {
          "background_save": true
        },
        "id": "r-VOtGTfvkQE",
        "outputId": "a211a269-1d2c-4f5f-bce0-b25b1328cb6d"
      },
      "outputs": [
        {
          "data": {
            "text/plain": [
              "array(['Yes', 'No'], dtype=object)"
            ]
          },
          "execution_count": null,
          "metadata": {},
          "output_type": "execute_result"
        }
      ],
      "source": [
        "sample_df.Q1.unique()"
      ]
    },
    {
      "cell_type": "code",
      "execution_count": null,
      "metadata": {
        "colab": {
          "background_save": true
        },
        "id": "dHaKUjUAv-nl",
        "outputId": "d1f5e413-482c-4ee6-ba9f-8101d846f248"
      },
      "outputs": [
        {
          "data": {
            "text/plain": [
              "Yes    83\n",
              "No      8\n",
              "Name: Q1, dtype: int64"
            ]
          },
          "execution_count": null,
          "metadata": {},
          "output_type": "execute_result"
        }
      ],
      "source": [
        "sample_df.Q1 = sample_df.Q1.str.strip()\n",
        "sample_df.Q1 = sample_df.Q1.replace('',np.nan) \n",
        "sample_df.Q1.value_counts()"
      ]
    },
    {
      "cell_type": "code",
      "execution_count": null,
      "metadata": {
        "colab": {
          "background_save": true
        },
        "id": "GOjujda3wE5W",
        "outputId": "05a048ee-0fcf-43fa-9e6a-e5f406e13c7f"
      },
      "outputs": [
        {
          "data": {
            "text/html": [
              "\n",
              "  <div id=\"df-25713fe9-c4f6-4f73-b238-8fea49dbfa8b\">\n",
              "    <div class=\"colab-df-container\">\n",
              "      <div>\n",
              "<style scoped>\n",
              "    .dataframe tbody tr th:only-of-type {\n",
              "        vertical-align: middle;\n",
              "    }\n",
              "\n",
              "    .dataframe tbody tr th {\n",
              "        vertical-align: top;\n",
              "    }\n",
              "\n",
              "    .dataframe thead th {\n",
              "        text-align: right;\n",
              "    }\n",
              "</style>\n",
              "<table border=\"1\" class=\"dataframe\">\n",
              "  <thead>\n",
              "    <tr style=\"text-align: right;\">\n",
              "      <th></th>\n",
              "      <th>Edo</th>\n",
              "      <th>Delta</th>\n",
              "      <th>Kano</th>\n",
              "      <th>Katsina</th>\n",
              "      <th>Kaduna</th>\n",
              "      <th>Sokoto</th>\n",
              "      <th>Jigawa</th>\n",
              "      <th>Total</th>\n",
              "    </tr>\n",
              "  </thead>\n",
              "  <tbody>\n",
              "    <tr>\n",
              "      <th>NO</th>\n",
              "      <td>NaN</td>\n",
              "      <td>NaN</td>\n",
              "      <td>2</td>\n",
              "      <td>1</td>\n",
              "      <td>NaN</td>\n",
              "      <td>NaN</td>\n",
              "      <td>5</td>\n",
              "      <td>8</td>\n",
              "    </tr>\n",
              "    <tr>\n",
              "      <th>YES</th>\n",
              "      <td>24.0</td>\n",
              "      <td>15.0</td>\n",
              "      <td>11</td>\n",
              "      <td>10</td>\n",
              "      <td>13.0</td>\n",
              "      <td>7.0</td>\n",
              "      <td>3</td>\n",
              "      <td>83</td>\n",
              "    </tr>\n",
              "  </tbody>\n",
              "</table>\n",
              "</div>\n",
              "      <button class=\"colab-df-convert\" onclick=\"convertToInteractive('df-25713fe9-c4f6-4f73-b238-8fea49dbfa8b')\"\n",
              "              title=\"Convert this dataframe to an interactive table.\"\n",
              "              style=\"display:none;\">\n",
              "        \n",
              "  <svg xmlns=\"http://www.w3.org/2000/svg\" height=\"24px\"viewBox=\"0 0 24 24\"\n",
              "       width=\"24px\">\n",
              "    <path d=\"M0 0h24v24H0V0z\" fill=\"none\"/>\n",
              "    <path d=\"M18.56 5.44l.94 2.06.94-2.06 2.06-.94-2.06-.94-.94-2.06-.94 2.06-2.06.94zm-11 1L8.5 8.5l.94-2.06 2.06-.94-2.06-.94L8.5 2.5l-.94 2.06-2.06.94zm10 10l.94 2.06.94-2.06 2.06-.94-2.06-.94-.94-2.06-.94 2.06-2.06.94z\"/><path d=\"M17.41 7.96l-1.37-1.37c-.4-.4-.92-.59-1.43-.59-.52 0-1.04.2-1.43.59L10.3 9.45l-7.72 7.72c-.78.78-.78 2.05 0 2.83L4 21.41c.39.39.9.59 1.41.59.51 0 1.02-.2 1.41-.59l7.78-7.78 2.81-2.81c.8-.78.8-2.07 0-2.86zM5.41 20L4 18.59l7.72-7.72 1.47 1.35L5.41 20z\"/>\n",
              "  </svg>\n",
              "      </button>\n",
              "      \n",
              "  <style>\n",
              "    .colab-df-container {\n",
              "      display:flex;\n",
              "      flex-wrap:wrap;\n",
              "      gap: 12px;\n",
              "    }\n",
              "\n",
              "    .colab-df-convert {\n",
              "      background-color: #E8F0FE;\n",
              "      border: none;\n",
              "      border-radius: 50%;\n",
              "      cursor: pointer;\n",
              "      display: none;\n",
              "      fill: #1967D2;\n",
              "      height: 32px;\n",
              "      padding: 0 0 0 0;\n",
              "      width: 32px;\n",
              "    }\n",
              "\n",
              "    .colab-df-convert:hover {\n",
              "      background-color: #E2EBFA;\n",
              "      box-shadow: 0px 1px 2px rgba(60, 64, 67, 0.3), 0px 1px 3px 1px rgba(60, 64, 67, 0.15);\n",
              "      fill: #174EA6;\n",
              "    }\n",
              "\n",
              "    [theme=dark] .colab-df-convert {\n",
              "      background-color: #3B4455;\n",
              "      fill: #D2E3FC;\n",
              "    }\n",
              "\n",
              "    [theme=dark] .colab-df-convert:hover {\n",
              "      background-color: #434B5C;\n",
              "      box-shadow: 0px 1px 3px 1px rgba(0, 0, 0, 0.15);\n",
              "      filter: drop-shadow(0px 1px 2px rgba(0, 0, 0, 0.3));\n",
              "      fill: #FFFFFF;\n",
              "    }\n",
              "  </style>\n",
              "\n",
              "      <script>\n",
              "        const buttonEl =\n",
              "          document.querySelector('#df-25713fe9-c4f6-4f73-b238-8fea49dbfa8b button.colab-df-convert');\n",
              "        buttonEl.style.display =\n",
              "          google.colab.kernel.accessAllowed ? 'block' : 'none';\n",
              "\n",
              "        async function convertToInteractive(key) {\n",
              "          const element = document.querySelector('#df-25713fe9-c4f6-4f73-b238-8fea49dbfa8b');\n",
              "          const dataTable =\n",
              "            await google.colab.kernel.invokeFunction('convertToInteractive',\n",
              "                                                     [key], {});\n",
              "          if (!dataTable) return;\n",
              "\n",
              "          const docLinkHtml = 'Like what you see? Visit the ' +\n",
              "            '<a target=\"_blank\" href=https://colab.research.google.com/notebooks/data_table.ipynb>data table notebook</a>'\n",
              "            + ' to learn more about interactive tables.';\n",
              "          element.innerHTML = '';\n",
              "          dataTable['output_type'] = 'display_data';\n",
              "          await google.colab.output.renderOutput(dataTable, element);\n",
              "          const docLink = document.createElement('div');\n",
              "          docLink.innerHTML = docLinkHtml;\n",
              "          element.appendChild(docLink);\n",
              "        }\n",
              "      </script>\n",
              "    </div>\n",
              "  </div>\n",
              "  "
            ],
            "text/plain": [
              "      Edo  Delta  Kano  Katsina  Kaduna  Sokoto  Jigawa  Total\n",
              "NO    NaN    NaN     2        1     NaN     NaN       5      8\n",
              "YES  24.0   15.0    11       10    13.0     7.0       3     83"
            ]
          },
          "execution_count": null,
          "metadata": {},
          "output_type": "execute_result"
        }
      ],
      "source": [
        "Q1_df = Create(sample_df,'Q1')\n",
        "Q1_df"
      ]
    },
    {
      "cell_type": "markdown",
      "metadata": {
        "id": "y6R1gh9vwhy6"
      },
      "source": [
        "###**RESPONDENTS' INTERVIEW QUESTION 2**\n",
        "\n",
        "\n"
      ]
    },
    {
      "cell_type": "code",
      "execution_count": null,
      "metadata": {
        "colab": {
          "background_save": true
        },
        "id": "nhFyT4JIwb0P",
        "outputId": "018bf423-7815-4bb5-ae8b-bb70f7202b5a"
      },
      "outputs": [
        {
          "data": {
            "text/plain": [
              "array(['Italy', 'Libya', 'Libya, Morocco, EGYPT', 'TRIPOLI', 'MALI',\n",
              "       'Mali', 'Morocco', 'Libya, Chad', 'Chad', 'EGYPT', 'Algeria', '',\n",
              "       'Niger', 'Italy, Libya', 'Saudi Arabia', 'Spain', 'Dubai', 'SUDAN',\n",
              "       'Libya, Mali', 'TOGO', 'Ghana'], dtype=object)"
            ]
          },
          "execution_count": null,
          "metadata": {},
          "output_type": "execute_result"
        }
      ],
      "source": [
        "sample_df.Q2.unique()"
      ]
    },
    {
      "cell_type": "code",
      "execution_count": null,
      "metadata": {
        "colab": {
          "background_save": true
        },
        "id": "dM6AXG9_oVi8"
      },
      "outputs": [],
      "source": [
        "sample_df.Q2 = sample_df.Q2.replace(['Dubai','TRIPOLI'],['UAE','Libya'])"
      ]
    },
    {
      "cell_type": "code",
      "execution_count": null,
      "metadata": {
        "colab": {
          "background_save": true
        },
        "id": "U7J_aAmhwz64",
        "outputId": "07c5766b-4a4b-4974-f4ab-7203764bed86"
      },
      "outputs": [
        {
          "data": {
            "text/plain": [
              "Libya                    47\n",
              "Algeria                  10\n",
              "Niger                     5\n",
              "Chad                      4\n",
              "Italy                     4\n",
              "Saudi Arabia              3\n",
              "SUDAN                     3\n",
              "Morocco                   2\n",
              "Mali                      2\n",
              "Libya, Chad               1\n",
              "EGYPT                     1\n",
              "MALI                      1\n",
              "Libya, Morocco, EGYPT     1\n",
              "Italy, Libya              1\n",
              "Spain                     1\n",
              "UAE                       1\n",
              "Libya, Mali               1\n",
              "TOGO                      1\n",
              "Ghana                     1\n",
              "Name: Q2, dtype: int64"
            ]
          },
          "execution_count": null,
          "metadata": {},
          "output_type": "execute_result"
        }
      ],
      "source": [
        "sample_df.Q2 = sample_df.Q2.str.strip()\n",
        "sample_df.Q2 = sample_df.Q2.replace('',np.nan) \n",
        "sample_df.Q2.value_counts()"
      ]
    },
    {
      "cell_type": "code",
      "execution_count": null,
      "metadata": {
        "colab": {
          "background_save": true
        },
        "id": "975tnzgew_T2",
        "outputId": "1a6d07f8-9880-476a-bf3f-8fc7fd99802f"
      },
      "outputs": [
        {
          "data": {
            "text/html": [
              "\n",
              "  <div id=\"df-a5a81417-7a09-4e3f-93cc-3f3b94319b01\">\n",
              "    <div class=\"colab-df-container\">\n",
              "      <div>\n",
              "<style scoped>\n",
              "    .dataframe tbody tr th:only-of-type {\n",
              "        vertical-align: middle;\n",
              "    }\n",
              "\n",
              "    .dataframe tbody tr th {\n",
              "        vertical-align: top;\n",
              "    }\n",
              "\n",
              "    .dataframe thead th {\n",
              "        text-align: right;\n",
              "    }\n",
              "</style>\n",
              "<table border=\"1\" class=\"dataframe\">\n",
              "  <thead>\n",
              "    <tr style=\"text-align: right;\">\n",
              "      <th></th>\n",
              "      <th>Edo</th>\n",
              "      <th>Delta</th>\n",
              "      <th>Kano</th>\n",
              "      <th>Katsina</th>\n",
              "      <th>Kaduna</th>\n",
              "      <th>Sokoto</th>\n",
              "      <th>Jigawa</th>\n",
              "      <th>Total</th>\n",
              "    </tr>\n",
              "  </thead>\n",
              "  <tbody>\n",
              "    <tr>\n",
              "      <th>ALGERIA</th>\n",
              "      <td>NaN</td>\n",
              "      <td>NaN</td>\n",
              "      <td>4.0</td>\n",
              "      <td>3.0</td>\n",
              "      <td>NaN</td>\n",
              "      <td>1.0</td>\n",
              "      <td>2.0</td>\n",
              "      <td>10</td>\n",
              "    </tr>\n",
              "    <tr>\n",
              "      <th>CHAD</th>\n",
              "      <td>NaN</td>\n",
              "      <td>NaN</td>\n",
              "      <td>NaN</td>\n",
              "      <td>NaN</td>\n",
              "      <td>1.0</td>\n",
              "      <td>NaN</td>\n",
              "      <td>4.0</td>\n",
              "      <td>5</td>\n",
              "    </tr>\n",
              "    <tr>\n",
              "      <th>EGYPT</th>\n",
              "      <td>NaN</td>\n",
              "      <td>1.0</td>\n",
              "      <td>NaN</td>\n",
              "      <td>NaN</td>\n",
              "      <td>NaN</td>\n",
              "      <td>NaN</td>\n",
              "      <td>1.0</td>\n",
              "      <td>2</td>\n",
              "    </tr>\n",
              "    <tr>\n",
              "      <th>GHANA</th>\n",
              "      <td>NaN</td>\n",
              "      <td>NaN</td>\n",
              "      <td>NaN</td>\n",
              "      <td>NaN</td>\n",
              "      <td>NaN</td>\n",
              "      <td>1.0</td>\n",
              "      <td>NaN</td>\n",
              "      <td>1</td>\n",
              "    </tr>\n",
              "    <tr>\n",
              "      <th>ITALY</th>\n",
              "      <td>2.0</td>\n",
              "      <td>2.0</td>\n",
              "      <td>NaN</td>\n",
              "      <td>NaN</td>\n",
              "      <td>1.0</td>\n",
              "      <td>NaN</td>\n",
              "      <td>NaN</td>\n",
              "      <td>5</td>\n",
              "    </tr>\n",
              "    <tr>\n",
              "      <th>LIBYA</th>\n",
              "      <td>19.0</td>\n",
              "      <td>13.0</td>\n",
              "      <td>9.0</td>\n",
              "      <td>3.0</td>\n",
              "      <td>4.0</td>\n",
              "      <td>1.0</td>\n",
              "      <td>2.0</td>\n",
              "      <td>51</td>\n",
              "    </tr>\n",
              "    <tr>\n",
              "      <th>MALI</th>\n",
              "      <td>2.0</td>\n",
              "      <td>NaN</td>\n",
              "      <td>NaN</td>\n",
              "      <td>2.0</td>\n",
              "      <td>NaN</td>\n",
              "      <td>NaN</td>\n",
              "      <td>NaN</td>\n",
              "      <td>4</td>\n",
              "    </tr>\n",
              "    <tr>\n",
              "      <th>MOROCCO</th>\n",
              "      <td>1.0</td>\n",
              "      <td>1.0</td>\n",
              "      <td>NaN</td>\n",
              "      <td>NaN</td>\n",
              "      <td>1.0</td>\n",
              "      <td>NaN</td>\n",
              "      <td>NaN</td>\n",
              "      <td>3</td>\n",
              "    </tr>\n",
              "    <tr>\n",
              "      <th>NIGER</th>\n",
              "      <td>NaN</td>\n",
              "      <td>NaN</td>\n",
              "      <td>NaN</td>\n",
              "      <td>NaN</td>\n",
              "      <td>2.0</td>\n",
              "      <td>3.0</td>\n",
              "      <td>NaN</td>\n",
              "      <td>5</td>\n",
              "    </tr>\n",
              "    <tr>\n",
              "      <th>SAUDI ARABIA</th>\n",
              "      <td>NaN</td>\n",
              "      <td>NaN</td>\n",
              "      <td>NaN</td>\n",
              "      <td>1.0</td>\n",
              "      <td>2.0</td>\n",
              "      <td>NaN</td>\n",
              "      <td>NaN</td>\n",
              "      <td>3</td>\n",
              "    </tr>\n",
              "    <tr>\n",
              "      <th>SPAIN</th>\n",
              "      <td>NaN</td>\n",
              "      <td>NaN</td>\n",
              "      <td>NaN</td>\n",
              "      <td>NaN</td>\n",
              "      <td>1.0</td>\n",
              "      <td>NaN</td>\n",
              "      <td>NaN</td>\n",
              "      <td>1</td>\n",
              "    </tr>\n",
              "    <tr>\n",
              "      <th>SUDAN</th>\n",
              "      <td>NaN</td>\n",
              "      <td>NaN</td>\n",
              "      <td>NaN</td>\n",
              "      <td>3.0</td>\n",
              "      <td>NaN</td>\n",
              "      <td>NaN</td>\n",
              "      <td>NaN</td>\n",
              "      <td>3</td>\n",
              "    </tr>\n",
              "    <tr>\n",
              "      <th>TOGO</th>\n",
              "      <td>NaN</td>\n",
              "      <td>NaN</td>\n",
              "      <td>NaN</td>\n",
              "      <td>NaN</td>\n",
              "      <td>NaN</td>\n",
              "      <td>1.0</td>\n",
              "      <td>NaN</td>\n",
              "      <td>1</td>\n",
              "    </tr>\n",
              "    <tr>\n",
              "      <th>UAE</th>\n",
              "      <td>NaN</td>\n",
              "      <td>NaN</td>\n",
              "      <td>NaN</td>\n",
              "      <td>NaN</td>\n",
              "      <td>1.0</td>\n",
              "      <td>NaN</td>\n",
              "      <td>NaN</td>\n",
              "      <td>1</td>\n",
              "    </tr>\n",
              "  </tbody>\n",
              "</table>\n",
              "</div>\n",
              "      <button class=\"colab-df-convert\" onclick=\"convertToInteractive('df-a5a81417-7a09-4e3f-93cc-3f3b94319b01')\"\n",
              "              title=\"Convert this dataframe to an interactive table.\"\n",
              "              style=\"display:none;\">\n",
              "        \n",
              "  <svg xmlns=\"http://www.w3.org/2000/svg\" height=\"24px\"viewBox=\"0 0 24 24\"\n",
              "       width=\"24px\">\n",
              "    <path d=\"M0 0h24v24H0V0z\" fill=\"none\"/>\n",
              "    <path d=\"M18.56 5.44l.94 2.06.94-2.06 2.06-.94-2.06-.94-.94-2.06-.94 2.06-2.06.94zm-11 1L8.5 8.5l.94-2.06 2.06-.94-2.06-.94L8.5 2.5l-.94 2.06-2.06.94zm10 10l.94 2.06.94-2.06 2.06-.94-2.06-.94-.94-2.06-.94 2.06-2.06.94z\"/><path d=\"M17.41 7.96l-1.37-1.37c-.4-.4-.92-.59-1.43-.59-.52 0-1.04.2-1.43.59L10.3 9.45l-7.72 7.72c-.78.78-.78 2.05 0 2.83L4 21.41c.39.39.9.59 1.41.59.51 0 1.02-.2 1.41-.59l7.78-7.78 2.81-2.81c.8-.78.8-2.07 0-2.86zM5.41 20L4 18.59l7.72-7.72 1.47 1.35L5.41 20z\"/>\n",
              "  </svg>\n",
              "      </button>\n",
              "      \n",
              "  <style>\n",
              "    .colab-df-container {\n",
              "      display:flex;\n",
              "      flex-wrap:wrap;\n",
              "      gap: 12px;\n",
              "    }\n",
              "\n",
              "    .colab-df-convert {\n",
              "      background-color: #E8F0FE;\n",
              "      border: none;\n",
              "      border-radius: 50%;\n",
              "      cursor: pointer;\n",
              "      display: none;\n",
              "      fill: #1967D2;\n",
              "      height: 32px;\n",
              "      padding: 0 0 0 0;\n",
              "      width: 32px;\n",
              "    }\n",
              "\n",
              "    .colab-df-convert:hover {\n",
              "      background-color: #E2EBFA;\n",
              "      box-shadow: 0px 1px 2px rgba(60, 64, 67, 0.3), 0px 1px 3px 1px rgba(60, 64, 67, 0.15);\n",
              "      fill: #174EA6;\n",
              "    }\n",
              "\n",
              "    [theme=dark] .colab-df-convert {\n",
              "      background-color: #3B4455;\n",
              "      fill: #D2E3FC;\n",
              "    }\n",
              "\n",
              "    [theme=dark] .colab-df-convert:hover {\n",
              "      background-color: #434B5C;\n",
              "      box-shadow: 0px 1px 3px 1px rgba(0, 0, 0, 0.15);\n",
              "      filter: drop-shadow(0px 1px 2px rgba(0, 0, 0, 0.3));\n",
              "      fill: #FFFFFF;\n",
              "    }\n",
              "  </style>\n",
              "\n",
              "      <script>\n",
              "        const buttonEl =\n",
              "          document.querySelector('#df-a5a81417-7a09-4e3f-93cc-3f3b94319b01 button.colab-df-convert');\n",
              "        buttonEl.style.display =\n",
              "          google.colab.kernel.accessAllowed ? 'block' : 'none';\n",
              "\n",
              "        async function convertToInteractive(key) {\n",
              "          const element = document.querySelector('#df-a5a81417-7a09-4e3f-93cc-3f3b94319b01');\n",
              "          const dataTable =\n",
              "            await google.colab.kernel.invokeFunction('convertToInteractive',\n",
              "                                                     [key], {});\n",
              "          if (!dataTable) return;\n",
              "\n",
              "          const docLinkHtml = 'Like what you see? Visit the ' +\n",
              "            '<a target=\"_blank\" href=https://colab.research.google.com/notebooks/data_table.ipynb>data table notebook</a>'\n",
              "            + ' to learn more about interactive tables.';\n",
              "          element.innerHTML = '';\n",
              "          dataTable['output_type'] = 'display_data';\n",
              "          await google.colab.output.renderOutput(dataTable, element);\n",
              "          const docLink = document.createElement('div');\n",
              "          docLink.innerHTML = docLinkHtml;\n",
              "          element.appendChild(docLink);\n",
              "        }\n",
              "      </script>\n",
              "    </div>\n",
              "  </div>\n",
              "  "
            ],
            "text/plain": [
              "               Edo  Delta  Kano  Katsina  Kaduna  Sokoto  Jigawa  Total\n",
              "ALGERIA        NaN    NaN   4.0      3.0     NaN     1.0     2.0     10\n",
              "CHAD           NaN    NaN   NaN      NaN     1.0     NaN     4.0      5\n",
              "EGYPT          NaN    1.0   NaN      NaN     NaN     NaN     1.0      2\n",
              "GHANA          NaN    NaN   NaN      NaN     NaN     1.0     NaN      1\n",
              "ITALY          2.0    2.0   NaN      NaN     1.0     NaN     NaN      5\n",
              "LIBYA         19.0   13.0   9.0      3.0     4.0     1.0     2.0     51\n",
              "MALI           2.0    NaN   NaN      2.0     NaN     NaN     NaN      4\n",
              "MOROCCO        1.0    1.0   NaN      NaN     1.0     NaN     NaN      3\n",
              "NIGER          NaN    NaN   NaN      NaN     2.0     3.0     NaN      5\n",
              "SAUDI ARABIA   NaN    NaN   NaN      1.0     2.0     NaN     NaN      3\n",
              "SPAIN          NaN    NaN   NaN      NaN     1.0     NaN     NaN      1\n",
              "SUDAN          NaN    NaN   NaN      3.0     NaN     NaN     NaN      3\n",
              "TOGO           NaN    NaN   NaN      NaN     NaN     1.0     NaN      1\n",
              "UAE            NaN    NaN   NaN      NaN     1.0     NaN     NaN      1"
            ]
          },
          "execution_count": null,
          "metadata": {},
          "output_type": "execute_result"
        }
      ],
      "source": [
        "Q2_df = Create(sample_df,'Q2',level=2)\n",
        "Q2_df"
      ]
    },
    {
      "cell_type": "markdown",
      "metadata": {
        "id": "FpT9cjljxM0T"
      },
      "source": [
        "###**RESPONDENTS' INTERVIEW QUESTION 3**"
      ]
    },
    {
      "cell_type": "code",
      "execution_count": null,
      "metadata": {
        "colab": {
          "background_save": true
        },
        "id": "l7ITLN_HxHwl",
        "outputId": "07279b4c-983e-4f6c-95a1-ac9bc303f91d"
      },
      "outputs": [
        {
          "data": {
            "text/plain": [
              "array(['No', 'Yes', ''], dtype=object)"
            ]
          },
          "execution_count": null,
          "metadata": {},
          "output_type": "execute_result"
        }
      ],
      "source": [
        "sample_df.Q3.unique()"
      ]
    },
    {
      "cell_type": "code",
      "execution_count": null,
      "metadata": {
        "colab": {
          "background_save": true
        },
        "id": "OOXhWCj32aTg",
        "outputId": "dec1c620-6c04-45e3-9e86-6ea8558989df"
      },
      "outputs": [
        {
          "data": {
            "text/plain": [
              "No     43\n",
              "Yes    39\n",
              "Name: Q3, dtype: int64"
            ]
          },
          "execution_count": null,
          "metadata": {},
          "output_type": "execute_result"
        }
      ],
      "source": [
        "sample_df.Q3 = sample_df.Q3.str.strip()\n",
        "sample_df.Q3 = sample_df.Q3.replace('',np.nan) \n",
        "sample_df.Q3.value_counts()"
      ]
    },
    {
      "cell_type": "code",
      "execution_count": null,
      "metadata": {
        "colab": {
          "background_save": true
        },
        "id": "W5a4JK062i0X",
        "outputId": "4531c6eb-fa63-48cb-b372-eaee6b98b5b8"
      },
      "outputs": [
        {
          "data": {
            "text/html": [
              "\n",
              "  <div id=\"df-6814b007-d895-4ca0-a7a8-5ed7732acabd\">\n",
              "    <div class=\"colab-df-container\">\n",
              "      <div>\n",
              "<style scoped>\n",
              "    .dataframe tbody tr th:only-of-type {\n",
              "        vertical-align: middle;\n",
              "    }\n",
              "\n",
              "    .dataframe tbody tr th {\n",
              "        vertical-align: top;\n",
              "    }\n",
              "\n",
              "    .dataframe thead th {\n",
              "        text-align: right;\n",
              "    }\n",
              "</style>\n",
              "<table border=\"1\" class=\"dataframe\">\n",
              "  <thead>\n",
              "    <tr style=\"text-align: right;\">\n",
              "      <th></th>\n",
              "      <th>Edo</th>\n",
              "      <th>Delta</th>\n",
              "      <th>Kano</th>\n",
              "      <th>Katsina</th>\n",
              "      <th>Kaduna</th>\n",
              "      <th>Sokoto</th>\n",
              "      <th>Jigawa</th>\n",
              "      <th>Total</th>\n",
              "    </tr>\n",
              "  </thead>\n",
              "  <tbody>\n",
              "    <tr>\n",
              "      <th>NO</th>\n",
              "      <td>11</td>\n",
              "      <td>6</td>\n",
              "      <td>12.0</td>\n",
              "      <td>1</td>\n",
              "      <td>5</td>\n",
              "      <td>2</td>\n",
              "      <td>6</td>\n",
              "      <td>43</td>\n",
              "    </tr>\n",
              "    <tr>\n",
              "      <th>YES</th>\n",
              "      <td>12</td>\n",
              "      <td>6</td>\n",
              "      <td>NaN</td>\n",
              "      <td>10</td>\n",
              "      <td>4</td>\n",
              "      <td>5</td>\n",
              "      <td>2</td>\n",
              "      <td>39</td>\n",
              "    </tr>\n",
              "  </tbody>\n",
              "</table>\n",
              "</div>\n",
              "      <button class=\"colab-df-convert\" onclick=\"convertToInteractive('df-6814b007-d895-4ca0-a7a8-5ed7732acabd')\"\n",
              "              title=\"Convert this dataframe to an interactive table.\"\n",
              "              style=\"display:none;\">\n",
              "        \n",
              "  <svg xmlns=\"http://www.w3.org/2000/svg\" height=\"24px\"viewBox=\"0 0 24 24\"\n",
              "       width=\"24px\">\n",
              "    <path d=\"M0 0h24v24H0V0z\" fill=\"none\"/>\n",
              "    <path d=\"M18.56 5.44l.94 2.06.94-2.06 2.06-.94-2.06-.94-.94-2.06-.94 2.06-2.06.94zm-11 1L8.5 8.5l.94-2.06 2.06-.94-2.06-.94L8.5 2.5l-.94 2.06-2.06.94zm10 10l.94 2.06.94-2.06 2.06-.94-2.06-.94-.94-2.06-.94 2.06-2.06.94z\"/><path d=\"M17.41 7.96l-1.37-1.37c-.4-.4-.92-.59-1.43-.59-.52 0-1.04.2-1.43.59L10.3 9.45l-7.72 7.72c-.78.78-.78 2.05 0 2.83L4 21.41c.39.39.9.59 1.41.59.51 0 1.02-.2 1.41-.59l7.78-7.78 2.81-2.81c.8-.78.8-2.07 0-2.86zM5.41 20L4 18.59l7.72-7.72 1.47 1.35L5.41 20z\"/>\n",
              "  </svg>\n",
              "      </button>\n",
              "      \n",
              "  <style>\n",
              "    .colab-df-container {\n",
              "      display:flex;\n",
              "      flex-wrap:wrap;\n",
              "      gap: 12px;\n",
              "    }\n",
              "\n",
              "    .colab-df-convert {\n",
              "      background-color: #E8F0FE;\n",
              "      border: none;\n",
              "      border-radius: 50%;\n",
              "      cursor: pointer;\n",
              "      display: none;\n",
              "      fill: #1967D2;\n",
              "      height: 32px;\n",
              "      padding: 0 0 0 0;\n",
              "      width: 32px;\n",
              "    }\n",
              "\n",
              "    .colab-df-convert:hover {\n",
              "      background-color: #E2EBFA;\n",
              "      box-shadow: 0px 1px 2px rgba(60, 64, 67, 0.3), 0px 1px 3px 1px rgba(60, 64, 67, 0.15);\n",
              "      fill: #174EA6;\n",
              "    }\n",
              "\n",
              "    [theme=dark] .colab-df-convert {\n",
              "      background-color: #3B4455;\n",
              "      fill: #D2E3FC;\n",
              "    }\n",
              "\n",
              "    [theme=dark] .colab-df-convert:hover {\n",
              "      background-color: #434B5C;\n",
              "      box-shadow: 0px 1px 3px 1px rgba(0, 0, 0, 0.15);\n",
              "      filter: drop-shadow(0px 1px 2px rgba(0, 0, 0, 0.3));\n",
              "      fill: #FFFFFF;\n",
              "    }\n",
              "  </style>\n",
              "\n",
              "      <script>\n",
              "        const buttonEl =\n",
              "          document.querySelector('#df-6814b007-d895-4ca0-a7a8-5ed7732acabd button.colab-df-convert');\n",
              "        buttonEl.style.display =\n",
              "          google.colab.kernel.accessAllowed ? 'block' : 'none';\n",
              "\n",
              "        async function convertToInteractive(key) {\n",
              "          const element = document.querySelector('#df-6814b007-d895-4ca0-a7a8-5ed7732acabd');\n",
              "          const dataTable =\n",
              "            await google.colab.kernel.invokeFunction('convertToInteractive',\n",
              "                                                     [key], {});\n",
              "          if (!dataTable) return;\n",
              "\n",
              "          const docLinkHtml = 'Like what you see? Visit the ' +\n",
              "            '<a target=\"_blank\" href=https://colab.research.google.com/notebooks/data_table.ipynb>data table notebook</a>'\n",
              "            + ' to learn more about interactive tables.';\n",
              "          element.innerHTML = '';\n",
              "          dataTable['output_type'] = 'display_data';\n",
              "          await google.colab.output.renderOutput(dataTable, element);\n",
              "          const docLink = document.createElement('div');\n",
              "          docLink.innerHTML = docLinkHtml;\n",
              "          element.appendChild(docLink);\n",
              "        }\n",
              "      </script>\n",
              "    </div>\n",
              "  </div>\n",
              "  "
            ],
            "text/plain": [
              "     Edo  Delta  Kano  Katsina  Kaduna  Sokoto  Jigawa  Total\n",
              "NO    11      6  12.0        1       5       2       6     43\n",
              "YES   12      6   NaN       10       4       5       2     39"
            ]
          },
          "execution_count": null,
          "metadata": {},
          "output_type": "execute_result"
        }
      ],
      "source": [
        "Q3_df = Create(sample_df,'Q3')\n",
        "Q3_df"
      ]
    },
    {
      "cell_type": "markdown",
      "metadata": {
        "id": "G_05OxX42nv5"
      },
      "source": [
        "###**RESPONDENTS' INTERVIEW QUESTION 4**"
      ]
    },
    {
      "cell_type": "code",
      "execution_count": null,
      "metadata": {
        "colab": {
          "background_save": true
        },
        "id": "72Gjb0Sh2mST",
        "outputId": "ca903176-9f33-403d-f439-3afb21d2d3d9"
      },
      "outputs": [
        {
          "data": {
            "text/plain": [
              "array(['', 'Kano', 'Kano, Sokoto', 'Sokoto', 'KADUNA', 'Katsina',\n",
              "       'Kano, Katsina', 'Kano, Katsina, KADUNA', 'GHANA', 'Jigawa',\n",
              "       'Kano, Jigawa', 'BORNO', 'Kebbi'], dtype=object)"
            ]
          },
          "execution_count": null,
          "metadata": {},
          "output_type": "execute_result"
        }
      ],
      "source": [
        "sample_df.Q4.unique()"
      ]
    },
    {
      "cell_type": "code",
      "execution_count": null,
      "metadata": {
        "colab": {
          "background_save": true
        },
        "id": "McS4WZ8m2vpL",
        "outputId": "4e00c723-c4bb-40a5-db96-8e6d4119d730"
      },
      "outputs": [
        {
          "data": {
            "text/plain": [
              "Katsina                  27\n",
              "Kano                     26\n",
              "Sokoto                   17\n",
              "Jigawa                    3\n",
              "Kebbi                     3\n",
              "Kano, Katsina, KADUNA     2\n",
              "BORNO                     2\n",
              "Kano, Sokoto              1\n",
              "KADUNA                    1\n",
              "Kano, Katsina             1\n",
              "Kano, Jigawa              1\n",
              "Name: Q4, dtype: int64"
            ]
          },
          "execution_count": null,
          "metadata": {},
          "output_type": "execute_result"
        }
      ],
      "source": [
        "sample_df.Q4 = sample_df.Q4.str.strip()\n",
        "sample_df.Q4 = sample_df.Q4.replace('GHANA',np.nan) \n",
        "sample_df.Q4 = sample_df.Q4.replace('',np.nan) \n",
        "sample_df.Q4.value_counts()"
      ]
    },
    {
      "cell_type": "markdown",
      "metadata": {
        "id": "-xUNXBr8yGxy"
      },
      "source": [
        "\n",
        "= pd.DataFrame(df)\n",
        "df.columns = ['Responses']\n",
        "df = df.reset_index()\n",
        "df = df.replace('',np.nan)\n",
        "df = df.dropna(how='any')\n",
        "df = df[['STATE_STUDIED','SEX']].value_counts()"
      ]
    },
    {
      "cell_type": "code",
      "execution_count": null,
      "metadata": {
        "colab": {
          "background_save": true
        },
        "id": "TwyI_uzJb9DH"
      },
      "outputs": [],
      "source": [
        "df = sample_df.groupby(['STATE_STUDIED','SEX'])['AGE'].value_counts()\n",
        "df = pd.DataFrame(df)\n",
        "df.columns = ['Responses']\n",
        "df = df.reset_index()\n",
        "df = df.replace('',np.nan)\n",
        "df = df.dropna(how='any')\n",
        "df = df.groupby('STATE_STUDIED')['SEX'].value_counts()\n",
        "df.to_csv('/content/drive/MyDrive/Colab Notebooks/KII Analysis/{}_Summary.csv'.format('Grouped response'))"
      ]
    },
    {
      "cell_type": "code",
      "execution_count": null,
      "metadata": {
        "colab": {
          "background_save": true
        },
        "id": "dHVBg5-w2zhi",
        "outputId": "8089e235-d26b-4c6a-f593-a5933675397d"
      },
      "outputs": [
        {
          "data": {
            "text/html": [
              "\n",
              "  <div id=\"df-5117472e-7fa2-4256-bb63-d8f828c72d98\">\n",
              "    <div class=\"colab-df-container\">\n",
              "      <div>\n",
              "<style scoped>\n",
              "    .dataframe tbody tr th:only-of-type {\n",
              "        vertical-align: middle;\n",
              "    }\n",
              "\n",
              "    .dataframe tbody tr th {\n",
              "        vertical-align: top;\n",
              "    }\n",
              "\n",
              "    .dataframe thead th {\n",
              "        text-align: right;\n",
              "    }\n",
              "</style>\n",
              "<table border=\"1\" class=\"dataframe\">\n",
              "  <thead>\n",
              "    <tr style=\"text-align: right;\">\n",
              "      <th></th>\n",
              "      <th>Edo</th>\n",
              "      <th>Delta</th>\n",
              "      <th>Kano</th>\n",
              "      <th>Katsina</th>\n",
              "      <th>Kaduna</th>\n",
              "      <th>Sokoto</th>\n",
              "      <th>Jigawa</th>\n",
              "      <th>Total</th>\n",
              "    </tr>\n",
              "  </thead>\n",
              "  <tbody>\n",
              "    <tr>\n",
              "      <th>BORNO</th>\n",
              "      <td>NaN</td>\n",
              "      <td>NaN</td>\n",
              "      <td>2.0</td>\n",
              "      <td>NaN</td>\n",
              "      <td>NaN</td>\n",
              "      <td>NaN</td>\n",
              "      <td>NaN</td>\n",
              "      <td>2</td>\n",
              "    </tr>\n",
              "    <tr>\n",
              "      <th>JIGAWA</th>\n",
              "      <td>NaN</td>\n",
              "      <td>NaN</td>\n",
              "      <td>NaN</td>\n",
              "      <td>NaN</td>\n",
              "      <td>2.0</td>\n",
              "      <td>NaN</td>\n",
              "      <td>2.0</td>\n",
              "      <td>4</td>\n",
              "    </tr>\n",
              "    <tr>\n",
              "      <th>KADUNA</th>\n",
              "      <td>2.0</td>\n",
              "      <td>1.0</td>\n",
              "      <td>NaN</td>\n",
              "      <td>NaN</td>\n",
              "      <td>NaN</td>\n",
              "      <td>NaN</td>\n",
              "      <td>NaN</td>\n",
              "      <td>3</td>\n",
              "    </tr>\n",
              "    <tr>\n",
              "      <th>KANO</th>\n",
              "      <td>14.0</td>\n",
              "      <td>11.0</td>\n",
              "      <td>NaN</td>\n",
              "      <td>1.0</td>\n",
              "      <td>5.0</td>\n",
              "      <td>NaN</td>\n",
              "      <td>NaN</td>\n",
              "      <td>31</td>\n",
              "    </tr>\n",
              "    <tr>\n",
              "      <th>KATSINA</th>\n",
              "      <td>5.0</td>\n",
              "      <td>NaN</td>\n",
              "      <td>9.0</td>\n",
              "      <td>10.0</td>\n",
              "      <td>4.0</td>\n",
              "      <td>1.0</td>\n",
              "      <td>1.0</td>\n",
              "      <td>30</td>\n",
              "    </tr>\n",
              "    <tr>\n",
              "      <th>KEBBI</th>\n",
              "      <td>NaN</td>\n",
              "      <td>NaN</td>\n",
              "      <td>NaN</td>\n",
              "      <td>NaN</td>\n",
              "      <td>NaN</td>\n",
              "      <td>3.0</td>\n",
              "      <td>NaN</td>\n",
              "      <td>3</td>\n",
              "    </tr>\n",
              "    <tr>\n",
              "      <th>SOKOTO</th>\n",
              "      <td>7.0</td>\n",
              "      <td>3.0</td>\n",
              "      <td>2.0</td>\n",
              "      <td>NaN</td>\n",
              "      <td>3.0</td>\n",
              "      <td>3.0</td>\n",
              "      <td>NaN</td>\n",
              "      <td>18</td>\n",
              "    </tr>\n",
              "  </tbody>\n",
              "</table>\n",
              "</div>\n",
              "      <button class=\"colab-df-convert\" onclick=\"convertToInteractive('df-5117472e-7fa2-4256-bb63-d8f828c72d98')\"\n",
              "              title=\"Convert this dataframe to an interactive table.\"\n",
              "              style=\"display:none;\">\n",
              "        \n",
              "  <svg xmlns=\"http://www.w3.org/2000/svg\" height=\"24px\"viewBox=\"0 0 24 24\"\n",
              "       width=\"24px\">\n",
              "    <path d=\"M0 0h24v24H0V0z\" fill=\"none\"/>\n",
              "    <path d=\"M18.56 5.44l.94 2.06.94-2.06 2.06-.94-2.06-.94-.94-2.06-.94 2.06-2.06.94zm-11 1L8.5 8.5l.94-2.06 2.06-.94-2.06-.94L8.5 2.5l-.94 2.06-2.06.94zm10 10l.94 2.06.94-2.06 2.06-.94-2.06-.94-.94-2.06-.94 2.06-2.06.94z\"/><path d=\"M17.41 7.96l-1.37-1.37c-.4-.4-.92-.59-1.43-.59-.52 0-1.04.2-1.43.59L10.3 9.45l-7.72 7.72c-.78.78-.78 2.05 0 2.83L4 21.41c.39.39.9.59 1.41.59.51 0 1.02-.2 1.41-.59l7.78-7.78 2.81-2.81c.8-.78.8-2.07 0-2.86zM5.41 20L4 18.59l7.72-7.72 1.47 1.35L5.41 20z\"/>\n",
              "  </svg>\n",
              "      </button>\n",
              "      \n",
              "  <style>\n",
              "    .colab-df-container {\n",
              "      display:flex;\n",
              "      flex-wrap:wrap;\n",
              "      gap: 12px;\n",
              "    }\n",
              "\n",
              "    .colab-df-convert {\n",
              "      background-color: #E8F0FE;\n",
              "      border: none;\n",
              "      border-radius: 50%;\n",
              "      cursor: pointer;\n",
              "      display: none;\n",
              "      fill: #1967D2;\n",
              "      height: 32px;\n",
              "      padding: 0 0 0 0;\n",
              "      width: 32px;\n",
              "    }\n",
              "\n",
              "    .colab-df-convert:hover {\n",
              "      background-color: #E2EBFA;\n",
              "      box-shadow: 0px 1px 2px rgba(60, 64, 67, 0.3), 0px 1px 3px 1px rgba(60, 64, 67, 0.15);\n",
              "      fill: #174EA6;\n",
              "    }\n",
              "\n",
              "    [theme=dark] .colab-df-convert {\n",
              "      background-color: #3B4455;\n",
              "      fill: #D2E3FC;\n",
              "    }\n",
              "\n",
              "    [theme=dark] .colab-df-convert:hover {\n",
              "      background-color: #434B5C;\n",
              "      box-shadow: 0px 1px 3px 1px rgba(0, 0, 0, 0.15);\n",
              "      filter: drop-shadow(0px 1px 2px rgba(0, 0, 0, 0.3));\n",
              "      fill: #FFFFFF;\n",
              "    }\n",
              "  </style>\n",
              "\n",
              "      <script>\n",
              "        const buttonEl =\n",
              "          document.querySelector('#df-5117472e-7fa2-4256-bb63-d8f828c72d98 button.colab-df-convert');\n",
              "        buttonEl.style.display =\n",
              "          google.colab.kernel.accessAllowed ? 'block' : 'none';\n",
              "\n",
              "        async function convertToInteractive(key) {\n",
              "          const element = document.querySelector('#df-5117472e-7fa2-4256-bb63-d8f828c72d98');\n",
              "          const dataTable =\n",
              "            await google.colab.kernel.invokeFunction('convertToInteractive',\n",
              "                                                     [key], {});\n",
              "          if (!dataTable) return;\n",
              "\n",
              "          const docLinkHtml = 'Like what you see? Visit the ' +\n",
              "            '<a target=\"_blank\" href=https://colab.research.google.com/notebooks/data_table.ipynb>data table notebook</a>'\n",
              "            + ' to learn more about interactive tables.';\n",
              "          element.innerHTML = '';\n",
              "          dataTable['output_type'] = 'display_data';\n",
              "          await google.colab.output.renderOutput(dataTable, element);\n",
              "          const docLink = document.createElement('div');\n",
              "          docLink.innerHTML = docLinkHtml;\n",
              "          element.appendChild(docLink);\n",
              "        }\n",
              "      </script>\n",
              "    </div>\n",
              "  </div>\n",
              "  "
            ],
            "text/plain": [
              "          Edo  Delta  Kano  Katsina  Kaduna  Sokoto  Jigawa  Total\n",
              "BORNO     NaN    NaN   2.0      NaN     NaN     NaN     NaN      2\n",
              "JIGAWA    NaN    NaN   NaN      NaN     2.0     NaN     2.0      4\n",
              "KADUNA    2.0    1.0   NaN      NaN     NaN     NaN     NaN      3\n",
              "KANO     14.0   11.0   NaN      1.0     5.0     NaN     NaN     31\n",
              "KATSINA   5.0    NaN   9.0     10.0     4.0     1.0     1.0     30\n",
              "KEBBI     NaN    NaN   NaN      NaN     NaN     3.0     NaN      3\n",
              "SOKOTO    7.0    3.0   2.0      NaN     3.0     3.0     NaN     18"
            ]
          },
          "execution_count": null,
          "metadata": {},
          "output_type": "execute_result"
        }
      ],
      "source": [
        "Q4_df = Create(sample_df,'Q4',level=2)\n",
        "Q4_df"
      ]
    },
    {
      "cell_type": "markdown",
      "metadata": {
        "id": "7zZ8PcJx3Gii"
      },
      "source": [
        "###**RESPONDENTS' INTERVIEW QUESTION 5**"
      ]
    },
    {
      "cell_type": "code",
      "execution_count": null,
      "metadata": {
        "colab": {
          "background_save": true
        },
        "id": "k3WbgRuB29Uz",
        "outputId": "c6fe8644-ddde-41a7-ecee-3cbe8db8015e"
      },
      "outputs": [
        {
          "data": {
            "text/plain": [
              "array(['', 'No', 'Yes'], dtype=object)"
            ]
          },
          "execution_count": null,
          "metadata": {},
          "output_type": "execute_result"
        }
      ],
      "source": [
        "sample_df.Q5.unique()"
      ]
    },
    {
      "cell_type": "code",
      "execution_count": null,
      "metadata": {
        "colab": {
          "background_save": true
        },
        "id": "7t5UUsqw3gE5",
        "outputId": "1eae7842-4088-44c5-9f77-68d3925c8a1d"
      },
      "outputs": [
        {
          "data": {
            "text/plain": [
              "Yes    67\n",
              "No     16\n",
              "Name: Q5, dtype: int64"
            ]
          },
          "execution_count": null,
          "metadata": {},
          "output_type": "execute_result"
        }
      ],
      "source": [
        "sample_df.Q5 = sample_df.Q5.str.strip()\n",
        "sample_df.Q5 = sample_df.Q5.replace('',np.nan) \n",
        "sample_df.Q5.value_counts()"
      ]
    },
    {
      "cell_type": "code",
      "execution_count": null,
      "metadata": {
        "colab": {
          "background_save": true
        },
        "id": "DE1f09-33mia",
        "outputId": "269650e6-9022-4af9-b488-885c2b9313a0"
      },
      "outputs": [
        {
          "data": {
            "text/html": [
              "\n",
              "  <div id=\"df-e03c3678-de08-46b1-9005-ff13c40bc8e9\">\n",
              "    <div class=\"colab-df-container\">\n",
              "      <div>\n",
              "<style scoped>\n",
              "    .dataframe tbody tr th:only-of-type {\n",
              "        vertical-align: middle;\n",
              "    }\n",
              "\n",
              "    .dataframe tbody tr th {\n",
              "        vertical-align: top;\n",
              "    }\n",
              "\n",
              "    .dataframe thead th {\n",
              "        text-align: right;\n",
              "    }\n",
              "</style>\n",
              "<table border=\"1\" class=\"dataframe\">\n",
              "  <thead>\n",
              "    <tr style=\"text-align: right;\">\n",
              "      <th></th>\n",
              "      <th>Edo</th>\n",
              "      <th>Delta</th>\n",
              "      <th>Kano</th>\n",
              "      <th>Katsina</th>\n",
              "      <th>Kaduna</th>\n",
              "      <th>Sokoto</th>\n",
              "      <th>Jigawa</th>\n",
              "      <th>Total</th>\n",
              "    </tr>\n",
              "  </thead>\n",
              "  <tbody>\n",
              "    <tr>\n",
              "      <th>NO</th>\n",
              "      <td>6</td>\n",
              "      <td>2</td>\n",
              "      <td>2</td>\n",
              "      <td>NaN</td>\n",
              "      <td>NaN</td>\n",
              "      <td>NaN</td>\n",
              "      <td>6</td>\n",
              "      <td>16</td>\n",
              "    </tr>\n",
              "    <tr>\n",
              "      <th>YES</th>\n",
              "      <td>18</td>\n",
              "      <td>6</td>\n",
              "      <td>11</td>\n",
              "      <td>11.0</td>\n",
              "      <td>13.0</td>\n",
              "      <td>6.0</td>\n",
              "      <td>2</td>\n",
              "      <td>67</td>\n",
              "    </tr>\n",
              "  </tbody>\n",
              "</table>\n",
              "</div>\n",
              "      <button class=\"colab-df-convert\" onclick=\"convertToInteractive('df-e03c3678-de08-46b1-9005-ff13c40bc8e9')\"\n",
              "              title=\"Convert this dataframe to an interactive table.\"\n",
              "              style=\"display:none;\">\n",
              "        \n",
              "  <svg xmlns=\"http://www.w3.org/2000/svg\" height=\"24px\"viewBox=\"0 0 24 24\"\n",
              "       width=\"24px\">\n",
              "    <path d=\"M0 0h24v24H0V0z\" fill=\"none\"/>\n",
              "    <path d=\"M18.56 5.44l.94 2.06.94-2.06 2.06-.94-2.06-.94-.94-2.06-.94 2.06-2.06.94zm-11 1L8.5 8.5l.94-2.06 2.06-.94-2.06-.94L8.5 2.5l-.94 2.06-2.06.94zm10 10l.94 2.06.94-2.06 2.06-.94-2.06-.94-.94-2.06-.94 2.06-2.06.94z\"/><path d=\"M17.41 7.96l-1.37-1.37c-.4-.4-.92-.59-1.43-.59-.52 0-1.04.2-1.43.59L10.3 9.45l-7.72 7.72c-.78.78-.78 2.05 0 2.83L4 21.41c.39.39.9.59 1.41.59.51 0 1.02-.2 1.41-.59l7.78-7.78 2.81-2.81c.8-.78.8-2.07 0-2.86zM5.41 20L4 18.59l7.72-7.72 1.47 1.35L5.41 20z\"/>\n",
              "  </svg>\n",
              "      </button>\n",
              "      \n",
              "  <style>\n",
              "    .colab-df-container {\n",
              "      display:flex;\n",
              "      flex-wrap:wrap;\n",
              "      gap: 12px;\n",
              "    }\n",
              "\n",
              "    .colab-df-convert {\n",
              "      background-color: #E8F0FE;\n",
              "      border: none;\n",
              "      border-radius: 50%;\n",
              "      cursor: pointer;\n",
              "      display: none;\n",
              "      fill: #1967D2;\n",
              "      height: 32px;\n",
              "      padding: 0 0 0 0;\n",
              "      width: 32px;\n",
              "    }\n",
              "\n",
              "    .colab-df-convert:hover {\n",
              "      background-color: #E2EBFA;\n",
              "      box-shadow: 0px 1px 2px rgba(60, 64, 67, 0.3), 0px 1px 3px 1px rgba(60, 64, 67, 0.15);\n",
              "      fill: #174EA6;\n",
              "    }\n",
              "\n",
              "    [theme=dark] .colab-df-convert {\n",
              "      background-color: #3B4455;\n",
              "      fill: #D2E3FC;\n",
              "    }\n",
              "\n",
              "    [theme=dark] .colab-df-convert:hover {\n",
              "      background-color: #434B5C;\n",
              "      box-shadow: 0px 1px 3px 1px rgba(0, 0, 0, 0.15);\n",
              "      filter: drop-shadow(0px 1px 2px rgba(0, 0, 0, 0.3));\n",
              "      fill: #FFFFFF;\n",
              "    }\n",
              "  </style>\n",
              "\n",
              "      <script>\n",
              "        const buttonEl =\n",
              "          document.querySelector('#df-e03c3678-de08-46b1-9005-ff13c40bc8e9 button.colab-df-convert');\n",
              "        buttonEl.style.display =\n",
              "          google.colab.kernel.accessAllowed ? 'block' : 'none';\n",
              "\n",
              "        async function convertToInteractive(key) {\n",
              "          const element = document.querySelector('#df-e03c3678-de08-46b1-9005-ff13c40bc8e9');\n",
              "          const dataTable =\n",
              "            await google.colab.kernel.invokeFunction('convertToInteractive',\n",
              "                                                     [key], {});\n",
              "          if (!dataTable) return;\n",
              "\n",
              "          const docLinkHtml = 'Like what you see? Visit the ' +\n",
              "            '<a target=\"_blank\" href=https://colab.research.google.com/notebooks/data_table.ipynb>data table notebook</a>'\n",
              "            + ' to learn more about interactive tables.';\n",
              "          element.innerHTML = '';\n",
              "          dataTable['output_type'] = 'display_data';\n",
              "          await google.colab.output.renderOutput(dataTable, element);\n",
              "          const docLink = document.createElement('div');\n",
              "          docLink.innerHTML = docLinkHtml;\n",
              "          element.appendChild(docLink);\n",
              "        }\n",
              "      </script>\n",
              "    </div>\n",
              "  </div>\n",
              "  "
            ],
            "text/plain": [
              "     Edo  Delta  Kano  Katsina  Kaduna  Sokoto  Jigawa  Total\n",
              "NO     6      2     2      NaN     NaN     NaN       6     16\n",
              "YES   18      6    11     11.0    13.0     6.0       2     67"
            ]
          },
          "execution_count": null,
          "metadata": {},
          "output_type": "execute_result"
        }
      ],
      "source": [
        "Q5_df = Create(sample_df,'Q5')\n",
        "Q5_df"
      ]
    },
    {
      "cell_type": "markdown",
      "metadata": {
        "id": "kWslMx-j3sry"
      },
      "source": [
        "###**RESPONDENTS' INTERVIEW QUESTION 6**"
      ]
    },
    {
      "cell_type": "code",
      "execution_count": null,
      "metadata": {
        "colab": {
          "background_save": true
        },
        "id": "Ma-XwC-y3rwb",
        "outputId": "ccd4939c-e416-452b-f845-bbb0232f9b42"
      },
      "outputs": [
        {
          "data": {
            "text/plain": [
              "array(['FRIEND', 'THROUGH RELATIVES', '', 'SOMEONE FROM BENIN', 'FRIENDS',\n",
              "       'A CUSTOMER', 'PASTORS CONNECTION', 'FRIENDS ABROAD',\n",
              "       'BY CONNECTION', 'SOCIAL MEDIA ', 'FRIENDS / BORGER ',\n",
              "       'FRIENDS ABROAD, BORGER', 'SOCIAL MEDIA', 'THROUGH CONNECTION MAN',\n",
              "       'SOCIAL MEDIA, BORGER ', 'SOCIAL', 'BORGER', '-',\n",
              "       'FRIENDS, FAMILY', 'SOCIAL MEDIA, FRIENDS, FAMILY',\n",
              "       'FRIENDS/FAMILY', 'FRIENDS, FAMILY, SOCIAL MEDIA',\n",
              "       'FRIENDS, FAMILY ', 'FRIENDS/FAMILY MEMBERS',\n",
              "       'FRIENDS/SOCIAL MEDIA', 'SOCIAL MEDIA FRIENDS', 'THROUGH OTHERS',\n",
              "       'I DONT NO', 'SOMEONE WHO LIVES THERE', 'THROUGH HUSBAND',\n",
              "       'BY AGENT', 'RETURNEES', 'THROUGH AGENT', 'AGENT',\n",
              "       'FRIENDS AND COLLEAGUES', 'INFORMED BY FRIENDS',\n",
              "       'ASKED PEOPLE WHO HAVE TRAVELLED BEFORE', 'INFORMED BY PEOPLE',\n",
              "       'INFORMED BY OTHER PEOPLE', 'BY FRIENDS',\n",
              "       'A FRIEND WHO HAS TRAVELLED BEFORE', 'MOSTLY AGENTS',\n",
              "       'THROUGH AGENTS', 'AGENTS AND MARCHANTS', 'AGENTS',\n",
              "       'FRIENDS AND AGENTS', 'AGENTS AND FRIENDS', 'AGENT FRIEND',\n",
              "       'BY DRIVING', 'BY DRIVERS', 'BY FRIEND'], dtype=object)"
            ]
          },
          "execution_count": null,
          "metadata": {},
          "output_type": "execute_result"
        }
      ],
      "source": [
        "sample_df.Q6.unique()"
      ]
    },
    {
      "cell_type": "code",
      "execution_count": null,
      "metadata": {
        "colab": {
          "background_save": true
        },
        "id": "tprCS97X4LdV"
      },
      "outputs": [],
      "source": [
        "words = ['FRIEND', 'THROUGH RELATIVES', '', 'SOMEONE FROM BENIN', 'FRIENDS',\n",
        "       'A CUSTOMER', 'PASTORS CONNECTION', 'FRIENDS ABROAD',\n",
        "       'BY CONNECTION', 'SOCIAL MEDIA ', 'FRIENDS / BORGER ',\n",
        "       'FRIENDS ABROAD, BORGER', 'SOCIAL MEDIA', 'THROUGH CONNECTION MAN',\n",
        "       'SOCIAL MEDIA, BORGER ', 'SOCIAL', 'BORGER', '-',\n",
        "       'FRIENDS, FAMILY', 'SOCIAL MEDIA, FRIENDS, FAMILY',\n",
        "       'FRIENDS/FAMILY', 'FRIENDS, FAMILY, SOCIAL MEDIA',\n",
        "       'FRIENDS, FAMILY ', 'FRIENDS/FAMILY MEMBERS',\n",
        "       'FRIENDS/SOCIAL MEDIA', 'SOCIAL MEDIA FRIENDS', 'THROUGH OTHERS',\n",
        "       'I DONT NO', 'SOMEONE WHO LIVES THERE', 'THROUGH HUSBAND',\n",
        "       'BY AGENT', 'RETURNEES', 'THROUGH AGENT', 'AGENT',\n",
        "       'FRIENDS AND COLLEAGUES', 'INFORMED BY FRIENDS',\n",
        "       'ASKED PEOPLE WHO HAVE TRAVELLED BEFORE', 'INFORMED BY PEOPLE',\n",
        "       'INFORMED BY OTHER PEOPLE', 'BY FRIENDS',\n",
        "       'A FRIEND WHO HAS TRAVELLED BEFORE', 'MOSTLY AGENTS',\n",
        "       'THROUGH AGENTS', 'AGENTS AND MARCHANTS', 'AGENTS',\n",
        "       'FRIENDS AND AGENTS', 'AGENTS AND FRIENDS', 'AGENT FRIEND',\n",
        "       'BY DRIVING', 'BY DRIVERS', 'BY FRIEND']\n",
        "\n",
        "correction = ['FRIENDS', 'FAMILY', np.nan, 'AGENTS', 'FRIENDS',\n",
        "       'FRIENDS', 'FRIENDS', 'FRIENDS',\n",
        "       'AGENTS', 'SOCIAL MEDIA ', 'FRIENDS,BORGER ',\n",
        "       'FRIENDS, BORGER', 'SOCIAL MEDIA', 'AGENTS',\n",
        "       'SOCIAL MEDIA, BORGER ', 'SOCIAL MEDIA', 'BORGER', '-',\n",
        "       'FRIENDS, FAMILY', 'SOCIAL MEDIA, FRIENDS, FAMILY',\n",
        "       'FRIENDS, FAMILY', 'FRIENDS, FAMILY, SOCIAL MEDIA',\n",
        "       'FRIENDS, FAMILY ', 'FRIENDS, FAMILY',\n",
        "       'FRIENDS, SOCIAL MEDIA', 'SOCIAL MEDIA, FRIENDS', 'FRIENDS',\n",
        "       'NONE', 'FRIENDS', 'FAMILY',\n",
        "       'AGENTS', 'RETURNEES', 'AGENTS', 'AGENTS',\n",
        "       'FRIENDS, COLLEAGUES', 'FRIENDS',\n",
        "       'RETURNEES', 'FRIENDS',\n",
        "       'FRIENDS', 'FRIENDS',\n",
        "       'FRIENDS', 'AGENTS',\n",
        "       'AGENTS', 'AGENTS', 'AGENTS',\n",
        "       'FRIENDS, AGENTS', 'AGENTS, FRIENDS', 'AGENTS, FRIENDS',\n",
        "       'DRIVERS', 'DRIVERS', 'FRIENDS']\n",
        "sample_df.Q6 = sample_df.Q6.replace(words,correction)"
      ]
    },
    {
      "cell_type": "code",
      "execution_count": null,
      "metadata": {
        "colab": {
          "background_save": true
        },
        "id": "aYJaNlNT31te",
        "outputId": "383d3888-4d74-4448-e80e-275bdb967077"
      },
      "outputs": [
        {
          "data": {
            "text/plain": [
              "FRIENDS                          37\n",
              "AGENTS                           16\n",
              "FRIENDS, FAMILY                   6\n",
              "SOCIAL MEDIA                      5\n",
              "AGENTS, FRIENDS                   3\n",
              "RETURNEES                         2\n",
              "FAMILY                            2\n",
              "DRIVERS                           2\n",
              "-                                 1\n",
              "BORGER                            1\n",
              "SOCIAL MEDIA, BORGER              1\n",
              "FRIENDS, FAMILY, SOCIAL MEDIA     1\n",
              "FRIENDS, SOCIAL MEDIA             1\n",
              "SOCIAL MEDIA, FRIENDS             1\n",
              "NONE                              1\n",
              "FRIENDS, BORGER                   1\n",
              "FRIENDS, COLLEAGUES               1\n",
              "FRIENDS, AGENTS                   1\n",
              "FRIENDS,BORGER                    1\n",
              "SOCIAL MEDIA, FRIENDS, FAMILY     1\n",
              "Name: Q6, dtype: int64"
            ]
          },
          "execution_count": null,
          "metadata": {},
          "output_type": "execute_result"
        }
      ],
      "source": [
        "sample_df.Q6 = sample_df.Q6.str.strip()\n",
        "sample_df.Q6 = sample_df.Q6.replace('',np.nan) \n",
        "sample_df.Q6.value_counts()"
      ]
    },
    {
      "cell_type": "code",
      "execution_count": null,
      "metadata": {
        "colab": {
          "background_save": true
        },
        "id": "o8wo5jXX4BB7",
        "outputId": "d2aaacb1-17c5-4279-aee3-9f3311fa9339"
      },
      "outputs": [
        {
          "data": {
            "text/html": [
              "\n",
              "  <div id=\"df-2e7ab8cc-8d44-4e1d-952f-a01b65d5b79f\">\n",
              "    <div class=\"colab-df-container\">\n",
              "      <div>\n",
              "<style scoped>\n",
              "    .dataframe tbody tr th:only-of-type {\n",
              "        vertical-align: middle;\n",
              "    }\n",
              "\n",
              "    .dataframe tbody tr th {\n",
              "        vertical-align: top;\n",
              "    }\n",
              "\n",
              "    .dataframe thead th {\n",
              "        text-align: right;\n",
              "    }\n",
              "</style>\n",
              "<table border=\"1\" class=\"dataframe\">\n",
              "  <thead>\n",
              "    <tr style=\"text-align: right;\">\n",
              "      <th></th>\n",
              "      <th>Edo</th>\n",
              "      <th>Delta</th>\n",
              "      <th>Kano</th>\n",
              "      <th>Katsina</th>\n",
              "      <th>Kaduna</th>\n",
              "      <th>Sokoto</th>\n",
              "      <th>Jigawa</th>\n",
              "      <th>Total</th>\n",
              "    </tr>\n",
              "  </thead>\n",
              "  <tbody>\n",
              "    <tr>\n",
              "      <th>-</th>\n",
              "      <td>1.0</td>\n",
              "      <td>NaN</td>\n",
              "      <td>NaN</td>\n",
              "      <td>NaN</td>\n",
              "      <td>NaN</td>\n",
              "      <td>NaN</td>\n",
              "      <td>NaN</td>\n",
              "      <td>1</td>\n",
              "    </tr>\n",
              "    <tr>\n",
              "      <th>AGENTS</th>\n",
              "      <td>1.0</td>\n",
              "      <td>2.0</td>\n",
              "      <td>NaN</td>\n",
              "      <td>9.0</td>\n",
              "      <td>7.0</td>\n",
              "      <td>1.0</td>\n",
              "      <td>NaN</td>\n",
              "      <td>20</td>\n",
              "    </tr>\n",
              "    <tr>\n",
              "      <th>BORGER</th>\n",
              "      <td>4.0</td>\n",
              "      <td>NaN</td>\n",
              "      <td>NaN</td>\n",
              "      <td>NaN</td>\n",
              "      <td>NaN</td>\n",
              "      <td>NaN</td>\n",
              "      <td>NaN</td>\n",
              "      <td>4</td>\n",
              "    </tr>\n",
              "    <tr>\n",
              "      <th>COLLEAGUES</th>\n",
              "      <td>NaN</td>\n",
              "      <td>NaN</td>\n",
              "      <td>NaN</td>\n",
              "      <td>NaN</td>\n",
              "      <td>1.0</td>\n",
              "      <td>NaN</td>\n",
              "      <td>NaN</td>\n",
              "      <td>1</td>\n",
              "    </tr>\n",
              "    <tr>\n",
              "      <th>DRIVERS</th>\n",
              "      <td>NaN</td>\n",
              "      <td>NaN</td>\n",
              "      <td>NaN</td>\n",
              "      <td>NaN</td>\n",
              "      <td>NaN</td>\n",
              "      <td>2.0</td>\n",
              "      <td>NaN</td>\n",
              "      <td>2</td>\n",
              "    </tr>\n",
              "    <tr>\n",
              "      <th>FAMILY</th>\n",
              "      <td>8.0</td>\n",
              "      <td>1.0</td>\n",
              "      <td>NaN</td>\n",
              "      <td>NaN</td>\n",
              "      <td>NaN</td>\n",
              "      <td>NaN</td>\n",
              "      <td>1.0</td>\n",
              "      <td>10</td>\n",
              "    </tr>\n",
              "    <tr>\n",
              "      <th>FRIENDS</th>\n",
              "      <td>15.0</td>\n",
              "      <td>10.0</td>\n",
              "      <td>12.0</td>\n",
              "      <td>4.0</td>\n",
              "      <td>5.0</td>\n",
              "      <td>2.0</td>\n",
              "      <td>6.0</td>\n",
              "      <td>54</td>\n",
              "    </tr>\n",
              "    <tr>\n",
              "      <th>NONE</th>\n",
              "      <td>NaN</td>\n",
              "      <td>NaN</td>\n",
              "      <td>NaN</td>\n",
              "      <td>NaN</td>\n",
              "      <td>NaN</td>\n",
              "      <td>NaN</td>\n",
              "      <td>1.0</td>\n",
              "      <td>1</td>\n",
              "    </tr>\n",
              "    <tr>\n",
              "      <th>RETURNEES</th>\n",
              "      <td>NaN</td>\n",
              "      <td>NaN</td>\n",
              "      <td>1.0</td>\n",
              "      <td>NaN</td>\n",
              "      <td>1.0</td>\n",
              "      <td>NaN</td>\n",
              "      <td>NaN</td>\n",
              "      <td>2</td>\n",
              "    </tr>\n",
              "    <tr>\n",
              "      <th>SOCIAL MEDIA</th>\n",
              "      <td>10.0</td>\n",
              "      <td>NaN</td>\n",
              "      <td>NaN</td>\n",
              "      <td>NaN</td>\n",
              "      <td>NaN</td>\n",
              "      <td>NaN</td>\n",
              "      <td>NaN</td>\n",
              "      <td>10</td>\n",
              "    </tr>\n",
              "  </tbody>\n",
              "</table>\n",
              "</div>\n",
              "      <button class=\"colab-df-convert\" onclick=\"convertToInteractive('df-2e7ab8cc-8d44-4e1d-952f-a01b65d5b79f')\"\n",
              "              title=\"Convert this dataframe to an interactive table.\"\n",
              "              style=\"display:none;\">\n",
              "        \n",
              "  <svg xmlns=\"http://www.w3.org/2000/svg\" height=\"24px\"viewBox=\"0 0 24 24\"\n",
              "       width=\"24px\">\n",
              "    <path d=\"M0 0h24v24H0V0z\" fill=\"none\"/>\n",
              "    <path d=\"M18.56 5.44l.94 2.06.94-2.06 2.06-.94-2.06-.94-.94-2.06-.94 2.06-2.06.94zm-11 1L8.5 8.5l.94-2.06 2.06-.94-2.06-.94L8.5 2.5l-.94 2.06-2.06.94zm10 10l.94 2.06.94-2.06 2.06-.94-2.06-.94-.94-2.06-.94 2.06-2.06.94z\"/><path d=\"M17.41 7.96l-1.37-1.37c-.4-.4-.92-.59-1.43-.59-.52 0-1.04.2-1.43.59L10.3 9.45l-7.72 7.72c-.78.78-.78 2.05 0 2.83L4 21.41c.39.39.9.59 1.41.59.51 0 1.02-.2 1.41-.59l7.78-7.78 2.81-2.81c.8-.78.8-2.07 0-2.86zM5.41 20L4 18.59l7.72-7.72 1.47 1.35L5.41 20z\"/>\n",
              "  </svg>\n",
              "      </button>\n",
              "      \n",
              "  <style>\n",
              "    .colab-df-container {\n",
              "      display:flex;\n",
              "      flex-wrap:wrap;\n",
              "      gap: 12px;\n",
              "    }\n",
              "\n",
              "    .colab-df-convert {\n",
              "      background-color: #E8F0FE;\n",
              "      border: none;\n",
              "      border-radius: 50%;\n",
              "      cursor: pointer;\n",
              "      display: none;\n",
              "      fill: #1967D2;\n",
              "      height: 32px;\n",
              "      padding: 0 0 0 0;\n",
              "      width: 32px;\n",
              "    }\n",
              "\n",
              "    .colab-df-convert:hover {\n",
              "      background-color: #E2EBFA;\n",
              "      box-shadow: 0px 1px 2px rgba(60, 64, 67, 0.3), 0px 1px 3px 1px rgba(60, 64, 67, 0.15);\n",
              "      fill: #174EA6;\n",
              "    }\n",
              "\n",
              "    [theme=dark] .colab-df-convert {\n",
              "      background-color: #3B4455;\n",
              "      fill: #D2E3FC;\n",
              "    }\n",
              "\n",
              "    [theme=dark] .colab-df-convert:hover {\n",
              "      background-color: #434B5C;\n",
              "      box-shadow: 0px 1px 3px 1px rgba(0, 0, 0, 0.15);\n",
              "      filter: drop-shadow(0px 1px 2px rgba(0, 0, 0, 0.3));\n",
              "      fill: #FFFFFF;\n",
              "    }\n",
              "  </style>\n",
              "\n",
              "      <script>\n",
              "        const buttonEl =\n",
              "          document.querySelector('#df-2e7ab8cc-8d44-4e1d-952f-a01b65d5b79f button.colab-df-convert');\n",
              "        buttonEl.style.display =\n",
              "          google.colab.kernel.accessAllowed ? 'block' : 'none';\n",
              "\n",
              "        async function convertToInteractive(key) {\n",
              "          const element = document.querySelector('#df-2e7ab8cc-8d44-4e1d-952f-a01b65d5b79f');\n",
              "          const dataTable =\n",
              "            await google.colab.kernel.invokeFunction('convertToInteractive',\n",
              "                                                     [key], {});\n",
              "          if (!dataTable) return;\n",
              "\n",
              "          const docLinkHtml = 'Like what you see? Visit the ' +\n",
              "            '<a target=\"_blank\" href=https://colab.research.google.com/notebooks/data_table.ipynb>data table notebook</a>'\n",
              "            + ' to learn more about interactive tables.';\n",
              "          element.innerHTML = '';\n",
              "          dataTable['output_type'] = 'display_data';\n",
              "          await google.colab.output.renderOutput(dataTable, element);\n",
              "          const docLink = document.createElement('div');\n",
              "          docLink.innerHTML = docLinkHtml;\n",
              "          element.appendChild(docLink);\n",
              "        }\n",
              "      </script>\n",
              "    </div>\n",
              "  </div>\n",
              "  "
            ],
            "text/plain": [
              "               Edo  Delta  Kano  Katsina  Kaduna  Sokoto  Jigawa  Total\n",
              "-              1.0    NaN   NaN      NaN     NaN     NaN     NaN      1\n",
              "AGENTS         1.0    2.0   NaN      9.0     7.0     1.0     NaN     20\n",
              "BORGER         4.0    NaN   NaN      NaN     NaN     NaN     NaN      4\n",
              "COLLEAGUES     NaN    NaN   NaN      NaN     1.0     NaN     NaN      1\n",
              "DRIVERS        NaN    NaN   NaN      NaN     NaN     2.0     NaN      2\n",
              "FAMILY         8.0    1.0   NaN      NaN     NaN     NaN     1.0     10\n",
              "FRIENDS       15.0   10.0  12.0      4.0     5.0     2.0     6.0     54\n",
              "NONE           NaN    NaN   NaN      NaN     NaN     NaN     1.0      1\n",
              "RETURNEES      NaN    NaN   1.0      NaN     1.0     NaN     NaN      2\n",
              "SOCIAL MEDIA  10.0    NaN   NaN      NaN     NaN     NaN     NaN     10"
            ]
          },
          "execution_count": null,
          "metadata": {},
          "output_type": "execute_result"
        }
      ],
      "source": [
        "Q6_df = Create(sample_df,'Q6',level=2)\n",
        "Q6_df"
      ]
    },
    {
      "cell_type": "markdown",
      "metadata": {
        "id": "frhUtWXLzFbg"
      },
      "source": [
        "###**RESPONDENTS' INTERVIEW QUESTION 7**"
      ]
    },
    {
      "cell_type": "code",
      "execution_count": null,
      "metadata": {
        "colab": {
          "background_save": true
        },
        "id": "CokPLC7Xy4iu",
        "outputId": "0495ce3f-f407-4fce-b4df-3f70f5420345"
      },
      "outputs": [
        {
          "data": {
            "text/plain": [
              "array(['POOR BACKGROUND', 'PRESSURE', 'HARDSHIP', 'BETTER LIFE', '',\n",
              "       'SEEKING GREENER PASTURE', 'TO MAKE MONEY TO CATER FOR MY FAMILY',\n",
              "       'TOO MUCH SUFFERING', 'RECESSION', 'PASTORS PROPHESY',\n",
              "       'TO BETTER MY LIFE', 'FRIENDS ', 'SOCIAL MEDIA ',\n",
              "       'GREENER PASTURE', 'HIGH RATE OF EURO', 'POVERTY ',\n",
              "       'ECONOMIC REASONS ', 'FAMILY', 'IT IS CHEAPER',\n",
              "       'LACK OF DOCUMENTS', 'LOW INCOME TO TRAVEL', 'NO TRAVEL DOCUMENT',\n",
              "       'INCOMPLETE TRAVEL DOCUMENTS', 'LACK OF MONEY',\n",
              "       'LACK OF TRAVEL DOCUMENTS', 'POVERTY', 'SUFFERING', 'ITS EASIER',\n",
              "       'SOCIAL MEDIA', 'LACK OF TRAVEL DOCUMENT', 'LACK OF DOCUMENT',\n",
              "       'CHEAP AND EASY ACCESS', 'CHEAP PRICE OF VEHICLE ', 'PROBLEM',\n",
              "       'EXCURSION', 'MY CONDITION', 'PROBLEM OF VISA',\n",
              "       'IT EASIER TO ACCESS', 'ITS EASY', 'IT SIMPLE', 'IS VERY EASY',\n",
              "       'AGENT', 'FINANCIAL NEEDS', 'LESS SPENDING',\n",
              "       'IT IS EASY AND CHEAP', 'EASIEST WAY', 'EASIEST WAY TO TRAVEL',\n",
              "       'LESS EXPENSIVE', 'IT IS CHEAP', 'EASIEST, CHEAP',\n",
              "       'IT IS THE EASIEST WAY', 'FRIENDS', 'IT IS VERY EASY',\n",
              "       'EASY MONEY', 'EASY ROAD', 'EASY ACCESS', 'IT IS FREE ACCESS',\n",
              "       'CHEAP', 'IT IS EASY', 'THE ONLY ROUTE I NO', 'PEER GROUP',\n",
              "       'FRIEND', 'THE ONLY ROUTE I KNEW'], dtype=object)"
            ]
          },
          "execution_count": null,
          "metadata": {},
          "output_type": "execute_result"
        }
      ],
      "source": [
        "sample_df.Q7.unique()"
      ]
    },
    {
      "cell_type": "code",
      "execution_count": null,
      "metadata": {
        "colab": {
          "background_save": true
        },
        "id": "mcm8aW_yzQTK"
      },
      "outputs": [],
      "source": [
        "words = ['POOR BACKGROUND', 'PRESSURE', 'HARDSHIP', 'BETTER LIFE', '',\n",
        "       'SEEKING GREENER PASTURE', 'TO MAKE MONEY TO CATER FOR MY FAMILY',\n",
        "       'TOO MUCH SUFFERING', 'RECESSION', 'PASTORS PROPHESY',\n",
        "       'TO BETTER MY LIFE', 'FRIENDS ', 'SOCIAL MEDIA ',\n",
        "       'GREENER PASTURE', 'HIGH RATE OF EURO', 'POVERTY ',\n",
        "       'ECONOMIC REASONS ', 'FAMILY', 'IT IS CHEAPER',\n",
        "       'LACK OF DOCUMENTS', 'LOW INCOME TO TRAVEL', 'NO TRAVEL DOCUMENT',\n",
        "       'INCOMPLETE TRAVEL DOCUMENTS', 'LACK OF MONEY',\n",
        "       'LACK OF TRAVEL DOCUMENTS', 'POVERTY', 'SUFFERING', 'ITS EASIER',\n",
        "       'SOCIAL MEDIA', 'LACK OF TRAVEL DOCUMENT', 'LACK OF DOCUMENT',\n",
        "       'CHEAP AND EASY ACCESS', 'CHEAP PRICE OF VEHICLE ', 'PROBLEM',\n",
        "       'EXCURSION', 'MY CONDITION', 'PROBLEM OF VISA',\n",
        "       'IT EASIER TO ACCESS', 'ITS EASY', 'IT SIMPLE', 'IS VERY EASY',\n",
        "       'AGENT', 'FINANCIAL NEEDS', 'LESS SPENDING',\n",
        "       'IT IS EASY AND CHEAP', 'EASIEST WAY', 'EASIEST WAY TO TRAVEL',\n",
        "       'LESS EXPENSIVE', 'IT IS CHEAP', 'EASIEST, CHEAP',\n",
        "       'IT IS THE EASIEST WAY', 'FRIENDS', 'IT IS VERY EASY',\n",
        "       'EASY MONEY', 'EASY ROAD', 'EASY ACCESS', 'IT IS FREE ACCESS',\n",
        "       'CHEAP', 'IT IS EASY', 'THE ONLY ROUTE I NO', 'PEER GROUP',\n",
        "       'FRIEND', 'THE ONLY ROUTE I KNEW']\n",
        "\n",
        "correct = ['MIS-INFORMED', 'PEER PRESSURE', 'ECONOMIC/FINANCIAL', 'ECONOMIC/FINANCIAL', np.nan,\n",
        "       'ECONOMIC/FINANCIAL', 'ECONOMIC/FINANCIAL, FAMILY',\n",
        "       'ECONOMIC/FINANCIAL', 'ECONOMIC/FINANCIAL', 'MIS-INFORMED',\n",
        "       'ECONOMIC/FINANCIAL', 'FRIENDS', 'SOCIAL MEDIA',\n",
        "       'ECONOMIC/FINANCIAL', 'ECONOMIC/FINANCIAL', 'ECONOMIC/FINANCIAL',\n",
        "       'ECONOMIC/FINANCIAL', 'FAMILY', 'AFFORDABLE',\n",
        "       'NO TRAVEL DOCUMENTS', 'AFFORDABLE', 'NO TRAVEL DOCUMENTS',\n",
        "       'NO TRAVEL DOCUMENTS', 'AFFORDABLE',\n",
        "       'NO TRAVEL DOCUMENTS', 'ECONOMIC/FINANCIAL', 'ECONOMIC/FINANCIAL', 'EASY ACCESS',\n",
        "       'SOCIAL MEDIA', 'NO TRAVEL DOCUMENTS', 'NO TRAVEL DOCUMENTS',\n",
        "       'AFFORDABLE, EASY ACCESS', 'AFFORDABLE', np.nan,\n",
        "       'EXCURSION', 'ECONOMIC/FINANCIAL', 'NO TRAVEL DOCUMENTS',\n",
        "       'EASY ACCESS', 'EASY ACCESS', 'SIMPLICITY', 'EASY ACCESS',\n",
        "       'AGENTS', 'ECONOMIC/FINANCIAL', 'AFFORDABLE',\n",
        "       'EASY ACCESS, AFFORDABLE', 'EASY ACCESS', 'EASY ACCESS',\n",
        "       'AFFORDABLE', 'AFFORDABLE', 'EASY ACCESS, AFFORDABLE',\n",
        "       'EASY ACCESS', 'FRIENDS', 'EASY ACCESS',\n",
        "       'AFFORDABLE', 'EASY ACCESS', 'EASY ACCESS', 'EASY ACCESS',\n",
        "       'AFFORDABLE', 'EASY ACCESS', 'THE ONLY ROUTE I KNOW', 'PEER PRESSURE',\n",
        "       'FRIENDS', 'THE ONLY ROUTE I KNOW']\n",
        "sample_df.Q7 = sample_df.Q7.replace(words,correct)"
      ]
    },
    {
      "cell_type": "code",
      "execution_count": null,
      "metadata": {
        "colab": {
          "background_save": true
        },
        "id": "qQtHjQey2V60",
        "outputId": "b788f800-9fc3-4242-9113-f2a2fe3cd3e2"
      },
      "outputs": [
        {
          "data": {
            "text/plain": [
              "ECONOMIC/FINANCIAL            19\n",
              "AFFORDABLE                    13\n",
              "EASY ACCESS                   13\n",
              "NO TRAVEL DOCUMENTS            7\n",
              "SOCIAL MEDIA                   5\n",
              "PEER PRESSURE                  3\n",
              "FRIENDS                        3\n",
              "MIS-INFORMED                   2\n",
              "EASY ACCESS, AFFORDABLE        2\n",
              "THE ONLY ROUTE I KNOW          2\n",
              "ECONOMIC/FINANCIAL, FAMILY     1\n",
              "FAMILY                         1\n",
              "AFFORDABLE, EASY ACCESS        1\n",
              "EXCURSION                      1\n",
              "SIMPLICITY                     1\n",
              "AGENTS                         1\n",
              "Name: Q7, dtype: int64"
            ]
          },
          "execution_count": null,
          "metadata": {},
          "output_type": "execute_result"
        }
      ],
      "source": [
        "sample_df.Q7 = sample_df.Q7.str.strip()\n",
        "sample_df.Q7 = sample_df.Q7.replace('',np.nan) \n",
        "sample_df.Q7.value_counts()"
      ]
    },
    {
      "cell_type": "code",
      "execution_count": null,
      "metadata": {
        "colab": {
          "background_save": true
        },
        "id": "SqIxSPtG2amV",
        "outputId": "37a7419b-ab7b-4166-873a-256d1343c388"
      },
      "outputs": [
        {
          "data": {
            "text/html": [
              "\n",
              "  <div id=\"df-899c61ce-9dfa-4e19-ab9f-ded76c272f0e\">\n",
              "    <div class=\"colab-df-container\">\n",
              "      <div>\n",
              "<style scoped>\n",
              "    .dataframe tbody tr th:only-of-type {\n",
              "        vertical-align: middle;\n",
              "    }\n",
              "\n",
              "    .dataframe tbody tr th {\n",
              "        vertical-align: top;\n",
              "    }\n",
              "\n",
              "    .dataframe thead th {\n",
              "        text-align: right;\n",
              "    }\n",
              "</style>\n",
              "<table border=\"1\" class=\"dataframe\">\n",
              "  <thead>\n",
              "    <tr style=\"text-align: right;\">\n",
              "      <th></th>\n",
              "      <th>Edo</th>\n",
              "      <th>Delta</th>\n",
              "      <th>Kano</th>\n",
              "      <th>Katsina</th>\n",
              "      <th>Kaduna</th>\n",
              "      <th>Sokoto</th>\n",
              "      <th>Jigawa</th>\n",
              "      <th>Total</th>\n",
              "    </tr>\n",
              "  </thead>\n",
              "  <tbody>\n",
              "    <tr>\n",
              "      <th>AFFORDABLE</th>\n",
              "      <td>3.0</td>\n",
              "      <td>NaN</td>\n",
              "      <td>7.0</td>\n",
              "      <td>4.0</td>\n",
              "      <td>NaN</td>\n",
              "      <td>NaN</td>\n",
              "      <td>2.0</td>\n",
              "      <td>16</td>\n",
              "    </tr>\n",
              "    <tr>\n",
              "      <th>AGENTS</th>\n",
              "      <td>NaN</td>\n",
              "      <td>NaN</td>\n",
              "      <td>NaN</td>\n",
              "      <td>NaN</td>\n",
              "      <td>1.0</td>\n",
              "      <td>NaN</td>\n",
              "      <td>NaN</td>\n",
              "      <td>1</td>\n",
              "    </tr>\n",
              "    <tr>\n",
              "      <th>EASY ACCESS</th>\n",
              "      <td>1.0</td>\n",
              "      <td>NaN</td>\n",
              "      <td>5.0</td>\n",
              "      <td>6.0</td>\n",
              "      <td>3.0</td>\n",
              "      <td>NaN</td>\n",
              "      <td>1.0</td>\n",
              "      <td>16</td>\n",
              "    </tr>\n",
              "    <tr>\n",
              "      <th>ECONOMIC/FINANCIAL</th>\n",
              "      <td>7.0</td>\n",
              "      <td>9.0</td>\n",
              "      <td>NaN</td>\n",
              "      <td>NaN</td>\n",
              "      <td>3.0</td>\n",
              "      <td>NaN</td>\n",
              "      <td>1.0</td>\n",
              "      <td>20</td>\n",
              "    </tr>\n",
              "    <tr>\n",
              "      <th>EXCURSION</th>\n",
              "      <td>NaN</td>\n",
              "      <td>NaN</td>\n",
              "      <td>NaN</td>\n",
              "      <td>NaN</td>\n",
              "      <td>1.0</td>\n",
              "      <td>NaN</td>\n",
              "      <td>NaN</td>\n",
              "      <td>1</td>\n",
              "    </tr>\n",
              "    <tr>\n",
              "      <th>FAMILY</th>\n",
              "      <td>1.0</td>\n",
              "      <td>1.0</td>\n",
              "      <td>NaN</td>\n",
              "      <td>NaN</td>\n",
              "      <td>NaN</td>\n",
              "      <td>NaN</td>\n",
              "      <td>NaN</td>\n",
              "      <td>2</td>\n",
              "    </tr>\n",
              "    <tr>\n",
              "      <th>FRIENDS</th>\n",
              "      <td>1.0</td>\n",
              "      <td>NaN</td>\n",
              "      <td>1.0</td>\n",
              "      <td>NaN</td>\n",
              "      <td>NaN</td>\n",
              "      <td>1.0</td>\n",
              "      <td>NaN</td>\n",
              "      <td>3</td>\n",
              "    </tr>\n",
              "    <tr>\n",
              "      <th>MIS-INFORMED</th>\n",
              "      <td>NaN</td>\n",
              "      <td>2.0</td>\n",
              "      <td>NaN</td>\n",
              "      <td>NaN</td>\n",
              "      <td>NaN</td>\n",
              "      <td>NaN</td>\n",
              "      <td>NaN</td>\n",
              "      <td>2</td>\n",
              "    </tr>\n",
              "    <tr>\n",
              "      <th>NO TRAVEL DOCUMENTS</th>\n",
              "      <td>6.0</td>\n",
              "      <td>NaN</td>\n",
              "      <td>NaN</td>\n",
              "      <td>NaN</td>\n",
              "      <td>1.0</td>\n",
              "      <td>NaN</td>\n",
              "      <td>NaN</td>\n",
              "      <td>7</td>\n",
              "    </tr>\n",
              "    <tr>\n",
              "      <th>PEER PRESSURE</th>\n",
              "      <td>NaN</td>\n",
              "      <td>2.0</td>\n",
              "      <td>NaN</td>\n",
              "      <td>NaN</td>\n",
              "      <td>NaN</td>\n",
              "      <td>1.0</td>\n",
              "      <td>NaN</td>\n",
              "      <td>3</td>\n",
              "    </tr>\n",
              "    <tr>\n",
              "      <th>SIMPLICITY</th>\n",
              "      <td>NaN</td>\n",
              "      <td>NaN</td>\n",
              "      <td>NaN</td>\n",
              "      <td>NaN</td>\n",
              "      <td>1.0</td>\n",
              "      <td>NaN</td>\n",
              "      <td>NaN</td>\n",
              "      <td>1</td>\n",
              "    </tr>\n",
              "    <tr>\n",
              "      <th>SOCIAL MEDIA</th>\n",
              "      <td>5.0</td>\n",
              "      <td>NaN</td>\n",
              "      <td>NaN</td>\n",
              "      <td>NaN</td>\n",
              "      <td>NaN</td>\n",
              "      <td>NaN</td>\n",
              "      <td>NaN</td>\n",
              "      <td>5</td>\n",
              "    </tr>\n",
              "    <tr>\n",
              "      <th>THE ONLY ROUTE I KNOW</th>\n",
              "      <td>NaN</td>\n",
              "      <td>NaN</td>\n",
              "      <td>NaN</td>\n",
              "      <td>NaN</td>\n",
              "      <td>NaN</td>\n",
              "      <td>2.0</td>\n",
              "      <td>NaN</td>\n",
              "      <td>2</td>\n",
              "    </tr>\n",
              "  </tbody>\n",
              "</table>\n",
              "</div>\n",
              "      <button class=\"colab-df-convert\" onclick=\"convertToInteractive('df-899c61ce-9dfa-4e19-ab9f-ded76c272f0e')\"\n",
              "              title=\"Convert this dataframe to an interactive table.\"\n",
              "              style=\"display:none;\">\n",
              "        \n",
              "  <svg xmlns=\"http://www.w3.org/2000/svg\" height=\"24px\"viewBox=\"0 0 24 24\"\n",
              "       width=\"24px\">\n",
              "    <path d=\"M0 0h24v24H0V0z\" fill=\"none\"/>\n",
              "    <path d=\"M18.56 5.44l.94 2.06.94-2.06 2.06-.94-2.06-.94-.94-2.06-.94 2.06-2.06.94zm-11 1L8.5 8.5l.94-2.06 2.06-.94-2.06-.94L8.5 2.5l-.94 2.06-2.06.94zm10 10l.94 2.06.94-2.06 2.06-.94-2.06-.94-.94-2.06-.94 2.06-2.06.94z\"/><path d=\"M17.41 7.96l-1.37-1.37c-.4-.4-.92-.59-1.43-.59-.52 0-1.04.2-1.43.59L10.3 9.45l-7.72 7.72c-.78.78-.78 2.05 0 2.83L4 21.41c.39.39.9.59 1.41.59.51 0 1.02-.2 1.41-.59l7.78-7.78 2.81-2.81c.8-.78.8-2.07 0-2.86zM5.41 20L4 18.59l7.72-7.72 1.47 1.35L5.41 20z\"/>\n",
              "  </svg>\n",
              "      </button>\n",
              "      \n",
              "  <style>\n",
              "    .colab-df-container {\n",
              "      display:flex;\n",
              "      flex-wrap:wrap;\n",
              "      gap: 12px;\n",
              "    }\n",
              "\n",
              "    .colab-df-convert {\n",
              "      background-color: #E8F0FE;\n",
              "      border: none;\n",
              "      border-radius: 50%;\n",
              "      cursor: pointer;\n",
              "      display: none;\n",
              "      fill: #1967D2;\n",
              "      height: 32px;\n",
              "      padding: 0 0 0 0;\n",
              "      width: 32px;\n",
              "    }\n",
              "\n",
              "    .colab-df-convert:hover {\n",
              "      background-color: #E2EBFA;\n",
              "      box-shadow: 0px 1px 2px rgba(60, 64, 67, 0.3), 0px 1px 3px 1px rgba(60, 64, 67, 0.15);\n",
              "      fill: #174EA6;\n",
              "    }\n",
              "\n",
              "    [theme=dark] .colab-df-convert {\n",
              "      background-color: #3B4455;\n",
              "      fill: #D2E3FC;\n",
              "    }\n",
              "\n",
              "    [theme=dark] .colab-df-convert:hover {\n",
              "      background-color: #434B5C;\n",
              "      box-shadow: 0px 1px 3px 1px rgba(0, 0, 0, 0.15);\n",
              "      filter: drop-shadow(0px 1px 2px rgba(0, 0, 0, 0.3));\n",
              "      fill: #FFFFFF;\n",
              "    }\n",
              "  </style>\n",
              "\n",
              "      <script>\n",
              "        const buttonEl =\n",
              "          document.querySelector('#df-899c61ce-9dfa-4e19-ab9f-ded76c272f0e button.colab-df-convert');\n",
              "        buttonEl.style.display =\n",
              "          google.colab.kernel.accessAllowed ? 'block' : 'none';\n",
              "\n",
              "        async function convertToInteractive(key) {\n",
              "          const element = document.querySelector('#df-899c61ce-9dfa-4e19-ab9f-ded76c272f0e');\n",
              "          const dataTable =\n",
              "            await google.colab.kernel.invokeFunction('convertToInteractive',\n",
              "                                                     [key], {});\n",
              "          if (!dataTable) return;\n",
              "\n",
              "          const docLinkHtml = 'Like what you see? Visit the ' +\n",
              "            '<a target=\"_blank\" href=https://colab.research.google.com/notebooks/data_table.ipynb>data table notebook</a>'\n",
              "            + ' to learn more about interactive tables.';\n",
              "          element.innerHTML = '';\n",
              "          dataTable['output_type'] = 'display_data';\n",
              "          await google.colab.output.renderOutput(dataTable, element);\n",
              "          const docLink = document.createElement('div');\n",
              "          docLink.innerHTML = docLinkHtml;\n",
              "          element.appendChild(docLink);\n",
              "        }\n",
              "      </script>\n",
              "    </div>\n",
              "  </div>\n",
              "  "
            ],
            "text/plain": [
              "                       Edo  Delta  Kano  Katsina  Kaduna  Sokoto  Jigawa  \\\n",
              "AFFORDABLE             3.0    NaN   7.0      4.0     NaN     NaN     2.0   \n",
              "AGENTS                 NaN    NaN   NaN      NaN     1.0     NaN     NaN   \n",
              "EASY ACCESS            1.0    NaN   5.0      6.0     3.0     NaN     1.0   \n",
              "ECONOMIC/FINANCIAL     7.0    9.0   NaN      NaN     3.0     NaN     1.0   \n",
              "EXCURSION              NaN    NaN   NaN      NaN     1.0     NaN     NaN   \n",
              "FAMILY                 1.0    1.0   NaN      NaN     NaN     NaN     NaN   \n",
              "FRIENDS                1.0    NaN   1.0      NaN     NaN     1.0     NaN   \n",
              "MIS-INFORMED           NaN    2.0   NaN      NaN     NaN     NaN     NaN   \n",
              "NO TRAVEL DOCUMENTS    6.0    NaN   NaN      NaN     1.0     NaN     NaN   \n",
              "PEER PRESSURE          NaN    2.0   NaN      NaN     NaN     1.0     NaN   \n",
              "SIMPLICITY             NaN    NaN   NaN      NaN     1.0     NaN     NaN   \n",
              "SOCIAL MEDIA           5.0    NaN   NaN      NaN     NaN     NaN     NaN   \n",
              "THE ONLY ROUTE I KNOW  NaN    NaN   NaN      NaN     NaN     2.0     NaN   \n",
              "\n",
              "                       Total  \n",
              "AFFORDABLE                16  \n",
              "AGENTS                     1  \n",
              "EASY ACCESS               16  \n",
              "ECONOMIC/FINANCIAL        20  \n",
              "EXCURSION                  1  \n",
              "FAMILY                     2  \n",
              "FRIENDS                    3  \n",
              "MIS-INFORMED               2  \n",
              "NO TRAVEL DOCUMENTS        7  \n",
              "PEER PRESSURE              3  \n",
              "SIMPLICITY                 1  \n",
              "SOCIAL MEDIA               5  \n",
              "THE ONLY ROUTE I KNOW      2  "
            ]
          },
          "execution_count": null,
          "metadata": {},
          "output_type": "execute_result"
        }
      ],
      "source": [
        "Q7_df = Create(sample_df,'Q7',level=2)\n",
        "Q7_df"
      ]
    },
    {
      "cell_type": "markdown",
      "metadata": {
        "id": "hcPuwjXk4S0R"
      },
      "source": [
        "###**RESPONDENTS' INTERVIEW QUESTION 8**"
      ]
    },
    {
      "cell_type": "code",
      "execution_count": null,
      "metadata": {
        "colab": {
          "background_save": true
        },
        "id": "NXZVGHQo3RKb",
        "outputId": "ebee516c-3832-4259-b66d-bb17bdb21fd0"
      },
      "outputs": [
        {
          "data": {
            "text/plain": [
              "array(['Yes', 'No', ''], dtype=object)"
            ]
          },
          "execution_count": null,
          "metadata": {},
          "output_type": "execute_result"
        }
      ],
      "source": [
        "sample_df.Q8.unique()"
      ]
    },
    {
      "cell_type": "code",
      "execution_count": null,
      "metadata": {
        "colab": {
          "background_save": true
        },
        "id": "EGGYBEpf4gr-",
        "outputId": "170fec3d-0c83-4ee7-b6da-909da6f29648"
      },
      "outputs": [
        {
          "data": {
            "text/plain": [
              "Yes    79\n",
              "No      8\n",
              "Name: Q8, dtype: int64"
            ]
          },
          "execution_count": null,
          "metadata": {},
          "output_type": "execute_result"
        }
      ],
      "source": [
        "sample_df.Q8 = sample_df.Q8.str.strip()\n",
        "sample_df.Q8 = sample_df.Q8.replace('',np.nan) \n",
        "sample_df.Q8.value_counts()"
      ]
    },
    {
      "cell_type": "code",
      "execution_count": null,
      "metadata": {
        "colab": {
          "background_save": true
        },
        "id": "2oBD86xw4lyc",
        "outputId": "9a400cca-78a1-4ac9-8344-ca10a1562a92"
      },
      "outputs": [
        {
          "data": {
            "text/html": [
              "\n",
              "  <div id=\"df-3d221c4c-9ad9-4502-8725-e3e7c74282f0\">\n",
              "    <div class=\"colab-df-container\">\n",
              "      <div>\n",
              "<style scoped>\n",
              "    .dataframe tbody tr th:only-of-type {\n",
              "        vertical-align: middle;\n",
              "    }\n",
              "\n",
              "    .dataframe tbody tr th {\n",
              "        vertical-align: top;\n",
              "    }\n",
              "\n",
              "    .dataframe thead th {\n",
              "        text-align: right;\n",
              "    }\n",
              "</style>\n",
              "<table border=\"1\" class=\"dataframe\">\n",
              "  <thead>\n",
              "    <tr style=\"text-align: right;\">\n",
              "      <th></th>\n",
              "      <th>Edo</th>\n",
              "      <th>Delta</th>\n",
              "      <th>Kano</th>\n",
              "      <th>Katsina</th>\n",
              "      <th>Kaduna</th>\n",
              "      <th>Sokoto</th>\n",
              "      <th>Jigawa</th>\n",
              "      <th>Total</th>\n",
              "    </tr>\n",
              "  </thead>\n",
              "  <tbody>\n",
              "    <tr>\n",
              "      <th>NO</th>\n",
              "      <td>NaN</td>\n",
              "      <td>3</td>\n",
              "      <td>NaN</td>\n",
              "      <td>NaN</td>\n",
              "      <td>1</td>\n",
              "      <td>NaN</td>\n",
              "      <td>4</td>\n",
              "      <td>8</td>\n",
              "    </tr>\n",
              "    <tr>\n",
              "      <th>YES</th>\n",
              "      <td>22.0</td>\n",
              "      <td>12</td>\n",
              "      <td>13.0</td>\n",
              "      <td>11.0</td>\n",
              "      <td>10</td>\n",
              "      <td>7.0</td>\n",
              "      <td>4</td>\n",
              "      <td>79</td>\n",
              "    </tr>\n",
              "  </tbody>\n",
              "</table>\n",
              "</div>\n",
              "      <button class=\"colab-df-convert\" onclick=\"convertToInteractive('df-3d221c4c-9ad9-4502-8725-e3e7c74282f0')\"\n",
              "              title=\"Convert this dataframe to an interactive table.\"\n",
              "              style=\"display:none;\">\n",
              "        \n",
              "  <svg xmlns=\"http://www.w3.org/2000/svg\" height=\"24px\"viewBox=\"0 0 24 24\"\n",
              "       width=\"24px\">\n",
              "    <path d=\"M0 0h24v24H0V0z\" fill=\"none\"/>\n",
              "    <path d=\"M18.56 5.44l.94 2.06.94-2.06 2.06-.94-2.06-.94-.94-2.06-.94 2.06-2.06.94zm-11 1L8.5 8.5l.94-2.06 2.06-.94-2.06-.94L8.5 2.5l-.94 2.06-2.06.94zm10 10l.94 2.06.94-2.06 2.06-.94-2.06-.94-.94-2.06-.94 2.06-2.06.94z\"/><path d=\"M17.41 7.96l-1.37-1.37c-.4-.4-.92-.59-1.43-.59-.52 0-1.04.2-1.43.59L10.3 9.45l-7.72 7.72c-.78.78-.78 2.05 0 2.83L4 21.41c.39.39.9.59 1.41.59.51 0 1.02-.2 1.41-.59l7.78-7.78 2.81-2.81c.8-.78.8-2.07 0-2.86zM5.41 20L4 18.59l7.72-7.72 1.47 1.35L5.41 20z\"/>\n",
              "  </svg>\n",
              "      </button>\n",
              "      \n",
              "  <style>\n",
              "    .colab-df-container {\n",
              "      display:flex;\n",
              "      flex-wrap:wrap;\n",
              "      gap: 12px;\n",
              "    }\n",
              "\n",
              "    .colab-df-convert {\n",
              "      background-color: #E8F0FE;\n",
              "      border: none;\n",
              "      border-radius: 50%;\n",
              "      cursor: pointer;\n",
              "      display: none;\n",
              "      fill: #1967D2;\n",
              "      height: 32px;\n",
              "      padding: 0 0 0 0;\n",
              "      width: 32px;\n",
              "    }\n",
              "\n",
              "    .colab-df-convert:hover {\n",
              "      background-color: #E2EBFA;\n",
              "      box-shadow: 0px 1px 2px rgba(60, 64, 67, 0.3), 0px 1px 3px 1px rgba(60, 64, 67, 0.15);\n",
              "      fill: #174EA6;\n",
              "    }\n",
              "\n",
              "    [theme=dark] .colab-df-convert {\n",
              "      background-color: #3B4455;\n",
              "      fill: #D2E3FC;\n",
              "    }\n",
              "\n",
              "    [theme=dark] .colab-df-convert:hover {\n",
              "      background-color: #434B5C;\n",
              "      box-shadow: 0px 1px 3px 1px rgba(0, 0, 0, 0.15);\n",
              "      filter: drop-shadow(0px 1px 2px rgba(0, 0, 0, 0.3));\n",
              "      fill: #FFFFFF;\n",
              "    }\n",
              "  </style>\n",
              "\n",
              "      <script>\n",
              "        const buttonEl =\n",
              "          document.querySelector('#df-3d221c4c-9ad9-4502-8725-e3e7c74282f0 button.colab-df-convert');\n",
              "        buttonEl.style.display =\n",
              "          google.colab.kernel.accessAllowed ? 'block' : 'none';\n",
              "\n",
              "        async function convertToInteractive(key) {\n",
              "          const element = document.querySelector('#df-3d221c4c-9ad9-4502-8725-e3e7c74282f0');\n",
              "          const dataTable =\n",
              "            await google.colab.kernel.invokeFunction('convertToInteractive',\n",
              "                                                     [key], {});\n",
              "          if (!dataTable) return;\n",
              "\n",
              "          const docLinkHtml = 'Like what you see? Visit the ' +\n",
              "            '<a target=\"_blank\" href=https://colab.research.google.com/notebooks/data_table.ipynb>data table notebook</a>'\n",
              "            + ' to learn more about interactive tables.';\n",
              "          element.innerHTML = '';\n",
              "          dataTable['output_type'] = 'display_data';\n",
              "          await google.colab.output.renderOutput(dataTable, element);\n",
              "          const docLink = document.createElement('div');\n",
              "          docLink.innerHTML = docLinkHtml;\n",
              "          element.appendChild(docLink);\n",
              "        }\n",
              "      </script>\n",
              "    </div>\n",
              "  </div>\n",
              "  "
            ],
            "text/plain": [
              "      Edo  Delta  Kano  Katsina  Kaduna  Sokoto  Jigawa  Total\n",
              "NO    NaN      3   NaN      NaN       1     NaN       4      8\n",
              "YES  22.0     12  13.0     11.0      10     7.0       4     79"
            ]
          },
          "execution_count": null,
          "metadata": {},
          "output_type": "execute_result"
        }
      ],
      "source": [
        "Q8_df = Create(sample_df,'Q8')\n",
        "Q8_df"
      ]
    },
    {
      "cell_type": "markdown",
      "metadata": {
        "id": "7atvPPCG4u08"
      },
      "source": [
        "###**RESPONDENTS' INTERVIEW QUESTION 9**"
      ]
    },
    {
      "cell_type": "code",
      "execution_count": null,
      "metadata": {
        "colab": {
          "background_save": true
        },
        "id": "4mlaG6Ss4rLx",
        "outputId": "48fd5700-3f65-43d9-c8ca-71a3a2be857f"
      },
      "outputs": [
        {
          "data": {
            "text/plain": [
              "array(['LIBYA', 'AGADEX, LIBYA, TUNISIA', 'LIBYA TO ITALY',\n",
              "       'CANT REMEMBER', 'NIGER, AQLGERIA, LIBYA', 'NIGER, AGADEX, LIBYA',\n",
              "       'NIGER, LIBYA', 'AGADES, LIBYA', 'AGADES, ILLELA',\n",
              "       'AGADES, GATHRUM', 'AGADES, NIGER, LAKE CHAD', 'NIGER, EGYPT',\n",
              "       'NIGER, AGADAS', 'NIGER, AGADES', 'NIGER', '', 'NIGER ', 'GHANA',\n",
              "       'NIGER.', 'NIGER REPUBLIC/ LIBYA', 'CAMEROON,CHAD,LIBYA',\n",
              "       'CAMEROON', 'NIGER, LIBYA TO ALGERIA', 'NONE',\n",
              "       'NIGER, MOROCCO ROOT', 'MOROCCO/NIGER', 'ONLY NIGER',\n",
              "       'CAMEROON, CHAD', 'NIGER, ALGERIA', 'CHAD, SUDAN ',\n",
              "       'NIGER REPUBLIC AND CHAD', 'NIGER REPUBLIC', 'NIGER AND CHAD',\n",
              "       'REPUBLIC OF NIGER', 'NIGER CHAD', 'CHAD', 'CAMAROON'],\n",
              "      dtype=object)"
            ]
          },
          "execution_count": null,
          "metadata": {},
          "output_type": "execute_result"
        }
      ],
      "source": [
        "sample_df.Q9.unique()"
      ]
    },
    {
      "cell_type": "code",
      "execution_count": null,
      "metadata": {
        "colab": {
          "background_save": true
        },
        "id": "KUxIefbf4y9_"
      },
      "outputs": [],
      "source": [
        "words = ['LIBYA', 'AGADEX, LIBYA, TUNISIA', 'LIBYA TO ITALY',\n",
        "       'CANT REMEMBER', 'NIGER, AQLGERIA, LIBYA', 'NIGER, AGADEX, LIBYA',\n",
        "       'NIGER, LIBYA', 'AGADES, LIBYA', 'AGADES, ILLELA',\n",
        "       'AGADES, GATHRUM', 'AGADES, NIGER, LAKE CHAD', 'NIGER, EGYPT',\n",
        "       'NIGER, AGADAS', 'NIGER, AGADES', 'NIGER', '', 'NIGER ', 'GHANA',\n",
        "       'NIGER.', 'NIGER REPUBLIC/ LIBYA', 'CAMEROON,CHAD,LIBYA',\n",
        "       'CAMEROON', 'NIGER, LIBYA TO ALGERIA', 'NONE',\n",
        "       'NIGER, MOROCCO ROOT', 'MOROCCO/NIGER', 'ONLY NIGER',\n",
        "       'CAMEROON, CHAD', 'NIGER, ALGERIA', 'CHAD, SUDAN ',\n",
        "       'NIGER REPUBLIC AND CHAD', 'NIGER REPUBLIC', 'NIGER AND CHAD',\n",
        "       'REPUBLIC OF NIGER', 'NIGER CHAD', 'CHAD', 'CAMAROON']\n",
        "\n",
        "correct = ['LIBYA', 'NIGER, LIBYA, TUNISIA', 'LIBYA, ITALY',\n",
        "       np.nan, 'NIGER, ALGERIA, LIBYA', 'NIGER, LIBYA',\n",
        "       'NIGER, LIBYA', 'NIGER, LIBYA', 'NIGER',\n",
        "       'NIGER', 'NIGER, CHAD', 'NIGER, EGYPT',\n",
        "       'NIGER', 'NIGER', 'NIGER', np.nan, 'NIGER', 'GHANA',\n",
        "       'NIGER', 'NIGER, LIBYA', 'CAMEROON, CHAD, LIBYA',\n",
        "       'CAMEROON', 'NIGER, LIBYA, ALGERIA', np.nan,\n",
        "       'NIGER, MOROCCO', 'MOROCCO,NIGER', 'NIGER',\n",
        "       'CAMEROON, CHAD', 'NIGER, ALGERIA', 'CHAD, SUDAN ',\n",
        "       'NIGER, CHAD', 'NIGER', 'NIGER, CHAD',\n",
        "       'NIGER', 'NIGER, CHAD', 'CHAD', 'CAMEROON']\n",
        "sample_df.Q9 = sample_df.Q9.replace(words,correct)"
      ]
    },
    {
      "cell_type": "code",
      "execution_count": null,
      "metadata": {
        "colab": {
          "background_save": true
        },
        "id": "7IPmVpS97zx-",
        "outputId": "aa513e19-5c8b-450f-d7a3-c218544a4792"
      },
      "outputs": [
        {
          "data": {
            "text/plain": [
              "NIGER                    50\n",
              "LIBYA                     4\n",
              "NIGER, LIBYA              4\n",
              "NIGER, CHAD               4\n",
              "CAMEROON                  4\n",
              "CAMEROON, CHAD            2\n",
              "NIGER, LIBYA, ALGERIA     1\n",
              "CHAD, SUDAN               1\n",
              "NIGER, ALGERIA            1\n",
              "MOROCCO,NIGER             1\n",
              "NIGER, MOROCCO            1\n",
              "CAMEROON, CHAD, LIBYA     1\n",
              "NIGER, LIBYA, TUNISIA     1\n",
              "GHANA                     1\n",
              "NIGER, EGYPT              1\n",
              "NIGER, ALGERIA, LIBYA     1\n",
              "LIBYA, ITALY              1\n",
              "CHAD                      1\n",
              "Name: Q9, dtype: int64"
            ]
          },
          "execution_count": null,
          "metadata": {},
          "output_type": "execute_result"
        }
      ],
      "source": [
        "sample_df.Q9 = sample_df.Q9.str.strip()\n",
        "sample_df.Q9 = sample_df.Q9.replace('',np.nan) \n",
        "sample_df.Q9.value_counts()"
      ]
    },
    {
      "cell_type": "code",
      "execution_count": null,
      "metadata": {
        "colab": {
          "background_save": true
        },
        "id": "_pSJP89B78q_",
        "outputId": "12b8b23a-8f8d-4964-9aa9-8cfe604de798"
      },
      "outputs": [
        {
          "data": {
            "text/html": [
              "\n",
              "  <div id=\"df-c19a9c5a-3b74-43ed-8418-f4079e713fc6\">\n",
              "    <div class=\"colab-df-container\">\n",
              "      <div>\n",
              "<style scoped>\n",
              "    .dataframe tbody tr th:only-of-type {\n",
              "        vertical-align: middle;\n",
              "    }\n",
              "\n",
              "    .dataframe tbody tr th {\n",
              "        vertical-align: top;\n",
              "    }\n",
              "\n",
              "    .dataframe thead th {\n",
              "        text-align: right;\n",
              "    }\n",
              "</style>\n",
              "<table border=\"1\" class=\"dataframe\">\n",
              "  <thead>\n",
              "    <tr style=\"text-align: right;\">\n",
              "      <th></th>\n",
              "      <th>Edo</th>\n",
              "      <th>Delta</th>\n",
              "      <th>Kano</th>\n",
              "      <th>Katsina</th>\n",
              "      <th>Kaduna</th>\n",
              "      <th>Sokoto</th>\n",
              "      <th>Jigawa</th>\n",
              "      <th>Total</th>\n",
              "    </tr>\n",
              "  </thead>\n",
              "  <tbody>\n",
              "    <tr>\n",
              "      <th>ALGERIA</th>\n",
              "      <td>NaN</td>\n",
              "      <td>1.0</td>\n",
              "      <td>1.0</td>\n",
              "      <td>NaN</td>\n",
              "      <td>NaN</td>\n",
              "      <td>NaN</td>\n",
              "      <td>1.0</td>\n",
              "      <td>3</td>\n",
              "    </tr>\n",
              "    <tr>\n",
              "      <th>CAMEROON</th>\n",
              "      <td>NaN</td>\n",
              "      <td>NaN</td>\n",
              "      <td>2.0</td>\n",
              "      <td>NaN</td>\n",
              "      <td>NaN</td>\n",
              "      <td>1.0</td>\n",
              "      <td>4.0</td>\n",
              "      <td>7</td>\n",
              "    </tr>\n",
              "    <tr>\n",
              "      <th>CHAD</th>\n",
              "      <td>NaN</td>\n",
              "      <td>1.0</td>\n",
              "      <td>2.0</td>\n",
              "      <td>4.0</td>\n",
              "      <td>NaN</td>\n",
              "      <td>1.0</td>\n",
              "      <td>1.0</td>\n",
              "      <td>9</td>\n",
              "    </tr>\n",
              "    <tr>\n",
              "      <th>EGYPT</th>\n",
              "      <td>NaN</td>\n",
              "      <td>1.0</td>\n",
              "      <td>NaN</td>\n",
              "      <td>NaN</td>\n",
              "      <td>NaN</td>\n",
              "      <td>NaN</td>\n",
              "      <td>NaN</td>\n",
              "      <td>1</td>\n",
              "    </tr>\n",
              "    <tr>\n",
              "      <th>GHANA</th>\n",
              "      <td>1.0</td>\n",
              "      <td>NaN</td>\n",
              "      <td>NaN</td>\n",
              "      <td>NaN</td>\n",
              "      <td>NaN</td>\n",
              "      <td>NaN</td>\n",
              "      <td>NaN</td>\n",
              "      <td>1</td>\n",
              "    </tr>\n",
              "    <tr>\n",
              "      <th>ITALY</th>\n",
              "      <td>NaN</td>\n",
              "      <td>1.0</td>\n",
              "      <td>NaN</td>\n",
              "      <td>NaN</td>\n",
              "      <td>NaN</td>\n",
              "      <td>NaN</td>\n",
              "      <td>NaN</td>\n",
              "      <td>1</td>\n",
              "    </tr>\n",
              "    <tr>\n",
              "      <th>LIBYA</th>\n",
              "      <td>3.0</td>\n",
              "      <td>7.0</td>\n",
              "      <td>NaN</td>\n",
              "      <td>NaN</td>\n",
              "      <td>1.0</td>\n",
              "      <td>NaN</td>\n",
              "      <td>2.0</td>\n",
              "      <td>13</td>\n",
              "    </tr>\n",
              "    <tr>\n",
              "      <th>MOROCCO</th>\n",
              "      <td>NaN</td>\n",
              "      <td>NaN</td>\n",
              "      <td>NaN</td>\n",
              "      <td>NaN</td>\n",
              "      <td>2.0</td>\n",
              "      <td>NaN</td>\n",
              "      <td>NaN</td>\n",
              "      <td>2</td>\n",
              "    </tr>\n",
              "    <tr>\n",
              "      <th>NIGER</th>\n",
              "      <td>20.0</td>\n",
              "      <td>12.0</td>\n",
              "      <td>11.0</td>\n",
              "      <td>10.0</td>\n",
              "      <td>4.0</td>\n",
              "      <td>5.0</td>\n",
              "      <td>3.0</td>\n",
              "      <td>65</td>\n",
              "    </tr>\n",
              "    <tr>\n",
              "      <th>SUDAN</th>\n",
              "      <td>NaN</td>\n",
              "      <td>NaN</td>\n",
              "      <td>NaN</td>\n",
              "      <td>1.0</td>\n",
              "      <td>NaN</td>\n",
              "      <td>NaN</td>\n",
              "      <td>NaN</td>\n",
              "      <td>1</td>\n",
              "    </tr>\n",
              "    <tr>\n",
              "      <th>TUNISIA</th>\n",
              "      <td>NaN</td>\n",
              "      <td>1.0</td>\n",
              "      <td>NaN</td>\n",
              "      <td>NaN</td>\n",
              "      <td>NaN</td>\n",
              "      <td>NaN</td>\n",
              "      <td>NaN</td>\n",
              "      <td>1</td>\n",
              "    </tr>\n",
              "  </tbody>\n",
              "</table>\n",
              "</div>\n",
              "      <button class=\"colab-df-convert\" onclick=\"convertToInteractive('df-c19a9c5a-3b74-43ed-8418-f4079e713fc6')\"\n",
              "              title=\"Convert this dataframe to an interactive table.\"\n",
              "              style=\"display:none;\">\n",
              "        \n",
              "  <svg xmlns=\"http://www.w3.org/2000/svg\" height=\"24px\"viewBox=\"0 0 24 24\"\n",
              "       width=\"24px\">\n",
              "    <path d=\"M0 0h24v24H0V0z\" fill=\"none\"/>\n",
              "    <path d=\"M18.56 5.44l.94 2.06.94-2.06 2.06-.94-2.06-.94-.94-2.06-.94 2.06-2.06.94zm-11 1L8.5 8.5l.94-2.06 2.06-.94-2.06-.94L8.5 2.5l-.94 2.06-2.06.94zm10 10l.94 2.06.94-2.06 2.06-.94-2.06-.94-.94-2.06-.94 2.06-2.06.94z\"/><path d=\"M17.41 7.96l-1.37-1.37c-.4-.4-.92-.59-1.43-.59-.52 0-1.04.2-1.43.59L10.3 9.45l-7.72 7.72c-.78.78-.78 2.05 0 2.83L4 21.41c.39.39.9.59 1.41.59.51 0 1.02-.2 1.41-.59l7.78-7.78 2.81-2.81c.8-.78.8-2.07 0-2.86zM5.41 20L4 18.59l7.72-7.72 1.47 1.35L5.41 20z\"/>\n",
              "  </svg>\n",
              "      </button>\n",
              "      \n",
              "  <style>\n",
              "    .colab-df-container {\n",
              "      display:flex;\n",
              "      flex-wrap:wrap;\n",
              "      gap: 12px;\n",
              "    }\n",
              "\n",
              "    .colab-df-convert {\n",
              "      background-color: #E8F0FE;\n",
              "      border: none;\n",
              "      border-radius: 50%;\n",
              "      cursor: pointer;\n",
              "      display: none;\n",
              "      fill: #1967D2;\n",
              "      height: 32px;\n",
              "      padding: 0 0 0 0;\n",
              "      width: 32px;\n",
              "    }\n",
              "\n",
              "    .colab-df-convert:hover {\n",
              "      background-color: #E2EBFA;\n",
              "      box-shadow: 0px 1px 2px rgba(60, 64, 67, 0.3), 0px 1px 3px 1px rgba(60, 64, 67, 0.15);\n",
              "      fill: #174EA6;\n",
              "    }\n",
              "\n",
              "    [theme=dark] .colab-df-convert {\n",
              "      background-color: #3B4455;\n",
              "      fill: #D2E3FC;\n",
              "    }\n",
              "\n",
              "    [theme=dark] .colab-df-convert:hover {\n",
              "      background-color: #434B5C;\n",
              "      box-shadow: 0px 1px 3px 1px rgba(0, 0, 0, 0.15);\n",
              "      filter: drop-shadow(0px 1px 2px rgba(0, 0, 0, 0.3));\n",
              "      fill: #FFFFFF;\n",
              "    }\n",
              "  </style>\n",
              "\n",
              "      <script>\n",
              "        const buttonEl =\n",
              "          document.querySelector('#df-c19a9c5a-3b74-43ed-8418-f4079e713fc6 button.colab-df-convert');\n",
              "        buttonEl.style.display =\n",
              "          google.colab.kernel.accessAllowed ? 'block' : 'none';\n",
              "\n",
              "        async function convertToInteractive(key) {\n",
              "          const element = document.querySelector('#df-c19a9c5a-3b74-43ed-8418-f4079e713fc6');\n",
              "          const dataTable =\n",
              "            await google.colab.kernel.invokeFunction('convertToInteractive',\n",
              "                                                     [key], {});\n",
              "          if (!dataTable) return;\n",
              "\n",
              "          const docLinkHtml = 'Like what you see? Visit the ' +\n",
              "            '<a target=\"_blank\" href=https://colab.research.google.com/notebooks/data_table.ipynb>data table notebook</a>'\n",
              "            + ' to learn more about interactive tables.';\n",
              "          element.innerHTML = '';\n",
              "          dataTable['output_type'] = 'display_data';\n",
              "          await google.colab.output.renderOutput(dataTable, element);\n",
              "          const docLink = document.createElement('div');\n",
              "          docLink.innerHTML = docLinkHtml;\n",
              "          element.appendChild(docLink);\n",
              "        }\n",
              "      </script>\n",
              "    </div>\n",
              "  </div>\n",
              "  "
            ],
            "text/plain": [
              "           Edo  Delta  Kano  Katsina  Kaduna  Sokoto  Jigawa  Total\n",
              "ALGERIA    NaN    1.0   1.0      NaN     NaN     NaN     1.0      3\n",
              "CAMEROON   NaN    NaN   2.0      NaN     NaN     1.0     4.0      7\n",
              "CHAD       NaN    1.0   2.0      4.0     NaN     1.0     1.0      9\n",
              "EGYPT      NaN    1.0   NaN      NaN     NaN     NaN     NaN      1\n",
              "GHANA      1.0    NaN   NaN      NaN     NaN     NaN     NaN      1\n",
              "ITALY      NaN    1.0   NaN      NaN     NaN     NaN     NaN      1\n",
              "LIBYA      3.0    7.0   NaN      NaN     1.0     NaN     2.0     13\n",
              "MOROCCO    NaN    NaN   NaN      NaN     2.0     NaN     NaN      2\n",
              "NIGER     20.0   12.0  11.0     10.0     4.0     5.0     3.0     65\n",
              "SUDAN      NaN    NaN   NaN      1.0     NaN     NaN     NaN      1\n",
              "TUNISIA    NaN    1.0   NaN      NaN     NaN     NaN     NaN      1"
            ]
          },
          "execution_count": null,
          "metadata": {},
          "output_type": "execute_result"
        }
      ],
      "source": [
        "Q9_df = Create(sample_df,'Q9',level=2)\n",
        "Q9_df"
      ]
    },
    {
      "cell_type": "markdown",
      "metadata": {
        "id": "MMnAImOc8Ta-"
      },
      "source": [
        "###**RESPONDENTS' INTERVIEW QUESTION 10**"
      ]
    },
    {
      "cell_type": "code",
      "execution_count": null,
      "metadata": {
        "colab": {
          "background_save": true
        },
        "id": "iXQLhA-a8Ctv",
        "outputId": "ed7c0017-0814-4616-fd61-1123547c22ac"
      },
      "outputs": [
        {
          "data": {
            "text/plain": [
              "array(['Truck', 'Motorbike, Bus', 'Motorbike, Foot', 'Motorbike, Truck',\n",
              "       '', 'Motorbike, Foot, Boat', 'Motorbike, Car, Truck',\n",
              "       'Motorbike, Boat, Bus, Truck', 'Bus, Truck', 'Motorbike',\n",
              "       'Foot, Car', 'Foot, Car, Bus, Truck',\n",
              "       'Motorbike, Foot, Bus, Truck', 'Foot, Car, Boat',\n",
              "       'Motorbike, Bus, Truck, Animal',\n",
              "       'Motorbike, Foot, Boat, Bus, Truck', 'Bus',\n",
              "       'Motorbike, Foot, Truck', 'Motorbike, Foot, Car, Boat, Truck',\n",
              "       'By air', 'Foot, Bus', 'Boat, Truck', 'Car', 'Boat', 'Boat, Bus',\n",
              "       'Car, Bus', 'Motorbike, Foot, Boat, Truck',\n",
              "       'Motorbike, Foot, Boat, Truck, Animal', 'Motorbike, Boat, Truck',\n",
              "       'Motorbike, Foot, Bus', 'Motorbike, Truck, Animal',\n",
              "       'Motorbike, Car'], dtype=object)"
            ]
          },
          "execution_count": null,
          "metadata": {},
          "output_type": "execute_result"
        }
      ],
      "source": [
        "sample_df.Q10.unique()"
      ]
    },
    {
      "cell_type": "code",
      "execution_count": null,
      "metadata": {
        "colab": {
          "background_save": true
        },
        "id": "O6X2_TzJm6Xh",
        "outputId": "28b98db8-223b-4070-9101-989fc7c4c4fe"
      },
      "outputs": [
        {
          "data": {
            "text/plain": [
              "Bus                                     15\n",
              "Truck                                   14\n",
              "Car                                      9\n",
              "Motorbike, Foot, Truck                   8\n",
              "Motorbike, Truck                         4\n",
              "By air                                   3\n",
              "Bus, Truck                               3\n",
              "Motorbike                                3\n",
              "Motorbike, Foot, Car, Boat, Truck        2\n",
              "Motorbike, Bus                           2\n",
              "Motorbike, Foot, Boat, Bus, Truck        2\n",
              "Motorbike, Foot, Bus, Truck              2\n",
              "Motorbike, Foot, Boat, Truck, Animal     2\n",
              "Foot, Car                                2\n",
              "Motorbike, Foot, Boat, Truck             1\n",
              "Car, Bus                                 1\n",
              "Motorbike, Boat, Truck                   1\n",
              "Motorbike, Foot, Bus                     1\n",
              "Motorbike, Truck, Animal                 1\n",
              "Boat, Bus                                1\n",
              "Boat                                     1\n",
              "Motorbike, Foot                          1\n",
              "Boat, Truck                              1\n",
              "Foot, Bus                                1\n",
              "Motorbike, Bus, Truck, Animal            1\n",
              "Foot, Car, Boat                          1\n",
              "Foot, Car, Bus, Truck                    1\n",
              "Motorbike, Boat, Bus, Truck              1\n",
              "Motorbike, Car, Truck                    1\n",
              "Motorbike, Foot, Boat                    1\n",
              "Motorbike, Car                           1\n",
              "Name: Q10, dtype: int64"
            ]
          },
          "execution_count": null,
          "metadata": {},
          "output_type": "execute_result"
        }
      ],
      "source": [
        "sample_df.Q10 = sample_df.Q10.str.strip()\n",
        "sample_df.Q10 = sample_df.Q10.replace('',np.nan) \n",
        "sample_df.Q10.value_counts()"
      ]
    },
    {
      "cell_type": "code",
      "execution_count": null,
      "metadata": {
        "id": "n0fDfaj48cN_"
      },
      "outputs": [],
      "source": [
        "Q10_df = Create(sample_df,'Q10',level=2)\n",
        "Q10_df"
      ]
    },
    {
      "cell_type": "markdown",
      "metadata": {
        "id": "nTDfdc2NnCWc"
      },
      "source": [
        "###**QUESTION 11**"
      ]
    },
    {
      "cell_type": "code",
      "execution_count": null,
      "metadata": {
        "colab": {
          "background_save": true
        },
        "id": "0J5fKjA5m_og",
        "outputId": "d2fdd683-e7cc-4b5b-8120-9f4b0592cd2c"
      },
      "outputs": [
        {
          "data": {
            "text/plain": [
              "array(['400,000', '500,000', '1,200,000', '15,000', '600,000',\n",
              "       '1,000,000', 'CANT REMEMBER', 'N500,000', 'N800,000', 'N510,000',\n",
              "       'N700,000', 'N600,000', '850,000', '1,250,000', '980,000',\n",
              "       'I WAS TO PAY #8,500,000 IN ITALY ', '#1,100,000', '1,450,000',\n",
              "       '#750,000', '#1,000,000', '', '#800,000', '#1,800,000',\n",
              "       'I WAS TO PAY ON ARRIVAL AT DESTINATION ', '#850,000',\n",
              "       'N150,000,000', 'N300,000', 'N1,600,000', 'N550,000', 'N1,800,000',\n",
              "       'N650,000', 'ABOUT 400,000', 'ABOVE 100,000', 'ABOUT 250,000',\n",
              "       '200,000', '180,000', '900,000', '350,000-500,000',\n",
              "       '550,000-600,000', '1,320,000', '145', '140000', '145000',\n",
              "       '120000', '150000', '60000', '80000', '170000', '65000', '160000',\n",
              "       '45000', '#200,000 (3 YEARS AGO)', '#180,000', '#250,000',\n",
              "       'OVER #100,000', '#285,000', '#200,000', 'OVER #200,000',\n",
              "       '#160,000', 'OVER #150,000', '95,000', '7,500', '18,700', '10,000',\n",
              "       '20,000', '91,000'], dtype=object)"
            ]
          },
          "execution_count": null,
          "metadata": {},
          "output_type": "execute_result"
        }
      ],
      "source": [
        "sample_df.Q11.unique()"
      ]
    },
    {
      "cell_type": "code",
      "execution_count": null,
      "metadata": {
        "id": "_g_IAVbtnKZF"
      },
      "outputs": [],
      "source": [
        "sample_df.Q11 = sample_df.Q11.str.upper()\n",
        "sample_df.Q11 = sample_df.Q11.str.strip()\n",
        "sample_df.Q11.value_counts()"
      ]
    },
    {
      "cell_type": "code",
      "execution_count": null,
      "metadata": {
        "id": "3zWDoHefoUE_"
      },
      "outputs": [],
      "source": [
        "sda = sample_df.Q11\n",
        "sda = pd.Series([restruct(x) for x in sda])\n",
        "sda.unique()"
      ]
    },
    {
      "cell_type": "code",
      "execution_count": null,
      "metadata": {
        "id": "ElwK4s9Bp4c2"
      },
      "outputs": [],
      "source": [
        "words = ['400000', '500000', '1200000', '15000', '600000', '1000000',\n",
        "       'CANT REMEMBER', '800000', '510000', '700000', '850000', '1250000',\n",
        "       '980000', '8500000', '1100000', '1450000', '750000', '', '1800000',\n",
        "       'I WAS TO PAY ON ARRIVAL AT DESTINATION', '150000000', '300000',\n",
        "       '1600000', '550000', '650000', '100000', '250000', '200000',\n",
        "       '180000', '900000', '1320000', '145', '140000', '145000', '120000',\n",
        "       '150000', '60000', '80000', '170000', '65000', '160000', '45000',\n",
        "       '2000003', '285000', '95000', '7500', '18700', '10000', '20000',\n",
        "       '91000']\n",
        "\n",
        "correct = ['400000', '500000', '1200000', '15000', '600000', '1000000',\n",
        "       '0', '800000', '510000', '700000', '850000', '1250000',\n",
        "       '980000', '850000', '1100000', '1450000', '750000', np.nan, '1800000',\n",
        "       '0', '1500000', '300000',\n",
        "       '1600000', '550000', '650000', '100000', '250000', '200000',\n",
        "       '180000', '900000', '1320000', '145', '140000', '145000', '120000',\n",
        "       '150000', '60000', '80000', '170000', '65000', '160000', '45000',\n",
        "       '200000', '285000', '95000', '7500', '18700', '10000', '20000',\n",
        "       '91000']\n",
        "\n",
        "sda = sda.replace(words,correct)\n",
        "sample_df.Q11 = pd.to_numeric(sda)\n",
        "sample_df.Q11 = sample_df.Q11/1000\n",
        "sample_df.Q11.max()"
      ]
    },
    {
      "cell_type": "code",
      "execution_count": null,
      "metadata": {
        "id": "ezbgSKKm9CqB"
      },
      "outputs": [],
      "source": [
        "Q11_df = Create(sample_df,'Q11',level=1, cat=True,max=2000,range=200)\n",
        "Q11_df"
      ]
    },
    {
      "cell_type": "markdown",
      "metadata": {
        "id": "JzAnDKlJDcBZ"
      },
      "source": [
        "###**QUESTION 12**"
      ]
    },
    {
      "cell_type": "code",
      "execution_count": null,
      "metadata": {
        "id": "X5_GuUwA9YT3"
      },
      "outputs": [],
      "source": [
        "sample_df.Q12.unique()"
      ]
    },
    {
      "cell_type": "code",
      "execution_count": null,
      "metadata": {
        "id": "QvoBlDG9D98b"
      },
      "outputs": [],
      "source": [
        "words = ['Savings', 'Friends', 'Loan/borrowed',\n",
        "       'Selling of Assets or belongings', 'Family',\n",
        "       'Community effort, Loan/borrowed',\n",
        "       'Friends, Family, Savings, Loan/borrowed',\n",
        "       'Friends, Family, Savings', 'CONNECTION MADAM',\n",
        "       'Family, Savings, Selling of Assets or belongings, Loan/borrowed',\n",
        "       'Friends, Family, Selling of Assets or belongings, Loan/borrowed',\n",
        "       'Friends, Family, Savings, Selling of Assets or belongings, Loan/borrowed',\n",
        "       'Friends, Savings, Selling of Assets or belongings, Loan/borrowed',\n",
        "       'Family, Selling of Assets or belongings, Loan/borrowed', '',\n",
        "       'Friends, Savings',\n",
        "       'Selling of Assets or belongings, Loan/borrowed',\n",
        "       'Savings, Loan/borrowed']\n",
        "\n",
        "correct = ['Savings', 'Friends', 'Loan/borrowed',\n",
        "       'Selling of Assets or belongings', 'Family',\n",
        "       'Community effort, Loan/borrowed',\n",
        "       'Friends, Family, Savings, Loan/borrowed',\n",
        "       'Friends, Family, Savings', 'Agents',\n",
        "       'Family, Savings, Selling of Assets or belongings, Loan/borrowed',\n",
        "       'Friends, Family, Selling of Assets or belongings, Loan/borrowed',\n",
        "       'Friends, Family, Savings, Selling of Assets or belongings, Loan/borrowed',\n",
        "       'Friends, Savings, Selling of Assets or belongings, Loan/borrowed',\n",
        "       'Family, Selling of Assets or belongings, Loan/borrowed', '',\n",
        "       'Friends, Savings',\n",
        "       'Selling of Assets or belongings, Loan/borrowed',\n",
        "       'Savings, Loan/borrowed']\n",
        "sample_df.Q12 = sample_df.Q12.replace(words,correct)"
      ]
    },
    {
      "cell_type": "code",
      "execution_count": null,
      "metadata": {
        "id": "IL7hBMk4DjKL"
      },
      "outputs": [],
      "source": [
        "sample_df.Q12 = sample_df.Q12.str.strip()\n",
        "sample_df.Q12 = sample_df.Q12.replace('',np.nan) \n",
        "sample_df.Q12.value_counts()"
      ]
    },
    {
      "cell_type": "code",
      "execution_count": null,
      "metadata": {
        "id": "Min1JGuADrmZ"
      },
      "outputs": [],
      "source": [
        "Q12_df = Create(sample_df,'Q12',level=2)\n",
        "Q12_df"
      ]
    },
    {
      "cell_type": "markdown",
      "metadata": {
        "id": "tMCbbxugEUP9"
      },
      "source": [
        "###**QUESTION 13**"
      ]
    },
    {
      "cell_type": "code",
      "execution_count": null,
      "metadata": {
        "id": "bzSg9nAiDy54"
      },
      "outputs": [],
      "source": [
        "sample_df.Q13.unique()"
      ]
    },
    {
      "cell_type": "code",
      "execution_count": null,
      "metadata": {
        "id": "sbbJR_bSEegI"
      },
      "outputs": [],
      "source": [
        "sample_df.Q13 = sample_df.Q13.str.strip()\n",
        "sample_df.Q13 = sample_df.Q13.replace('',np.nan) \n",
        "sample_df.Q13.value_counts()"
      ]
    },
    {
      "cell_type": "code",
      "execution_count": null,
      "metadata": {
        "id": "YLHeNhnyEmbf"
      },
      "outputs": [],
      "source": [
        "Q13_df = Create(sample_df,'Q13',level=1)\n",
        "Q13_df"
      ]
    },
    {
      "cell_type": "markdown",
      "metadata": {
        "id": "W3OMnqtPEykv"
      },
      "source": [
        "###**QUESTION 14**"
      ]
    },
    {
      "cell_type": "code",
      "execution_count": null,
      "metadata": {
        "id": "OzjHuKtAEsvo"
      },
      "outputs": [],
      "source": [
        "sample_df.Q14.unique()"
      ]
    },
    {
      "cell_type": "code",
      "execution_count": null,
      "metadata": {
        "id": "n7PgLxoME5Kp"
      },
      "outputs": [],
      "source": [
        "sample_df.Q14 = sample_df.Q14.str.strip()\n",
        "sample_df.Q14 = sample_df.Q14.replace('',np.nan) \n",
        "sample_df.Q14.value_counts()"
      ]
    },
    {
      "cell_type": "code",
      "execution_count": null,
      "metadata": {
        "id": "54i0Beh0FAh_"
      },
      "outputs": [],
      "source": [
        "Q14_df = Create(sample_df,'Q14',level=2)\n",
        "Q14_df"
      ]
    },
    {
      "cell_type": "markdown",
      "metadata": {
        "id": "XTWGoHpGFKBv"
      },
      "source": [
        "###**QUESTION 15**"
      ]
    },
    {
      "cell_type": "code",
      "execution_count": null,
      "metadata": {
        "colab": {
          "background_save": true
        },
        "id": "ndrwTWkvFHBn",
        "outputId": "00d4f4a9-09ee-498c-b66a-8788c18779a1"
      },
      "outputs": [
        {
          "data": {
            "text/plain": [
              "array(['Yes', '', 'No'], dtype=object)"
            ]
          },
          "execution_count": null,
          "metadata": {},
          "output_type": "execute_result"
        }
      ],
      "source": [
        "sample_df.Q15.unique()"
      ]
    },
    {
      "cell_type": "code",
      "execution_count": null,
      "metadata": {
        "id": "BTNpSH5bFUXn"
      },
      "outputs": [],
      "source": [
        "sample_df.Q15 = sample_df.Q15.str.strip()\n",
        "sample_df.Q15 = sample_df.Q15.replace('',np.nan) \n",
        "sample_df.Q15.value_counts()"
      ]
    },
    {
      "cell_type": "code",
      "execution_count": null,
      "metadata": {
        "id": "BDGCN6zIFaZf"
      },
      "outputs": [],
      "source": [
        "Q15_df = Create(sample_df,'Q15',level=1)\n",
        "Q15_df"
      ]
    },
    {
      "cell_type": "code",
      "execution_count": null,
      "metadata": {
        "id": "6AJ0qYgOFg65"
      },
      "outputs": [],
      "source": [
        ""
      ]
    },
    {
      "cell_type": "markdown",
      "metadata": {
        "id": "XYGNPm3_FjVu"
      },
      "source": [
        "###**QUESTION 16**"
      ]
    },
    {
      "cell_type": "code",
      "execution_count": null,
      "metadata": {
        "id": "Z-D8cwO9FmtW"
      },
      "outputs": [],
      "source": [
        "sample_df.Q16.unique()"
      ]
    },
    {
      "cell_type": "code",
      "execution_count": null,
      "metadata": {
        "id": "MIa6es7_Fq_H"
      },
      "outputs": [],
      "source": [
        "sample_df.Q16 = sample_df.Q16.str.strip()\n",
        "sample_df.Q16 = sample_df.Q16.replace('',np.nan) \n",
        "sample_df.Q16.value_counts()"
      ]
    },
    {
      "cell_type": "code",
      "execution_count": null,
      "metadata": {
        "id": "drjl8fTDFxBv"
      },
      "outputs": [],
      "source": [
        "Q16_df = Create(sample_df,'Q16',level=1)\n",
        "Q16_df"
      ]
    },
    {
      "cell_type": "markdown",
      "metadata": {
        "id": "Pq4FJZICF6sG"
      },
      "source": [
        "###**QUESTION 17**"
      ]
    },
    {
      "cell_type": "code",
      "execution_count": null,
      "metadata": {
        "id": "vU5q0moUF3FW"
      },
      "outputs": [],
      "source": [
        "sample_df.Q17.unique()"
      ]
    },
    {
      "cell_type": "code",
      "execution_count": null,
      "metadata": {
        "id": "vRDlLN9CGBl2"
      },
      "outputs": [],
      "source": [
        "sample_df.Q17 = sample_df.Q17.str.strip()\n",
        "sample_df.Q17 = sample_df.Q17.replace('',np.nan) \n",
        "sample_df.Q17.value_counts()"
      ]
    },
    {
      "cell_type": "code",
      "execution_count": null,
      "metadata": {
        "id": "WzYvBsOHGGzn"
      },
      "outputs": [],
      "source": [
        "Q17_df = Create(sample_df,'Q17',level=1)\n",
        "Q17_df"
      ]
    },
    {
      "cell_type": "markdown",
      "metadata": {
        "id": "uksm7xG_GRad"
      },
      "source": [
        "###**QUESTION 18**"
      ]
    },
    {
      "cell_type": "code",
      "execution_count": null,
      "metadata": {
        "id": "InpZEinkGM02"
      },
      "outputs": [],
      "source": [
        "sample_df.Q18.unique()"
      ]
    },
    {
      "cell_type": "code",
      "execution_count": null,
      "metadata": {
        "id": "aS_0SdLRGY4F"
      },
      "outputs": [],
      "source": [
        "sample_df.Q18 = sample_df.Q18.str.strip()\n",
        "sample_df.Q18 = sample_df.Q18.replace('',np.nan) \n",
        "sample_df.Q18.value_counts()"
      ]
    },
    {
      "cell_type": "code",
      "execution_count": null,
      "metadata": {
        "id": "ieVUJKB6GfB1"
      },
      "outputs": [],
      "source": [
        "Q18_df = Create(sample_df,'Q18',level=1)\n",
        "Q18_df"
      ]
    },
    {
      "cell_type": "markdown",
      "metadata": {
        "id": "69m120uFGkyQ"
      },
      "source": [
        "###**QUESTION 19**"
      ]
    },
    {
      "cell_type": "code",
      "execution_count": null,
      "metadata": {
        "id": "V4Z9VzsaGjsF"
      },
      "outputs": [],
      "source": [
        "sample_df.Q19.unique()"
      ]
    },
    {
      "cell_type": "code",
      "execution_count": null,
      "metadata": {
        "id": "5LO1ByH1GsE1"
      },
      "outputs": [],
      "source": [
        "sample_df.Q19 = sample_df.Q19.str.strip()\n",
        "sample_df.Q19 = sample_df.Q19.replace('',np.nan) \n",
        "sample_df.Q19.value_counts()"
      ]
    },
    {
      "cell_type": "code",
      "execution_count": null,
      "metadata": {
        "id": "5sLKye4QGy1N"
      },
      "outputs": [],
      "source": [
        "Q19_df = Create(sample_df,'Q19',level=1)\n",
        "Q19_df"
      ]
    },
    {
      "cell_type": "markdown",
      "metadata": {
        "id": "-cii99fpG7mu"
      },
      "source": [
        "###**QUESTION 20**"
      ]
    },
    {
      "cell_type": "code",
      "execution_count": null,
      "metadata": {
        "colab": {
          "background_save": true
        },
        "id": "6-g2jEKeG4Z9",
        "outputId": "c83b7ce4-9777-485e-94b8-9d9eb646755b"
      },
      "outputs": [
        {
          "data": {
            "text/plain": [
              "array(['CUSTOM', '', 'ARMY', 'POLICE', 'NAFDAC', 'NAFDAC, IMMIGRATION',\n",
              "       'NONE', 'NO', 'CIVIL DEFENCE', '_', 'POLICE/IMMIGRATION',\n",
              "       'POLICE/ IMMIGRATION', 'POLICE , IMMIGRATION',\n",
              "       'POLICE/ IMMIGRATION OFFICERS', 'IMMIGRATION', 'YES',\n",
              "       'IMMIGRATION OFFICER', 'NIGER OFFICIALS', 'IMMIGRATION OFFICERS',\n",
              "       'IMMIGRATION AND CUSTOM', 'LIBIYA', 'ALGERIA', 'NIGER', 'CHAD'],\n",
              "      dtype=object)"
            ]
          },
          "execution_count": null,
          "metadata": {},
          "output_type": "execute_result"
        }
      ],
      "source": [
        "sample_df.Q20.unique()"
      ]
    },
    {
      "cell_type": "code",
      "execution_count": null,
      "metadata": {
        "id": "yAasSu1nHCnu"
      },
      "outputs": [],
      "source": [
        "words = ['CUSTOM', '', 'ARMY', 'POLICE', 'NAFDAC', 'NAFDAC, IMMIGRATION',\n",
        "       'NONE', 'NO', 'CIVIL DEFENCE', '_', 'POLICE/IMMIGRATION',\n",
        "       'POLICE/ IMMIGRATION', 'POLICE , IMMIGRATION',\n",
        "       'POLICE/ IMMIGRATION OFFICERS', 'IMMIGRATION', 'YES',\n",
        "       'IMMIGRATION OFFICER', 'NIGER OFFICIALS', 'IMMIGRATION OFFICERS',\n",
        "       'IMMIGRATION AND CUSTOM', 'LIBIYA', 'ALGERIA', 'NIGER', 'CHAD']\n",
        "correct = ['CUSTOM', '', 'ARMY', 'POLICE', 'NAFDAC', 'NAFDAC, IMMIGRATION',\n",
        "       'NONE', 'NONE', 'CIVIL DEFENCE', np.nan, 'POLICE, IMMIGRATION',\n",
        "       'POLICE, IMMIGRATION', 'POLICE, IMMIGRATION',\n",
        "       'POLICE, IMMIGRATION', 'IMMIGRATION', 'YES',\n",
        "       'IMMIGRATION', 'NIGER OFFICIALS', 'IMMIGRATION',\n",
        "       'IMMIGRATION, CUSTOM', 'LIBIYA OFFICIALS', 'ALGERIA OFFICIALS', 'NIGER OFFICIALS', 'CHAD OFFICIALS']\n",
        "sample_df.Q20 = sample_df.Q20.replace(words,correct)"
      ]
    },
    {
      "cell_type": "code",
      "execution_count": null,
      "metadata": {
        "id": "XOLkKzltItG1"
      },
      "outputs": [],
      "source": [
        "sample_df.Q20 = sample_df.Q20.str.strip()\n",
        "sample_df.Q20 = sample_df.Q20.replace('',np.nan) \n",
        "sample_df.Q20.value_counts()"
      ]
    },
    {
      "cell_type": "code",
      "execution_count": null,
      "metadata": {
        "id": "lEHV-VX0I2CT"
      },
      "outputs": [],
      "source": [
        "Q20_df = Create(sample_df,'Q20',level=2)\n",
        "Q20_df"
      ]
    },
    {
      "cell_type": "markdown",
      "metadata": {
        "id": "MRbrLlu1JQRz"
      },
      "source": [
        "###**QUESTION 21**"
      ]
    },
    {
      "cell_type": "code",
      "execution_count": null,
      "metadata": {
        "id": "ov4Cdb5zI9mr"
      },
      "outputs": [],
      "source": [
        "sample_df.Q21.unique()"
      ]
    },
    {
      "cell_type": "code",
      "execution_count": null,
      "metadata": {
        "id": "Qf3GSs0kJZmP"
      },
      "outputs": [],
      "source": [
        "sample_df.Q21 = sample_df.Q21.str.strip()\n",
        "sample_df.Q21 = sample_df.Q21.replace('',np.nan) \n",
        "sample_df.Q21.value_counts()"
      ]
    },
    {
      "cell_type": "code",
      "execution_count": null,
      "metadata": {
        "id": "h1q5ybmsJhdC"
      },
      "outputs": [],
      "source": [
        "Q21_df = Create(sample_df,'Q21',level=1)\n",
        "Q21_df"
      ]
    },
    {
      "cell_type": "markdown",
      "metadata": {
        "id": "1GFISKd0JsHC"
      },
      "source": [
        "###**QUESTION 22**"
      ]
    },
    {
      "cell_type": "code",
      "execution_count": null,
      "metadata": {
        "id": "o-z9prQfJnrp"
      },
      "outputs": [],
      "source": [
        "sample_df.Q22.unique()"
      ]
    },
    {
      "cell_type": "code",
      "execution_count": null,
      "metadata": {
        "id": "MmGgi2slJ01r"
      },
      "outputs": [],
      "source": [
        "sample_df.Q22 = sample_df.Q22.str.strip()\n",
        "sample_df.Q22 = sample_df.Q22.replace('',np.nan) \n",
        "sample_df.Q22.value_counts()"
      ]
    },
    {
      "cell_type": "code",
      "execution_count": null,
      "metadata": {
        "id": "WgrJVt6CJ7dC"
      },
      "outputs": [],
      "source": [
        "Q22_df = Create(sample_df,'Q22',level=1)\n",
        "Q22_df"
      ]
    },
    {
      "cell_type": "markdown",
      "metadata": {
        "id": "rTiUj8fEKIfb"
      },
      "source": [
        "###**QUESTION 23**"
      ]
    },
    {
      "cell_type": "code",
      "execution_count": null,
      "metadata": {
        "id": "WEdFZYzoKFoR"
      },
      "outputs": [],
      "source": [
        "sample_df.Q23.unique()"
      ]
    },
    {
      "cell_type": "code",
      "execution_count": null,
      "metadata": {
        "id": "T47CJuVzKOaH"
      },
      "outputs": [],
      "source": [
        "sample_df.Q23 = sample_df.Q23.str.strip()\n",
        "sample_df.Q23 = [x.replace('#','N') for x in sample_df.Q23]\n",
        "sample_df.Q23 = sample_df.Q23.replace('',np.nan) \n",
        "sample_df.Q23.value_counts()"
      ]
    },
    {
      "cell_type": "code",
      "execution_count": null,
      "metadata": {
        "id": "H6CqQ8VlKga0"
      },
      "outputs": [],
      "source": [
        "Q23_df = Create(sample_df,'Q23',level=1)\n",
        "Q23_df"
      ]
    },
    {
      "cell_type": "code",
      "execution_count": null,
      "metadata": {
        "colab": {
          "background_save": true
        },
        "id": "13_cDKkeLfXd",
        "outputId": "ae70b695-ead1-4511-92a3-697fac227584"
      },
      "outputs": [
        {
          "data": {
            "text/html": [
              "\n",
              "  <div id=\"df-4ac18cef-1965-4440-a19c-779fcb2f7ba4\">\n",
              "    <div class=\"colab-df-container\">\n",
              "      <div>\n",
              "<style scoped>\n",
              "    .dataframe tbody tr th:only-of-type {\n",
              "        vertical-align: middle;\n",
              "    }\n",
              "\n",
              "    .dataframe tbody tr th {\n",
              "        vertical-align: top;\n",
              "    }\n",
              "\n",
              "    .dataframe thead th {\n",
              "        text-align: right;\n",
              "    }\n",
              "</style>\n",
              "<table border=\"1\" class=\"dataframe\">\n",
              "  <thead>\n",
              "    <tr style=\"text-align: right;\">\n",
              "      <th></th>\n",
              "      <th>index</th>\n",
              "      <th>Edo</th>\n",
              "      <th>Delta</th>\n",
              "      <th>Kano</th>\n",
              "      <th>Katsina</th>\n",
              "      <th>Kaduna</th>\n",
              "      <th>Sokoto</th>\n",
              "      <th>Jigawa</th>\n",
              "      <th>Total</th>\n",
              "    </tr>\n",
              "  </thead>\n",
              "  <tbody>\n",
              "    <tr>\n",
              "      <th>0</th>\n",
              "      <td>1,000</td>\n",
              "      <td>NaN</td>\n",
              "      <td>NaN</td>\n",
              "      <td>NaN</td>\n",
              "      <td>NaN</td>\n",
              "      <td>NaN</td>\n",
              "      <td>1.0</td>\n",
              "      <td>NaN</td>\n",
              "      <td>1</td>\n",
              "    </tr>\n",
              "    <tr>\n",
              "      <th>1</th>\n",
              "      <td>ASSIST US TO ESCAPE FROM BOKO HARAM</td>\n",
              "      <td>NaN</td>\n",
              "      <td>NaN</td>\n",
              "      <td>NaN</td>\n",
              "      <td>NaN</td>\n",
              "      <td>NaN</td>\n",
              "      <td>NaN</td>\n",
              "      <td>1.0</td>\n",
              "      <td>1</td>\n",
              "    </tr>\n",
              "    <tr>\n",
              "      <th>2</th>\n",
              "      <td>ASSIST US TO ESCAPE FROM BOKO HARAM TERRORIST</td>\n",
              "      <td>NaN</td>\n",
              "      <td>NaN</td>\n",
              "      <td>NaN</td>\n",
              "      <td>NaN</td>\n",
              "      <td>NaN</td>\n",
              "      <td>NaN</td>\n",
              "      <td>1.0</td>\n",
              "      <td>1</td>\n",
              "    </tr>\n",
              "    <tr>\n",
              "      <th>3</th>\n",
              "      <td>ASSIST US TO ESCAPE FROM BOKO HARAM TERRORIST ...</td>\n",
              "      <td>NaN</td>\n",
              "      <td>NaN</td>\n",
              "      <td>NaN</td>\n",
              "      <td>NaN</td>\n",
              "      <td>NaN</td>\n",
              "      <td>NaN</td>\n",
              "      <td>1.0</td>\n",
              "      <td>1</td>\n",
              "    </tr>\n",
              "    <tr>\n",
              "      <th>4</th>\n",
              "      <td>BY CHECKING ALL THE DOCUMENTS</td>\n",
              "      <td>NaN</td>\n",
              "      <td>NaN</td>\n",
              "      <td>NaN</td>\n",
              "      <td>1.0</td>\n",
              "      <td>NaN</td>\n",
              "      <td>NaN</td>\n",
              "      <td>NaN</td>\n",
              "      <td>1</td>\n",
              "    </tr>\n",
              "    <tr>\n",
              "      <th>5</th>\n",
              "      <td>COLLECTED MONEY</td>\n",
              "      <td>1.0</td>\n",
              "      <td>NaN</td>\n",
              "      <td>NaN</td>\n",
              "      <td>NaN</td>\n",
              "      <td>NaN</td>\n",
              "      <td>NaN</td>\n",
              "      <td>NaN</td>\n",
              "      <td>1</td>\n",
              "    </tr>\n",
              "    <tr>\n",
              "      <th>6</th>\n",
              "      <td>EXIST MONEY N10,000</td>\n",
              "      <td>NaN</td>\n",
              "      <td>NaN</td>\n",
              "      <td>NaN</td>\n",
              "      <td>1.0</td>\n",
              "      <td>NaN</td>\n",
              "      <td>NaN</td>\n",
              "      <td>NaN</td>\n",
              "      <td>1</td>\n",
              "    </tr>\n",
              "    <tr>\n",
              "      <th>7</th>\n",
              "      <td>EXTORTION OF OUR MONEY</td>\n",
              "      <td>1.0</td>\n",
              "      <td>NaN</td>\n",
              "      <td>NaN</td>\n",
              "      <td>NaN</td>\n",
              "      <td>NaN</td>\n",
              "      <td>NaN</td>\n",
              "      <td>NaN</td>\n",
              "      <td>1</td>\n",
              "    </tr>\n",
              "    <tr>\n",
              "      <th>8</th>\n",
              "      <td>GUIDENCE AND COUNCILLING</td>\n",
              "      <td>NaN</td>\n",
              "      <td>NaN</td>\n",
              "      <td>NaN</td>\n",
              "      <td>NaN</td>\n",
              "      <td>NaN</td>\n",
              "      <td>NaN</td>\n",
              "      <td>1.0</td>\n",
              "      <td>1</td>\n",
              "    </tr>\n",
              "    <tr>\n",
              "      <th>9</th>\n",
              "      <td>I PAID MONEY</td>\n",
              "      <td>NaN</td>\n",
              "      <td>NaN</td>\n",
              "      <td>NaN</td>\n",
              "      <td>1.0</td>\n",
              "      <td>NaN</td>\n",
              "      <td>NaN</td>\n",
              "      <td>NaN</td>\n",
              "      <td>1</td>\n",
              "    </tr>\n",
              "    <tr>\n",
              "      <th>10</th>\n",
              "      <td>I PAID N12,000</td>\n",
              "      <td>NaN</td>\n",
              "      <td>NaN</td>\n",
              "      <td>NaN</td>\n",
              "      <td>1.0</td>\n",
              "      <td>NaN</td>\n",
              "      <td>NaN</td>\n",
              "      <td>NaN</td>\n",
              "      <td>1</td>\n",
              "    </tr>\n",
              "    <tr>\n",
              "      <th>11</th>\n",
              "      <td>I PAID N20,000</td>\n",
              "      <td>NaN</td>\n",
              "      <td>NaN</td>\n",
              "      <td>NaN</td>\n",
              "      <td>1.0</td>\n",
              "      <td>NaN</td>\n",
              "      <td>NaN</td>\n",
              "      <td>NaN</td>\n",
              "      <td>1</td>\n",
              "    </tr>\n",
              "    <tr>\n",
              "      <th>12</th>\n",
              "      <td>I PAID THEM N8000 EACH</td>\n",
              "      <td>NaN</td>\n",
              "      <td>NaN</td>\n",
              "      <td>NaN</td>\n",
              "      <td>1.0</td>\n",
              "      <td>NaN</td>\n",
              "      <td>NaN</td>\n",
              "      <td>NaN</td>\n",
              "      <td>1</td>\n",
              "    </tr>\n",
              "    <tr>\n",
              "      <th>13</th>\n",
              "      <td>N4000</td>\n",
              "      <td>NaN</td>\n",
              "      <td>NaN</td>\n",
              "      <td>NaN</td>\n",
              "      <td>1.0</td>\n",
              "      <td>NaN</td>\n",
              "      <td>NaN</td>\n",
              "      <td>NaN</td>\n",
              "      <td>1</td>\n",
              "    </tr>\n",
              "    <tr>\n",
              "      <th>14</th>\n",
              "      <td>N7000</td>\n",
              "      <td>NaN</td>\n",
              "      <td>NaN</td>\n",
              "      <td>NaN</td>\n",
              "      <td>1.0</td>\n",
              "      <td>NaN</td>\n",
              "      <td>NaN</td>\n",
              "      <td>NaN</td>\n",
              "      <td>1</td>\n",
              "    </tr>\n",
              "    <tr>\n",
              "      <th>15</th>\n",
              "      <td>NO COST/FREE PASSAGE</td>\n",
              "      <td>1.0</td>\n",
              "      <td>NaN</td>\n",
              "      <td>NaN</td>\n",
              "      <td>NaN</td>\n",
              "      <td>NaN</td>\n",
              "      <td>NaN</td>\n",
              "      <td>NaN</td>\n",
              "      <td>1</td>\n",
              "    </tr>\n",
              "    <tr>\n",
              "      <th>16</th>\n",
              "      <td>PAID N2000</td>\n",
              "      <td>NaN</td>\n",
              "      <td>NaN</td>\n",
              "      <td>NaN</td>\n",
              "      <td>1.0</td>\n",
              "      <td>NaN</td>\n",
              "      <td>NaN</td>\n",
              "      <td>NaN</td>\n",
              "      <td>1</td>\n",
              "    </tr>\n",
              "    <tr>\n",
              "      <th>17</th>\n",
              "      <td>PAID N5000</td>\n",
              "      <td>NaN</td>\n",
              "      <td>NaN</td>\n",
              "      <td>NaN</td>\n",
              "      <td>1.0</td>\n",
              "      <td>NaN</td>\n",
              "      <td>NaN</td>\n",
              "      <td>NaN</td>\n",
              "      <td>1</td>\n",
              "    </tr>\n",
              "    <tr>\n",
              "      <th>18</th>\n",
              "      <td>REQUESTED</td>\n",
              "      <td>NaN</td>\n",
              "      <td>NaN</td>\n",
              "      <td>1.0</td>\n",
              "      <td>NaN</td>\n",
              "      <td>NaN</td>\n",
              "      <td>NaN</td>\n",
              "      <td>NaN</td>\n",
              "      <td>1</td>\n",
              "    </tr>\n",
              "    <tr>\n",
              "      <th>19</th>\n",
              "      <td>THE SMUGGLER GAVE THEM MONEY AND THEY ALLOWED ...</td>\n",
              "      <td>1.0</td>\n",
              "      <td>NaN</td>\n",
              "      <td>NaN</td>\n",
              "      <td>NaN</td>\n",
              "      <td>NaN</td>\n",
              "      <td>NaN</td>\n",
              "      <td>NaN</td>\n",
              "      <td>1</td>\n",
              "    </tr>\n",
              "    <tr>\n",
              "      <th>20</th>\n",
              "      <td>THE TRAFFICKER PAID AND WE WERE ALLOWED TO PASS</td>\n",
              "      <td>1.0</td>\n",
              "      <td>NaN</td>\n",
              "      <td>NaN</td>\n",
              "      <td>NaN</td>\n",
              "      <td>NaN</td>\n",
              "      <td>NaN</td>\n",
              "      <td>NaN</td>\n",
              "      <td>1</td>\n",
              "    </tr>\n",
              "    <tr>\n",
              "      <th>21</th>\n",
              "      <td>THEY ALLOWED US TO PASS</td>\n",
              "      <td>NaN</td>\n",
              "      <td>NaN</td>\n",
              "      <td>NaN</td>\n",
              "      <td>NaN</td>\n",
              "      <td>1.0</td>\n",
              "      <td>NaN</td>\n",
              "      <td>NaN</td>\n",
              "      <td>1</td>\n",
              "    </tr>\n",
              "    <tr>\n",
              "      <th>22</th>\n",
              "      <td>THEY COLLECTED MONEY AND MADE US PASS</td>\n",
              "      <td>1.0</td>\n",
              "      <td>NaN</td>\n",
              "      <td>NaN</td>\n",
              "      <td>NaN</td>\n",
              "      <td>NaN</td>\n",
              "      <td>NaN</td>\n",
              "      <td>NaN</td>\n",
              "      <td>1</td>\n",
              "    </tr>\n",
              "    <tr>\n",
              "      <th>23</th>\n",
              "      <td>THEY DID NOT SEARCH US, THEY ALLOWED US PASS</td>\n",
              "      <td>1.0</td>\n",
              "      <td>NaN</td>\n",
              "      <td>NaN</td>\n",
              "      <td>NaN</td>\n",
              "      <td>NaN</td>\n",
              "      <td>NaN</td>\n",
              "      <td>NaN</td>\n",
              "      <td>1</td>\n",
              "    </tr>\n",
              "    <tr>\n",
              "      <th>24</th>\n",
              "      <td>THEY DON'T KNOW REAL DOCUMENTS</td>\n",
              "      <td>1.0</td>\n",
              "      <td>NaN</td>\n",
              "      <td>NaN</td>\n",
              "      <td>NaN</td>\n",
              "      <td>NaN</td>\n",
              "      <td>NaN</td>\n",
              "      <td>NaN</td>\n",
              "      <td>1</td>\n",
              "    </tr>\n",
              "    <tr>\n",
              "      <th>25</th>\n",
              "      <td>THEY GOT MONEY AND ALLOWED US GO</td>\n",
              "      <td>1.0</td>\n",
              "      <td>NaN</td>\n",
              "      <td>NaN</td>\n",
              "      <td>NaN</td>\n",
              "      <td>NaN</td>\n",
              "      <td>NaN</td>\n",
              "      <td>NaN</td>\n",
              "      <td>1</td>\n",
              "    </tr>\n",
              "    <tr>\n",
              "      <th>26</th>\n",
              "      <td>TO SEE MY ECOWAS</td>\n",
              "      <td>NaN</td>\n",
              "      <td>NaN</td>\n",
              "      <td>NaN</td>\n",
              "      <td>NaN</td>\n",
              "      <td>NaN</td>\n",
              "      <td>1.0</td>\n",
              "      <td>NaN</td>\n",
              "      <td>1</td>\n",
              "    </tr>\n",
              "    <tr>\n",
              "      <th>27</th>\n",
              "      <td>TOOK MONEY</td>\n",
              "      <td>1.0</td>\n",
              "      <td>NaN</td>\n",
              "      <td>NaN</td>\n",
              "      <td>NaN</td>\n",
              "      <td>NaN</td>\n",
              "      <td>NaN</td>\n",
              "      <td>NaN</td>\n",
              "      <td>1</td>\n",
              "    </tr>\n",
              "    <tr>\n",
              "      <th>28</th>\n",
              "      <td>WE WERE NOT DISTURBED AT ALL</td>\n",
              "      <td>1.0</td>\n",
              "      <td>NaN</td>\n",
              "      <td>NaN</td>\n",
              "      <td>NaN</td>\n",
              "      <td>NaN</td>\n",
              "      <td>NaN</td>\n",
              "      <td>NaN</td>\n",
              "      <td>1</td>\n",
              "    </tr>\n",
              "  </tbody>\n",
              "</table>\n",
              "</div>\n",
              "      <button class=\"colab-df-convert\" onclick=\"convertToInteractive('df-4ac18cef-1965-4440-a19c-779fcb2f7ba4')\"\n",
              "              title=\"Convert this dataframe to an interactive table.\"\n",
              "              style=\"display:none;\">\n",
              "        \n",
              "  <svg xmlns=\"http://www.w3.org/2000/svg\" height=\"24px\"viewBox=\"0 0 24 24\"\n",
              "       width=\"24px\">\n",
              "    <path d=\"M0 0h24v24H0V0z\" fill=\"none\"/>\n",
              "    <path d=\"M18.56 5.44l.94 2.06.94-2.06 2.06-.94-2.06-.94-.94-2.06-.94 2.06-2.06.94zm-11 1L8.5 8.5l.94-2.06 2.06-.94-2.06-.94L8.5 2.5l-.94 2.06-2.06.94zm10 10l.94 2.06.94-2.06 2.06-.94-2.06-.94-.94-2.06-.94 2.06-2.06.94z\"/><path d=\"M17.41 7.96l-1.37-1.37c-.4-.4-.92-.59-1.43-.59-.52 0-1.04.2-1.43.59L10.3 9.45l-7.72 7.72c-.78.78-.78 2.05 0 2.83L4 21.41c.39.39.9.59 1.41.59.51 0 1.02-.2 1.41-.59l7.78-7.78 2.81-2.81c.8-.78.8-2.07 0-2.86zM5.41 20L4 18.59l7.72-7.72 1.47 1.35L5.41 20z\"/>\n",
              "  </svg>\n",
              "      </button>\n",
              "      \n",
              "  <style>\n",
              "    .colab-df-container {\n",
              "      display:flex;\n",
              "      flex-wrap:wrap;\n",
              "      gap: 12px;\n",
              "    }\n",
              "\n",
              "    .colab-df-convert {\n",
              "      background-color: #E8F0FE;\n",
              "      border: none;\n",
              "      border-radius: 50%;\n",
              "      cursor: pointer;\n",
              "      display: none;\n",
              "      fill: #1967D2;\n",
              "      height: 32px;\n",
              "      padding: 0 0 0 0;\n",
              "      width: 32px;\n",
              "    }\n",
              "\n",
              "    .colab-df-convert:hover {\n",
              "      background-color: #E2EBFA;\n",
              "      box-shadow: 0px 1px 2px rgba(60, 64, 67, 0.3), 0px 1px 3px 1px rgba(60, 64, 67, 0.15);\n",
              "      fill: #174EA6;\n",
              "    }\n",
              "\n",
              "    [theme=dark] .colab-df-convert {\n",
              "      background-color: #3B4455;\n",
              "      fill: #D2E3FC;\n",
              "    }\n",
              "\n",
              "    [theme=dark] .colab-df-convert:hover {\n",
              "      background-color: #434B5C;\n",
              "      box-shadow: 0px 1px 3px 1px rgba(0, 0, 0, 0.15);\n",
              "      filter: drop-shadow(0px 1px 2px rgba(0, 0, 0, 0.3));\n",
              "      fill: #FFFFFF;\n",
              "    }\n",
              "  </style>\n",
              "\n",
              "      <script>\n",
              "        const buttonEl =\n",
              "          document.querySelector('#df-4ac18cef-1965-4440-a19c-779fcb2f7ba4 button.colab-df-convert');\n",
              "        buttonEl.style.display =\n",
              "          google.colab.kernel.accessAllowed ? 'block' : 'none';\n",
              "\n",
              "        async function convertToInteractive(key) {\n",
              "          const element = document.querySelector('#df-4ac18cef-1965-4440-a19c-779fcb2f7ba4');\n",
              "          const dataTable =\n",
              "            await google.colab.kernel.invokeFunction('convertToInteractive',\n",
              "                                                     [key], {});\n",
              "          if (!dataTable) return;\n",
              "\n",
              "          const docLinkHtml = 'Like what you see? Visit the ' +\n",
              "            '<a target=\"_blank\" href=https://colab.research.google.com/notebooks/data_table.ipynb>data table notebook</a>'\n",
              "            + ' to learn more about interactive tables.';\n",
              "          element.innerHTML = '';\n",
              "          dataTable['output_type'] = 'display_data';\n",
              "          await google.colab.output.renderOutput(dataTable, element);\n",
              "          const docLink = document.createElement('div');\n",
              "          docLink.innerHTML = docLinkHtml;\n",
              "          element.appendChild(docLink);\n",
              "        }\n",
              "      </script>\n",
              "    </div>\n",
              "  </div>\n",
              "  "
            ],
            "text/plain": [
              "                                                index  Edo  Delta  Kano  \\\n",
              "0                                               1,000  NaN    NaN   NaN   \n",
              "1                 ASSIST US TO ESCAPE FROM BOKO HARAM  NaN    NaN   NaN   \n",
              "2       ASSIST US TO ESCAPE FROM BOKO HARAM TERRORIST  NaN    NaN   NaN   \n",
              "3   ASSIST US TO ESCAPE FROM BOKO HARAM TERRORIST ...  NaN    NaN   NaN   \n",
              "4                       BY CHECKING ALL THE DOCUMENTS  NaN    NaN   NaN   \n",
              "5                                     COLLECTED MONEY  1.0    NaN   NaN   \n",
              "6                                 EXIST MONEY N10,000  NaN    NaN   NaN   \n",
              "7                              EXTORTION OF OUR MONEY  1.0    NaN   NaN   \n",
              "8                            GUIDENCE AND COUNCILLING  NaN    NaN   NaN   \n",
              "9                                        I PAID MONEY  NaN    NaN   NaN   \n",
              "10                                     I PAID N12,000  NaN    NaN   NaN   \n",
              "11                                     I PAID N20,000  NaN    NaN   NaN   \n",
              "12                             I PAID THEM N8000 EACH  NaN    NaN   NaN   \n",
              "13                                              N4000  NaN    NaN   NaN   \n",
              "14                                              N7000  NaN    NaN   NaN   \n",
              "15                               NO COST/FREE PASSAGE  1.0    NaN   NaN   \n",
              "16                                         PAID N2000  NaN    NaN   NaN   \n",
              "17                                         PAID N5000  NaN    NaN   NaN   \n",
              "18                                          REQUESTED  NaN    NaN   1.0   \n",
              "19  THE SMUGGLER GAVE THEM MONEY AND THEY ALLOWED ...  1.0    NaN   NaN   \n",
              "20    THE TRAFFICKER PAID AND WE WERE ALLOWED TO PASS  1.0    NaN   NaN   \n",
              "21                            THEY ALLOWED US TO PASS  NaN    NaN   NaN   \n",
              "22              THEY COLLECTED MONEY AND MADE US PASS  1.0    NaN   NaN   \n",
              "23       THEY DID NOT SEARCH US, THEY ALLOWED US PASS  1.0    NaN   NaN   \n",
              "24                     THEY DON'T KNOW REAL DOCUMENTS  1.0    NaN   NaN   \n",
              "25                   THEY GOT MONEY AND ALLOWED US GO  1.0    NaN   NaN   \n",
              "26                                   TO SEE MY ECOWAS  NaN    NaN   NaN   \n",
              "27                                         TOOK MONEY  1.0    NaN   NaN   \n",
              "28                       WE WERE NOT DISTURBED AT ALL  1.0    NaN   NaN   \n",
              "\n",
              "    Katsina  Kaduna  Sokoto  Jigawa  Total  \n",
              "0       NaN     NaN     1.0     NaN      1  \n",
              "1       NaN     NaN     NaN     1.0      1  \n",
              "2       NaN     NaN     NaN     1.0      1  \n",
              "3       NaN     NaN     NaN     1.0      1  \n",
              "4       1.0     NaN     NaN     NaN      1  \n",
              "5       NaN     NaN     NaN     NaN      1  \n",
              "6       1.0     NaN     NaN     NaN      1  \n",
              "7       NaN     NaN     NaN     NaN      1  \n",
              "8       NaN     NaN     NaN     1.0      1  \n",
              "9       1.0     NaN     NaN     NaN      1  \n",
              "10      1.0     NaN     NaN     NaN      1  \n",
              "11      1.0     NaN     NaN     NaN      1  \n",
              "12      1.0     NaN     NaN     NaN      1  \n",
              "13      1.0     NaN     NaN     NaN      1  \n",
              "14      1.0     NaN     NaN     NaN      1  \n",
              "15      NaN     NaN     NaN     NaN      1  \n",
              "16      1.0     NaN     NaN     NaN      1  \n",
              "17      1.0     NaN     NaN     NaN      1  \n",
              "18      NaN     NaN     NaN     NaN      1  \n",
              "19      NaN     NaN     NaN     NaN      1  \n",
              "20      NaN     NaN     NaN     NaN      1  \n",
              "21      NaN     1.0     NaN     NaN      1  \n",
              "22      NaN     NaN     NaN     NaN      1  \n",
              "23      NaN     NaN     NaN     NaN      1  \n",
              "24      NaN     NaN     NaN     NaN      1  \n",
              "25      NaN     NaN     NaN     NaN      1  \n",
              "26      NaN     NaN     1.0     NaN      1  \n",
              "27      NaN     NaN     NaN     NaN      1  \n",
              "28      NaN     NaN     NaN     NaN      1  "
            ]
          },
          "execution_count": null,
          "metadata": {},
          "output_type": "execute_result"
        }
      ],
      "source": [
        " Q23_df = Q23_df.reset_index()\n",
        " Q23_df.to_csv('/content/drive/MyDrive/Colab Notebooks/KII Analysis/{}_Summary.csv'.format('Q23'))\n",
        " Q23_df"
      ]
    },
    {
      "cell_type": "markdown",
      "metadata": {
        "id": "SbjVFxtqLZfw"
      },
      "source": [
        "###**QUESTION 24**\n"
      ]
    },
    {
      "cell_type": "code",
      "execution_count": null,
      "metadata": {
        "id": "09zEZsPhLI6U"
      },
      "outputs": [],
      "source": [
        "sample_df.Q24.unique()"
      ]
    },
    {
      "cell_type": "code",
      "execution_count": null,
      "metadata": {
        "id": "ynEelWGiNUAv"
      },
      "outputs": [],
      "source": [
        "words = ['Threat to life', 'KIDNAPPING', '', 'TOO MUCH SUFFERING',\n",
        "       'SHADES IN DESERTS, STARVATION', 'STARVATION,INTIMIDATIOM',\n",
        "       'STARVATION', 'NO WATER NO FOOD', 'KIDNAPPING,STARVATION',\n",
        "       'KIDNAPPING, BEATING', 'HUNGER', 'BRUTALITY',\n",
        "       'ALMOST ALL MY FRIENDS DIED', 'LACK OF FREEDOM , EXTORTION',\n",
        "       'LACK OF WATER', 'LACK OF WATER , LACK OF MEDICATION',\n",
        "       'LACK OF FREEDOM, LACK OF WATER ',\n",
        "       'INABILITY TO RETURN BACK ON MY OWN', 'DRINKING OF URINE',\n",
        "       'HUNGER, LACK OF WATER', 'EXTORTION',\n",
        "       'STARVATION, HARRASSMENT, EXTORTION',\n",
        "       'MANIPULATION, EXTORTION, OPPRESSION', 'HUNGER, FATIQUE',\n",
        "       'Sexual abuse', 'LACK OF FREEDOM',\n",
        "       'LOST ALL I HAVE ON THE JOURNY EVEN MY PHONE WAS STOLEN',\n",
        "       'LACK OF FUND', 'HUNGER, LACK OF WATER AND ARMED ROBBERS',\n",
        "       'Forced labour', 'DEPORTATION', 'HUNGER, HUMAN TORTURE', 'NO JOB',\n",
        "       'NO FREEDOM', 'AGENT', 'LACK OF FOOD',\n",
        "       'DIFFICULTY OF PASSING SAHARA DESERT', 'NONE',\n",
        "       'MALTREATING BY ALGERIAN OFFICIALS',\n",
        "       'MALTREATMENT BY LIBYAN OFFICIALS', 'INADEQUATE CAPITAL',\n",
        "       'Loss of property', 'LONG ROUTE TO ALGERIA', 'SERIOUS HUNGER',\n",
        "       'LONG ROUTE, THIRST AND HUNGER', 'SOME PEOPLE DIED ON TRANSIT',\n",
        "       'Imprisonment']\n",
        "correction = ['Threat to life', 'KIDNAPPING', '', 'SUFFERING',\n",
        "       'STARVATION', 'STARVATION, INTIMIDATION',\n",
        "       'STARVATION', 'STARVATION', 'KIDNAPPING, STARVATION',\n",
        "       'KIDNAPPING, BEATING', 'STARVATION', 'BRUTALITY',\n",
        "       'DEATH', 'LACK OF FREEDOM , EXTORTION',\n",
        "       'LACK OF WATER', 'LACK OF WATER , LACK OF MEDICATION',\n",
        "       'LACK OF FREEDOM, LACK OF WATER ',\n",
        "       'LACK OF FREEDOM', 'LACK OF WATER',\n",
        "       'STARVATION, LACK OF WATER', 'EXTORTION',\n",
        "       'STARVATION, HARRASSMENT, EXTORTION',\n",
        "       'MANIPULATION, EXTORTION, OPPRESSION', 'STARVATION, FATIQUE',\n",
        "       'Sexual abuse', 'LACK OF FREEDOM',\n",
        "       'LOSS OF PROPERTY',\n",
        "       'LACK OF FUND', 'STARVATION, LACK OF WATER, LOSS OF PROPERTY',\n",
        "       'Forced labour', 'DEPORTATION', 'STARVATION, HUMAN TORTURE', 'NO JOB',\n",
        "       'LACK OF FREEDOM', 'AGENTS', 'STARVATION',\n",
        "       'DIFFICULTY OF PASSING SAHARA DESERT', 'NONE',\n",
        "       'MALTREATING BY ALGERIAN OFFICIALS',\n",
        "       'MALTREATMENT BY LIBYAN OFFICIALS', 'INADEQUATE CAPITAL',\n",
        "       'Loss of property', 'LONG ROUTE TO ALGERIA', 'STARVATION',\n",
        "       'LONG ROUTE, STARVATION', 'DEATH',\n",
        "       'Imprisonment']\n",
        "sample_df.Q24 = sample_df.Q24.replace(words, correction)"
      ]
    },
    {
      "cell_type": "code",
      "execution_count": null,
      "metadata": {
        "id": "cEeJi-_DPC5c"
      },
      "outputs": [],
      "source": [
        "sample_df.Q24 = sample_df.Q24.str.strip() \n",
        "sample_df.Q24 = sample_df.Q24.replace('',np.nan) \n",
        "sample_df.Q24.value_counts()"
      ]
    },
    {
      "cell_type": "code",
      "execution_count": null,
      "metadata": {
        "id": "lE1m9dnTPPXF"
      },
      "outputs": [],
      "source": [
        "Q24_df = Create(sample_df,'Q24',level=2)\n",
        "Q24_df"
      ]
    },
    {
      "cell_type": "code",
      "execution_count": null,
      "metadata": {
        "id": "3diVgZn2nj0Q"
      },
      "outputs": [],
      "source": [
        " Q24_df = Q24_df.reset_index()\n",
        " Q24_df.to_csv('/content/drive/MyDrive/Colab Notebooks/KII Analysis/{}_Summary.csv'.format('Q24'))\n",
        " Q24_df"
      ]
    },
    {
      "cell_type": "markdown",
      "metadata": {
        "id": "IGXURGg9nv5j"
      },
      "source": [
        "###**QUESTION 25**"
      ]
    },
    {
      "cell_type": "code",
      "execution_count": null,
      "metadata": {
        "id": "R29CxxcYnuLn"
      },
      "outputs": [],
      "source": [
        "sample_df.Q25.unique()"
      ]
    },
    {
      "cell_type": "code",
      "execution_count": null,
      "metadata": {
        "id": "193MoKQjn4mI"
      },
      "outputs": [],
      "source": [
        "words = ['DEPORTED', 'SUFFERING TOO MUCH', 'RISK OF CROSSING THE SEA',\n",
        "       'NIGERIA IS THE BEST COUNTRY FOR ME', '',\n",
        "       'I WAS DROPPED, BEBORE I GOT TO MY DESTINATION', 'DEPORT',\n",
        "       'STRESSFUL CONDITION', 'IT WAS TOUGH', 'ZONOPHOBIC ATTACK',\n",
        "       'I SPENT 2 YEARS SUFFERING',\n",
        "       'THE PLACE IS VERY RISKY AND DANGEROUS FOR A WOMAN TO STAY',\n",
        "       '2020', 'I WAS CAPTURED AND RETURNED', 'FRUSTRATION', 'FRUSTRATED',\n",
        "       'DEPORTATION', 'KIDNAPPING', 'CAPTURED ON THE SEA',\n",
        "       'CAUGHT IN THE SEA', 'I WAS CAPTURED', 'TO SEE MY FAMILY',\n",
        "       'TO COME BACK TO MY FAMILY', 'NO JOB', 'NO WORK',\n",
        "       'SUFFERED MUCH THERE', 'MY CONTRACT EXPIRED', 'SAME WAY',\n",
        "       'HUNGER AND SICKNESS', 'LACK OF WORK', 'BECAUSE OF HARDSHIP',\n",
        "       'THE CONTRACT EXPIRED', 'I WAS RETURNED BY NIGER POLICE',\n",
        "       'RETURNED BY LIBYA OFFICERS', 'FORCED', 'FORCED RETURN', 'FORCED ',\n",
        "       'I WANT TO LIVE WITH MY FAMILY', 'TWO OF MY FRIENDS WERE KILLED',\n",
        "       'TIRED OF STAYING AS I\"M GETTING OLD',\n",
        "       'THE WAR IN LIBYA MADE ME RETURN', 'EXPLOITATION BY AGENTS',\n",
        "       'THREAT TO LIFE', 'TO PICK MY FEMALE CHILDREN',\n",
        "       'INSECURITY IN THE COUNTRY', 'THE PLACE IS NO LONGER SECURED',\n",
        "       'I WAS TIRED OF ALGERIA, NO REST MIND', 'VISIT FRIENDS',\n",
        "       'TO VISIT MY FRIEND ', 'TO VISIT MY FAMILY', 'VISIT TO FAMILY']\n",
        "\n",
        "\n",
        "correction = ['DEPORTED', 'SUFFERING TOO MUCH', 'RISK OF CROSSING THE SEA',\n",
        "       'NIGERIA IS THE BEST COUNTRY FOR ME', '',\n",
        "       'I WAS DROPPED, BEFORE I GOT TO MY DESTINATION', 'DEPORTED',\n",
        "       'STRESSFUL CONDITION', 'IT WAS TOUGH', 'ZONOPHOBIC ATTACKS',\n",
        "       'I SPENT 2 YEARS SUFFERING',\n",
        "       'THE PLACE IS VERY RISKY AND DANGEROUS FOR A WOMAN TO STAY',\n",
        "       np.nan, 'I WAS CAPTURED AND RETURNED', 'FRUSTRATED', 'FRUSTRATED',\n",
        "       'DEPORTATED', 'KIDNAPPED', 'CAPTURED ON THE SEA',\n",
        "       'CAPTURED ON THE SEA', 'I WAS CAPTURED', 'RETURN TO MY FAMILY',\n",
        "       'RETURN TO MY FAMILY', 'NO JOB', 'NO WORK',\n",
        "       'SUFFERED MUCH THERE', 'MY CONTRACT EXPIRED', 'SAME WAY',\n",
        "       'HUNGER AND SICKNESS', 'LACK OF WORK', 'BECAUSE OF HARDSHIP',\n",
        "       'CONTRACT EXPIRED', 'I WAS RETURNED BY NIGER POLICE',\n",
        "       'RETURNED BY LIBYA OFFICERS', 'FORCED TO RETURN', 'FORCED TO RETURN', 'FORCED TO RETURN',\n",
        "       'RETURN TO MY FAMILY', 'TWO OF MY FRIENDS WERE KILLED',\n",
        "       \"TIRED OF STAYING AS I'M GETTING OLD\",\n",
        "       'THE WAR IN LIBYA MADE ME RETURN', 'EXPLOITATION BY AGENTS',\n",
        "       'THREAT TO LIFE', 'TO PICK MY FEMALE CHILDREN',\n",
        "       'INSECURITY IN THE COUNTRY', 'THE PLACE IS NO LONGER SECURED',\n",
        "       'I WAS TIRED OF ALGERIA, NO REST OF MIND', 'TO VISIT MY FRIENDS',\n",
        "       'TO VISIT MY FRIENDS', 'TO VISIT MY FAMILY', 'TO VISIT MY FAMILY']\n",
        "       \n",
        "sample_df.Q25 = sample_df.Q25.replace(words, correction)"
      ]
    },
    {
      "cell_type": "code",
      "execution_count": null,
      "metadata": {
        "id": "5sSQ3-8jpXAz"
      },
      "outputs": [],
      "source": [
        "sample_df.Q25 = sample_df.Q25.str.strip() \n",
        "sample_df.Q25 = sample_df.Q25.replace('',np.nan) \n",
        "sample_df.Q25.value_counts()"
      ]
    },
    {
      "cell_type": "code",
      "execution_count": null,
      "metadata": {
        "id": "3bKl6KFApe3B"
      },
      "outputs": [],
      "source": [
        "Q25_df = Create(sample_df,'Q25',level=1)\n",
        "Q25_df"
      ]
    },
    {
      "cell_type": "code",
      "execution_count": null,
      "metadata": {
        "id": "cEs2KmEHpl-D"
      },
      "outputs": [],
      "source": [
        " Q25_df = Q25_df.reset_index()\n",
        " Q25_df.to_csv('/content/drive/MyDrive/Colab Notebooks/KII Analysis/{}_Summary.csv'.format('Q25'))\n",
        " Q25_df"
      ]
    },
    {
      "cell_type": "markdown",
      "metadata": {
        "id": "YJgX0I3pp2MZ"
      },
      "source": [
        "###**QUESTION 26**"
      ]
    },
    {
      "cell_type": "code",
      "execution_count": null,
      "metadata": {
        "id": "2TdvQuuEp0Mn"
      },
      "outputs": [],
      "source": [
        "sample_df.Q26.unique()"
      ]
    },
    {
      "cell_type": "code",
      "execution_count": null,
      "metadata": {
        "id": "6HoiKS73p8nM"
      },
      "outputs": [],
      "source": [
        "words = ['FLIGHT (IOM)', 'IOM', '', 'BY ROAD THROUGH SOKOTO', 'UN POLICE',\n",
        "       'BY AIR', 'NIGERIA GOVERNMENT ', 'FEDERAL GOVERNMENT',\n",
        "       'I WAS DEPORTED TO GHANA AND CAME BACK THROUGH COTONOU',\n",
        "       'PROPHET T.B JOSHUA CHARTERED FLIGHT ',\n",
        "       'THROUGH MURITALA MOHAMMED AIRPORT',\n",
        "       'THROUGH NIGERIA CHARTED FLIGHT', 'ON MY OWN',\n",
        "       'IOM CHARTERED FLIGHT', 'HARDSHIP', 'THROUGH NIGERIAN GOVERNMENT',\n",
        "       'THROUGH NIGERIAN CHARTERED FLIGHT', 'THROUGH IOM', 'BY BUS',\n",
        "       'BUS', 'BY ROAD', 'BY AIR TO KANO', 'CAR THROUH BORDER',\n",
        "       'THROUGH FLIGHT', 'THROUGHT IOM', 'IOM OFFICIALS', 'IOM FLIGHT',\n",
        "       'I CAME BACK THROUGH PUBLIC TRANSPORT WITH BRIBE',\n",
        "       'THROUGH AGADEZ DESERT', 'THE SAME PROCESS',\n",
        "       'I FOLLOWED SEVERAL COMMUNITIES TO GET TO NIGER',\n",
        "       'I FOLLOWED ONE WOMAN FROM NIGER REPUBLIC', 'I CAME BY ROAD',\n",
        "       'THROUGH AGENTS AND LOCAL COMMUNITIES',\n",
        "       'I SPENT SEVERAL WEEKS WITH HELP FROM VILLAGERS',\n",
        "       'THROUGH THE NORTHWEST BORDER', 'TRHOUGH', 'BY RAIL',\n",
        "       'NORTHWEST ROUTE', 'BY THE ROUTE', 'THROUGH BUS']\n",
        "\n",
        "correct = ['IOM SPONSORED FLIGHT', 'IOM SPONSORED FLIGHT', '', 'BY ROAD THROUGH SOKOTO', 'UN POLICE',\n",
        "       'BY AIR', 'NIGERIA GOVERNMENT ', 'FEDERAL GOVERNMENT',\n",
        "       'I WAS DEPORTED TO GHANA AND CAME BACK THROUGH COTONOU',\n",
        "       'PROPHET T.B JOSHUA CHARTERED FLIGHT ',\n",
        "       'THROUGH MURITALA MOHAMMED AIRPORT',\n",
        "       'THROUGH NIGERIA CHARTED FLIGHT', 'ON MY OWN',\n",
        "       'IOM CHARTERED FLIGHT', 'HARDSHIP', 'THROUGH NIGERIAN GOVERNMENT',\n",
        "       'THROUGH NIGERIAN CHARTERED FLIGHT', 'IOM SPONSORED FLIGHTS', 'BY BUS',\n",
        "       'BUS', 'BY ROAD', 'BY AIR TO KANO', 'CAR THROUH BORDER',\n",
        "       'THROUGH FLIGHT', 'IOM SPONSORED FLIGHTS', 'IOM SPONSORED FLIGHTS', 'IOM SPONSORED FLIGHTS',\n",
        "       'I CAME BACK THROUGH PUBLIC TRANSPORT WITH BRIBE',\n",
        "       'THROUGH AGADEZ DESERT', 'THE SAME PROCESS',\n",
        "       'I FOLLOWED SEVERAL COMMUNITIES TO GET TO NIGER',\n",
        "       'I FOLLOWED ONE WOMAN FROM NIGER REPUBLIC', 'I CAME BY ROAD',\n",
        "       'THROUGH AGENTS AND LOCAL COMMUNITIES',\n",
        "       'I SPENT SEVERAL WEEKS WITH HELP FROM VILLAGERS',\n",
        "       'THROUGH THE NORTHWEST BORDER', 'TRHOUGH', 'BY RAIL',\n",
        "       'NORTHWEST ROUTE', 'BY THE ROUTE', 'THROUGH BUS']\n",
        "\n",
        "sample_df.Q26 = sample_df.Q26.replace(words,correct)"
      ]
    },
    {
      "cell_type": "code",
      "execution_count": null,
      "metadata": {
        "id": "g8gVUrupqhzp"
      },
      "outputs": [],
      "source": [
        "sample_df.Q26 = sample_df.Q26.str.strip()\n",
        "sample_df.Q26 = sample_df.Q26.replace('',np.nan) \n",
        "sample_df.Q26.value_counts()"
      ]
    },
    {
      "cell_type": "code",
      "execution_count": null,
      "metadata": {
        "id": "oi9IJ-Fnqtvh"
      },
      "outputs": [],
      "source": [
        "Q26_df = Create(sample_df,'Q26',level=1)\n",
        "Q26_df"
      ]
    },
    {
      "cell_type": "code",
      "execution_count": null,
      "metadata": {
        "colab": {
          "background_save": true
        },
        "id": "x_GIrUfqqyOi",
        "outputId": "7264ad61-8d83-46ed-c9ff-556d44dd74f1"
      },
      "outputs": [
        {
          "data": {
            "text/html": [
              "\n",
              "  <div id=\"df-5c43223f-0f17-40c9-ab14-2055205f672b\">\n",
              "    <div class=\"colab-df-container\">\n",
              "      <div>\n",
              "<style scoped>\n",
              "    .dataframe tbody tr th:only-of-type {\n",
              "        vertical-align: middle;\n",
              "    }\n",
              "\n",
              "    .dataframe tbody tr th {\n",
              "        vertical-align: top;\n",
              "    }\n",
              "\n",
              "    .dataframe thead th {\n",
              "        text-align: right;\n",
              "    }\n",
              "</style>\n",
              "<table border=\"1\" class=\"dataframe\">\n",
              "  <thead>\n",
              "    <tr style=\"text-align: right;\">\n",
              "      <th></th>\n",
              "      <th>index</th>\n",
              "      <th>Edo</th>\n",
              "      <th>Delta</th>\n",
              "      <th>Kano</th>\n",
              "      <th>Katsina</th>\n",
              "      <th>Kaduna</th>\n",
              "      <th>Sokoto</th>\n",
              "      <th>Jigawa</th>\n",
              "      <th>Total</th>\n",
              "    </tr>\n",
              "  </thead>\n",
              "  <tbody>\n",
              "    <tr>\n",
              "      <th>0</th>\n",
              "      <td>BUS</td>\n",
              "      <td>NaN</td>\n",
              "      <td>NaN</td>\n",
              "      <td>NaN</td>\n",
              "      <td>NaN</td>\n",
              "      <td>1.0</td>\n",
              "      <td>NaN</td>\n",
              "      <td>NaN</td>\n",
              "      <td>1</td>\n",
              "    </tr>\n",
              "    <tr>\n",
              "      <th>1</th>\n",
              "      <td>BY AIR</td>\n",
              "      <td>NaN</td>\n",
              "      <td>1.0</td>\n",
              "      <td>NaN</td>\n",
              "      <td>1.0</td>\n",
              "      <td>3.0</td>\n",
              "      <td>NaN</td>\n",
              "      <td>NaN</td>\n",
              "      <td>5</td>\n",
              "    </tr>\n",
              "    <tr>\n",
              "      <th>2</th>\n",
              "      <td>BY AIR TO KANO</td>\n",
              "      <td>NaN</td>\n",
              "      <td>NaN</td>\n",
              "      <td>NaN</td>\n",
              "      <td>NaN</td>\n",
              "      <td>1.0</td>\n",
              "      <td>NaN</td>\n",
              "      <td>NaN</td>\n",
              "      <td>1</td>\n",
              "    </tr>\n",
              "    <tr>\n",
              "      <th>3</th>\n",
              "      <td>BY BUS</td>\n",
              "      <td>NaN</td>\n",
              "      <td>NaN</td>\n",
              "      <td>NaN</td>\n",
              "      <td>NaN</td>\n",
              "      <td>3.0</td>\n",
              "      <td>NaN</td>\n",
              "      <td>NaN</td>\n",
              "      <td>3</td>\n",
              "    </tr>\n",
              "    <tr>\n",
              "      <th>4</th>\n",
              "      <td>BY RAIL</td>\n",
              "      <td>NaN</td>\n",
              "      <td>NaN</td>\n",
              "      <td>NaN</td>\n",
              "      <td>NaN</td>\n",
              "      <td>NaN</td>\n",
              "      <td>1.0</td>\n",
              "      <td>NaN</td>\n",
              "      <td>1</td>\n",
              "    </tr>\n",
              "    <tr>\n",
              "      <th>5</th>\n",
              "      <td>BY ROAD</td>\n",
              "      <td>NaN</td>\n",
              "      <td>NaN</td>\n",
              "      <td>NaN</td>\n",
              "      <td>1.0</td>\n",
              "      <td>1.0</td>\n",
              "      <td>NaN</td>\n",
              "      <td>NaN</td>\n",
              "      <td>2</td>\n",
              "    </tr>\n",
              "    <tr>\n",
              "      <th>6</th>\n",
              "      <td>BY ROAD THROUGH SOKOTO</td>\n",
              "      <td>NaN</td>\n",
              "      <td>1.0</td>\n",
              "      <td>NaN</td>\n",
              "      <td>NaN</td>\n",
              "      <td>NaN</td>\n",
              "      <td>NaN</td>\n",
              "      <td>NaN</td>\n",
              "      <td>1</td>\n",
              "    </tr>\n",
              "    <tr>\n",
              "      <th>7</th>\n",
              "      <td>BY THE ROUTE</td>\n",
              "      <td>NaN</td>\n",
              "      <td>NaN</td>\n",
              "      <td>NaN</td>\n",
              "      <td>NaN</td>\n",
              "      <td>NaN</td>\n",
              "      <td>1.0</td>\n",
              "      <td>NaN</td>\n",
              "      <td>1</td>\n",
              "    </tr>\n",
              "    <tr>\n",
              "      <th>8</th>\n",
              "      <td>CAR THROUH BORDER</td>\n",
              "      <td>NaN</td>\n",
              "      <td>NaN</td>\n",
              "      <td>NaN</td>\n",
              "      <td>NaN</td>\n",
              "      <td>1.0</td>\n",
              "      <td>NaN</td>\n",
              "      <td>NaN</td>\n",
              "      <td>1</td>\n",
              "    </tr>\n",
              "    <tr>\n",
              "      <th>9</th>\n",
              "      <td>FEDERAL GOVERNMENT</td>\n",
              "      <td>1.0</td>\n",
              "      <td>NaN</td>\n",
              "      <td>NaN</td>\n",
              "      <td>NaN</td>\n",
              "      <td>NaN</td>\n",
              "      <td>NaN</td>\n",
              "      <td>NaN</td>\n",
              "      <td>1</td>\n",
              "    </tr>\n",
              "    <tr>\n",
              "      <th>10</th>\n",
              "      <td>HARDSHIP</td>\n",
              "      <td>1.0</td>\n",
              "      <td>NaN</td>\n",
              "      <td>NaN</td>\n",
              "      <td>NaN</td>\n",
              "      <td>NaN</td>\n",
              "      <td>NaN</td>\n",
              "      <td>NaN</td>\n",
              "      <td>1</td>\n",
              "    </tr>\n",
              "    <tr>\n",
              "      <th>11</th>\n",
              "      <td>I CAME BACK THROUGH PUBLIC TRANSPORT WITH BRIBE</td>\n",
              "      <td>NaN</td>\n",
              "      <td>NaN</td>\n",
              "      <td>NaN</td>\n",
              "      <td>1.0</td>\n",
              "      <td>NaN</td>\n",
              "      <td>NaN</td>\n",
              "      <td>NaN</td>\n",
              "      <td>1</td>\n",
              "    </tr>\n",
              "    <tr>\n",
              "      <th>12</th>\n",
              "      <td>I CAME BY ROAD</td>\n",
              "      <td>NaN</td>\n",
              "      <td>NaN</td>\n",
              "      <td>NaN</td>\n",
              "      <td>1.0</td>\n",
              "      <td>NaN</td>\n",
              "      <td>NaN</td>\n",
              "      <td>NaN</td>\n",
              "      <td>1</td>\n",
              "    </tr>\n",
              "    <tr>\n",
              "      <th>13</th>\n",
              "      <td>I FOLLOWED ONE WOMAN FROM NIGER REPUBLIC</td>\n",
              "      <td>NaN</td>\n",
              "      <td>NaN</td>\n",
              "      <td>NaN</td>\n",
              "      <td>1.0</td>\n",
              "      <td>NaN</td>\n",
              "      <td>NaN</td>\n",
              "      <td>NaN</td>\n",
              "      <td>1</td>\n",
              "    </tr>\n",
              "    <tr>\n",
              "      <th>14</th>\n",
              "      <td>I FOLLOWED SEVERAL COMMUNITIES TO GET TO NIGER</td>\n",
              "      <td>NaN</td>\n",
              "      <td>NaN</td>\n",
              "      <td>NaN</td>\n",
              "      <td>1.0</td>\n",
              "      <td>NaN</td>\n",
              "      <td>NaN</td>\n",
              "      <td>NaN</td>\n",
              "      <td>1</td>\n",
              "    </tr>\n",
              "    <tr>\n",
              "      <th>15</th>\n",
              "      <td>I SPENT SEVERAL WEEKS WITH HELP FROM VILLAGERS</td>\n",
              "      <td>NaN</td>\n",
              "      <td>NaN</td>\n",
              "      <td>NaN</td>\n",
              "      <td>1.0</td>\n",
              "      <td>NaN</td>\n",
              "      <td>NaN</td>\n",
              "      <td>NaN</td>\n",
              "      <td>1</td>\n",
              "    </tr>\n",
              "    <tr>\n",
              "      <th>16</th>\n",
              "      <td>I WAS DEPORTED TO GHANA AND CAME BACK THROUGH ...</td>\n",
              "      <td>1.0</td>\n",
              "      <td>NaN</td>\n",
              "      <td>NaN</td>\n",
              "      <td>NaN</td>\n",
              "      <td>NaN</td>\n",
              "      <td>NaN</td>\n",
              "      <td>NaN</td>\n",
              "      <td>1</td>\n",
              "    </tr>\n",
              "    <tr>\n",
              "      <th>17</th>\n",
              "      <td>IOM CHARTERED FLIGHT</td>\n",
              "      <td>6.0</td>\n",
              "      <td>NaN</td>\n",
              "      <td>NaN</td>\n",
              "      <td>NaN</td>\n",
              "      <td>NaN</td>\n",
              "      <td>NaN</td>\n",
              "      <td>NaN</td>\n",
              "      <td>6</td>\n",
              "    </tr>\n",
              "    <tr>\n",
              "      <th>18</th>\n",
              "      <td>IOM SPONSORED FLIGHT</td>\n",
              "      <td>6.0</td>\n",
              "      <td>11.0</td>\n",
              "      <td>6.0</td>\n",
              "      <td>NaN</td>\n",
              "      <td>NaN</td>\n",
              "      <td>NaN</td>\n",
              "      <td>7.0</td>\n",
              "      <td>30</td>\n",
              "    </tr>\n",
              "    <tr>\n",
              "      <th>19</th>\n",
              "      <td>IOM SPONSORED FLIGHTS</td>\n",
              "      <td>NaN</td>\n",
              "      <td>NaN</td>\n",
              "      <td>4.0</td>\n",
              "      <td>NaN</td>\n",
              "      <td>NaN</td>\n",
              "      <td>NaN</td>\n",
              "      <td>1.0</td>\n",
              "      <td>5</td>\n",
              "    </tr>\n",
              "    <tr>\n",
              "      <th>20</th>\n",
              "      <td>NIGERIA GOVERNMENT</td>\n",
              "      <td>1.0</td>\n",
              "      <td>NaN</td>\n",
              "      <td>NaN</td>\n",
              "      <td>NaN</td>\n",
              "      <td>NaN</td>\n",
              "      <td>NaN</td>\n",
              "      <td>NaN</td>\n",
              "      <td>1</td>\n",
              "    </tr>\n",
              "    <tr>\n",
              "      <th>21</th>\n",
              "      <td>NORTHWEST ROUTE</td>\n",
              "      <td>NaN</td>\n",
              "      <td>NaN</td>\n",
              "      <td>NaN</td>\n",
              "      <td>NaN</td>\n",
              "      <td>NaN</td>\n",
              "      <td>1.0</td>\n",
              "      <td>NaN</td>\n",
              "      <td>1</td>\n",
              "    </tr>\n",
              "    <tr>\n",
              "      <th>22</th>\n",
              "      <td>ON MY OWN</td>\n",
              "      <td>1.0</td>\n",
              "      <td>NaN</td>\n",
              "      <td>NaN</td>\n",
              "      <td>NaN</td>\n",
              "      <td>NaN</td>\n",
              "      <td>NaN</td>\n",
              "      <td>NaN</td>\n",
              "      <td>1</td>\n",
              "    </tr>\n",
              "    <tr>\n",
              "      <th>23</th>\n",
              "      <td>PROPHET T.B JOSHUA CHARTERED FLIGHT</td>\n",
              "      <td>1.0</td>\n",
              "      <td>NaN</td>\n",
              "      <td>NaN</td>\n",
              "      <td>NaN</td>\n",
              "      <td>NaN</td>\n",
              "      <td>NaN</td>\n",
              "      <td>NaN</td>\n",
              "      <td>1</td>\n",
              "    </tr>\n",
              "    <tr>\n",
              "      <th>24</th>\n",
              "      <td>THE SAME PROCESS</td>\n",
              "      <td>NaN</td>\n",
              "      <td>NaN</td>\n",
              "      <td>NaN</td>\n",
              "      <td>1.0</td>\n",
              "      <td>NaN</td>\n",
              "      <td>NaN</td>\n",
              "      <td>NaN</td>\n",
              "      <td>1</td>\n",
              "    </tr>\n",
              "    <tr>\n",
              "      <th>25</th>\n",
              "      <td>THROUGH AGADEZ DESERT</td>\n",
              "      <td>NaN</td>\n",
              "      <td>NaN</td>\n",
              "      <td>NaN</td>\n",
              "      <td>1.0</td>\n",
              "      <td>NaN</td>\n",
              "      <td>NaN</td>\n",
              "      <td>NaN</td>\n",
              "      <td>1</td>\n",
              "    </tr>\n",
              "    <tr>\n",
              "      <th>26</th>\n",
              "      <td>THROUGH AGENTS AND LOCAL COMMUNITIES</td>\n",
              "      <td>NaN</td>\n",
              "      <td>NaN</td>\n",
              "      <td>NaN</td>\n",
              "      <td>1.0</td>\n",
              "      <td>NaN</td>\n",
              "      <td>NaN</td>\n",
              "      <td>NaN</td>\n",
              "      <td>1</td>\n",
              "    </tr>\n",
              "    <tr>\n",
              "      <th>27</th>\n",
              "      <td>THROUGH BUS</td>\n",
              "      <td>NaN</td>\n",
              "      <td>NaN</td>\n",
              "      <td>NaN</td>\n",
              "      <td>NaN</td>\n",
              "      <td>NaN</td>\n",
              "      <td>1.0</td>\n",
              "      <td>NaN</td>\n",
              "      <td>1</td>\n",
              "    </tr>\n",
              "    <tr>\n",
              "      <th>28</th>\n",
              "      <td>THROUGH FLIGHT</td>\n",
              "      <td>NaN</td>\n",
              "      <td>NaN</td>\n",
              "      <td>1.0</td>\n",
              "      <td>NaN</td>\n",
              "      <td>NaN</td>\n",
              "      <td>NaN</td>\n",
              "      <td>NaN</td>\n",
              "      <td>1</td>\n",
              "    </tr>\n",
              "    <tr>\n",
              "      <th>29</th>\n",
              "      <td>THROUGH MURITALA MOHAMMED AIRPORT</td>\n",
              "      <td>1.0</td>\n",
              "      <td>NaN</td>\n",
              "      <td>NaN</td>\n",
              "      <td>NaN</td>\n",
              "      <td>NaN</td>\n",
              "      <td>NaN</td>\n",
              "      <td>NaN</td>\n",
              "      <td>1</td>\n",
              "    </tr>\n",
              "    <tr>\n",
              "      <th>30</th>\n",
              "      <td>THROUGH NIGERIA CHARTED FLIGHT</td>\n",
              "      <td>1.0</td>\n",
              "      <td>NaN</td>\n",
              "      <td>NaN</td>\n",
              "      <td>NaN</td>\n",
              "      <td>NaN</td>\n",
              "      <td>NaN</td>\n",
              "      <td>NaN</td>\n",
              "      <td>1</td>\n",
              "    </tr>\n",
              "    <tr>\n",
              "      <th>31</th>\n",
              "      <td>THROUGH NIGERIAN CHARTERED FLIGHT</td>\n",
              "      <td>1.0</td>\n",
              "      <td>NaN</td>\n",
              "      <td>NaN</td>\n",
              "      <td>NaN</td>\n",
              "      <td>NaN</td>\n",
              "      <td>NaN</td>\n",
              "      <td>NaN</td>\n",
              "      <td>1</td>\n",
              "    </tr>\n",
              "    <tr>\n",
              "      <th>32</th>\n",
              "      <td>THROUGH NIGERIAN GOVERNMENT</td>\n",
              "      <td>1.0</td>\n",
              "      <td>NaN</td>\n",
              "      <td>NaN</td>\n",
              "      <td>NaN</td>\n",
              "      <td>NaN</td>\n",
              "      <td>NaN</td>\n",
              "      <td>NaN</td>\n",
              "      <td>1</td>\n",
              "    </tr>\n",
              "    <tr>\n",
              "      <th>33</th>\n",
              "      <td>THROUGH THE NORTHWEST BORDER</td>\n",
              "      <td>NaN</td>\n",
              "      <td>NaN</td>\n",
              "      <td>NaN</td>\n",
              "      <td>1.0</td>\n",
              "      <td>NaN</td>\n",
              "      <td>NaN</td>\n",
              "      <td>NaN</td>\n",
              "      <td>1</td>\n",
              "    </tr>\n",
              "    <tr>\n",
              "      <th>34</th>\n",
              "      <td>TRHOUGH</td>\n",
              "      <td>NaN</td>\n",
              "      <td>NaN</td>\n",
              "      <td>NaN</td>\n",
              "      <td>NaN</td>\n",
              "      <td>NaN</td>\n",
              "      <td>1.0</td>\n",
              "      <td>NaN</td>\n",
              "      <td>1</td>\n",
              "    </tr>\n",
              "    <tr>\n",
              "      <th>35</th>\n",
              "      <td>UN POLICE</td>\n",
              "      <td>NaN</td>\n",
              "      <td>1.0</td>\n",
              "      <td>NaN</td>\n",
              "      <td>NaN</td>\n",
              "      <td>NaN</td>\n",
              "      <td>NaN</td>\n",
              "      <td>NaN</td>\n",
              "      <td>1</td>\n",
              "    </tr>\n",
              "  </tbody>\n",
              "</table>\n",
              "</div>\n",
              "      <button class=\"colab-df-convert\" onclick=\"convertToInteractive('df-5c43223f-0f17-40c9-ab14-2055205f672b')\"\n",
              "              title=\"Convert this dataframe to an interactive table.\"\n",
              "              style=\"display:none;\">\n",
              "        \n",
              "  <svg xmlns=\"http://www.w3.org/2000/svg\" height=\"24px\"viewBox=\"0 0 24 24\"\n",
              "       width=\"24px\">\n",
              "    <path d=\"M0 0h24v24H0V0z\" fill=\"none\"/>\n",
              "    <path d=\"M18.56 5.44l.94 2.06.94-2.06 2.06-.94-2.06-.94-.94-2.06-.94 2.06-2.06.94zm-11 1L8.5 8.5l.94-2.06 2.06-.94-2.06-.94L8.5 2.5l-.94 2.06-2.06.94zm10 10l.94 2.06.94-2.06 2.06-.94-2.06-.94-.94-2.06-.94 2.06-2.06.94z\"/><path d=\"M17.41 7.96l-1.37-1.37c-.4-.4-.92-.59-1.43-.59-.52 0-1.04.2-1.43.59L10.3 9.45l-7.72 7.72c-.78.78-.78 2.05 0 2.83L4 21.41c.39.39.9.59 1.41.59.51 0 1.02-.2 1.41-.59l7.78-7.78 2.81-2.81c.8-.78.8-2.07 0-2.86zM5.41 20L4 18.59l7.72-7.72 1.47 1.35L5.41 20z\"/>\n",
              "  </svg>\n",
              "      </button>\n",
              "      \n",
              "  <style>\n",
              "    .colab-df-container {\n",
              "      display:flex;\n",
              "      flex-wrap:wrap;\n",
              "      gap: 12px;\n",
              "    }\n",
              "\n",
              "    .colab-df-convert {\n",
              "      background-color: #E8F0FE;\n",
              "      border: none;\n",
              "      border-radius: 50%;\n",
              "      cursor: pointer;\n",
              "      display: none;\n",
              "      fill: #1967D2;\n",
              "      height: 32px;\n",
              "      padding: 0 0 0 0;\n",
              "      width: 32px;\n",
              "    }\n",
              "\n",
              "    .colab-df-convert:hover {\n",
              "      background-color: #E2EBFA;\n",
              "      box-shadow: 0px 1px 2px rgba(60, 64, 67, 0.3), 0px 1px 3px 1px rgba(60, 64, 67, 0.15);\n",
              "      fill: #174EA6;\n",
              "    }\n",
              "\n",
              "    [theme=dark] .colab-df-convert {\n",
              "      background-color: #3B4455;\n",
              "      fill: #D2E3FC;\n",
              "    }\n",
              "\n",
              "    [theme=dark] .colab-df-convert:hover {\n",
              "      background-color: #434B5C;\n",
              "      box-shadow: 0px 1px 3px 1px rgba(0, 0, 0, 0.15);\n",
              "      filter: drop-shadow(0px 1px 2px rgba(0, 0, 0, 0.3));\n",
              "      fill: #FFFFFF;\n",
              "    }\n",
              "  </style>\n",
              "\n",
              "      <script>\n",
              "        const buttonEl =\n",
              "          document.querySelector('#df-5c43223f-0f17-40c9-ab14-2055205f672b button.colab-df-convert');\n",
              "        buttonEl.style.display =\n",
              "          google.colab.kernel.accessAllowed ? 'block' : 'none';\n",
              "\n",
              "        async function convertToInteractive(key) {\n",
              "          const element = document.querySelector('#df-5c43223f-0f17-40c9-ab14-2055205f672b');\n",
              "          const dataTable =\n",
              "            await google.colab.kernel.invokeFunction('convertToInteractive',\n",
              "                                                     [key], {});\n",
              "          if (!dataTable) return;\n",
              "\n",
              "          const docLinkHtml = 'Like what you see? Visit the ' +\n",
              "            '<a target=\"_blank\" href=https://colab.research.google.com/notebooks/data_table.ipynb>data table notebook</a>'\n",
              "            + ' to learn more about interactive tables.';\n",
              "          element.innerHTML = '';\n",
              "          dataTable['output_type'] = 'display_data';\n",
              "          await google.colab.output.renderOutput(dataTable, element);\n",
              "          const docLink = document.createElement('div');\n",
              "          docLink.innerHTML = docLinkHtml;\n",
              "          element.appendChild(docLink);\n",
              "        }\n",
              "      </script>\n",
              "    </div>\n",
              "  </div>\n",
              "  "
            ],
            "text/plain": [
              "                                                index  Edo  Delta  Kano  \\\n",
              "0                                                 BUS  NaN    NaN   NaN   \n",
              "1                                              BY AIR  NaN    1.0   NaN   \n",
              "2                                      BY AIR TO KANO  NaN    NaN   NaN   \n",
              "3                                              BY BUS  NaN    NaN   NaN   \n",
              "4                                             BY RAIL  NaN    NaN   NaN   \n",
              "5                                             BY ROAD  NaN    NaN   NaN   \n",
              "6                              BY ROAD THROUGH SOKOTO  NaN    1.0   NaN   \n",
              "7                                        BY THE ROUTE  NaN    NaN   NaN   \n",
              "8                                   CAR THROUH BORDER  NaN    NaN   NaN   \n",
              "9                                  FEDERAL GOVERNMENT  1.0    NaN   NaN   \n",
              "10                                           HARDSHIP  1.0    NaN   NaN   \n",
              "11    I CAME BACK THROUGH PUBLIC TRANSPORT WITH BRIBE  NaN    NaN   NaN   \n",
              "12                                     I CAME BY ROAD  NaN    NaN   NaN   \n",
              "13           I FOLLOWED ONE WOMAN FROM NIGER REPUBLIC  NaN    NaN   NaN   \n",
              "14     I FOLLOWED SEVERAL COMMUNITIES TO GET TO NIGER  NaN    NaN   NaN   \n",
              "15     I SPENT SEVERAL WEEKS WITH HELP FROM VILLAGERS  NaN    NaN   NaN   \n",
              "16  I WAS DEPORTED TO GHANA AND CAME BACK THROUGH ...  1.0    NaN   NaN   \n",
              "17                               IOM CHARTERED FLIGHT  6.0    NaN   NaN   \n",
              "18                               IOM SPONSORED FLIGHT  6.0   11.0   6.0   \n",
              "19                              IOM SPONSORED FLIGHTS  NaN    NaN   4.0   \n",
              "20                                 NIGERIA GOVERNMENT  1.0    NaN   NaN   \n",
              "21                                    NORTHWEST ROUTE  NaN    NaN   NaN   \n",
              "22                                          ON MY OWN  1.0    NaN   NaN   \n",
              "23                PROPHET T.B JOSHUA CHARTERED FLIGHT  1.0    NaN   NaN   \n",
              "24                                   THE SAME PROCESS  NaN    NaN   NaN   \n",
              "25                              THROUGH AGADEZ DESERT  NaN    NaN   NaN   \n",
              "26               THROUGH AGENTS AND LOCAL COMMUNITIES  NaN    NaN   NaN   \n",
              "27                                        THROUGH BUS  NaN    NaN   NaN   \n",
              "28                                     THROUGH FLIGHT  NaN    NaN   1.0   \n",
              "29                  THROUGH MURITALA MOHAMMED AIRPORT  1.0    NaN   NaN   \n",
              "30                     THROUGH NIGERIA CHARTED FLIGHT  1.0    NaN   NaN   \n",
              "31                  THROUGH NIGERIAN CHARTERED FLIGHT  1.0    NaN   NaN   \n",
              "32                        THROUGH NIGERIAN GOVERNMENT  1.0    NaN   NaN   \n",
              "33                       THROUGH THE NORTHWEST BORDER  NaN    NaN   NaN   \n",
              "34                                            TRHOUGH  NaN    NaN   NaN   \n",
              "35                                          UN POLICE  NaN    1.0   NaN   \n",
              "\n",
              "    Katsina  Kaduna  Sokoto  Jigawa  Total  \n",
              "0       NaN     1.0     NaN     NaN      1  \n",
              "1       1.0     3.0     NaN     NaN      5  \n",
              "2       NaN     1.0     NaN     NaN      1  \n",
              "3       NaN     3.0     NaN     NaN      3  \n",
              "4       NaN     NaN     1.0     NaN      1  \n",
              "5       1.0     1.0     NaN     NaN      2  \n",
              "6       NaN     NaN     NaN     NaN      1  \n",
              "7       NaN     NaN     1.0     NaN      1  \n",
              "8       NaN     1.0     NaN     NaN      1  \n",
              "9       NaN     NaN     NaN     NaN      1  \n",
              "10      NaN     NaN     NaN     NaN      1  \n",
              "11      1.0     NaN     NaN     NaN      1  \n",
              "12      1.0     NaN     NaN     NaN      1  \n",
              "13      1.0     NaN     NaN     NaN      1  \n",
              "14      1.0     NaN     NaN     NaN      1  \n",
              "15      1.0     NaN     NaN     NaN      1  \n",
              "16      NaN     NaN     NaN     NaN      1  \n",
              "17      NaN     NaN     NaN     NaN      6  \n",
              "18      NaN     NaN     NaN     7.0     30  \n",
              "19      NaN     NaN     NaN     1.0      5  \n",
              "20      NaN     NaN     NaN     NaN      1  \n",
              "21      NaN     NaN     1.0     NaN      1  \n",
              "22      NaN     NaN     NaN     NaN      1  \n",
              "23      NaN     NaN     NaN     NaN      1  \n",
              "24      1.0     NaN     NaN     NaN      1  \n",
              "25      1.0     NaN     NaN     NaN      1  \n",
              "26      1.0     NaN     NaN     NaN      1  \n",
              "27      NaN     NaN     1.0     NaN      1  \n",
              "28      NaN     NaN     NaN     NaN      1  \n",
              "29      NaN     NaN     NaN     NaN      1  \n",
              "30      NaN     NaN     NaN     NaN      1  \n",
              "31      NaN     NaN     NaN     NaN      1  \n",
              "32      NaN     NaN     NaN     NaN      1  \n",
              "33      1.0     NaN     NaN     NaN      1  \n",
              "34      NaN     NaN     1.0     NaN      1  \n",
              "35      NaN     NaN     NaN     NaN      1  "
            ]
          },
          "execution_count": null,
          "metadata": {},
          "output_type": "execute_result"
        }
      ],
      "source": [
        " Q26_df = Q26_df.reset_index()\n",
        " Q26_df.to_csv('/content/drive/MyDrive/Colab Notebooks/KII Analysis/{}_Summary.csv'.format('Q26'))\n",
        " Q26_df"
      ]
    },
    {
      "cell_type": "markdown",
      "metadata": {
        "id": "fHr0oSJOq-f4"
      },
      "source": [
        "###**QUESTION 27**"
      ]
    },
    {
      "cell_type": "code",
      "execution_count": null,
      "metadata": {
        "id": "5h0NfVtXq9Br"
      },
      "outputs": [],
      "source": [
        "sample_df.Q27.unique()"
      ]
    },
    {
      "cell_type": "code",
      "execution_count": null,
      "metadata": {
        "id": "Yx4vBzR_rEyD"
      },
      "outputs": [],
      "source": [
        "sample_df.Q27 = sample_df.Q27.str.strip()\n",
        "sample_df.Q27 = sample_df.Q27.replace('',np.nan) \n",
        "sample_df.Q27.value_counts()"
      ]
    },
    {
      "cell_type": "code",
      "execution_count": null,
      "metadata": {
        "id": "urMVVGAKrOgk"
      },
      "outputs": [],
      "source": [
        "Q27_df = Create(sample_df,'Q27',level=1)\n",
        "Q27_df"
      ]
    },
    {
      "cell_type": "markdown",
      "metadata": {
        "id": "RSrn5snDrWF4"
      },
      "source": [
        "###**QUESTION 28**"
      ]
    },
    {
      "cell_type": "code",
      "execution_count": null,
      "metadata": {
        "id": "7ykw7TwJrUys"
      },
      "outputs": [],
      "source": [
        "sample_df.Q28.unique()"
      ]
    },
    {
      "cell_type": "code",
      "execution_count": null,
      "metadata": {
        "id": "1nEEVVterevx"
      },
      "outputs": [],
      "source": [
        "wrong = ['FIX OUR ECONOMY', 'MIGRANTS SHOULD TELL THEIR STORY',\n",
        "       'SENSITIZATION', '',\n",
        "       'SET UP SKILL ACQUISITION CENTRE TO CARRY OUT AWARENESS',\n",
        "       'TO GIVE YOUTHS SOMETHING TANGIBLE TO DO', 'ASSISTING PEOPLE',\n",
        "       'EMPOWER PEOPLE WITH BUSINESS', 'ESTABLISG BUSINESS FOR PEOPLE',\n",
        "       'TELLING STORIES AND SENSITIZATION', 'EMPOWERMENT ',\n",
        "       'QUICK TRAVELLING DOCUMENT', 'ACCESS TO QUICK TRAVEL DOCUMENT',\n",
        "       'PROVISION OF EMPLOYMENT ', 'EASY TRAVEL DOCUMENT',\n",
        "       'ENGAGE THE YOUTH TO KEEP THEM BUSY ', 'AWARENESS',\n",
        "       'AWARENESS RAISING ', 'INFORMATION',\n",
        "       'GOVERNMENT SHOULD REDUCE THE STRESS OF GETTING VISA',\n",
        "       'MORE JOB OPPORTUNITIES, YOUTH EMPOWERMENT ', 'CREATE MORE JOBS',\n",
        "       'REDUCE THE PROBLEM AROUND GETTING VISA',\n",
        "       'CREATE JOB OPPORTUNITIES ', 'EMPOWERMENT', 'EMPOWERMENT OF YOUTH',\n",
        "       'EMPOERMENT OF YOUTHS', 'CREATE AWARENESS',\n",
        "       'FININACIAL ASSISTANCE TO THE POOR ', 'ASIST US WITH JOB',\n",
        "       'CREATE AWARENESS, JOB AND FINANCIAL ASSISTANCE ',\n",
        "       'CREATE JOB OPPORTUNITY',\n",
        "       'EMPOWER YOUTH AND WOMEN WHO ARE JOBLESS',\n",
        "       'MAKE FOOD AVAILABLE TO CITIZENS',\n",
        "       'INCREASE THE STANDARD OF LIVING AND REDUCE INFLATION',\n",
        "       'CREATE JOB OPPORTUNITIES',\n",
        "       'TO HELP SECURITY AGENCIES AT THE BORDER',\n",
        "       'TO CREATE JOB OPPORTUNITY', 'REDUCE COST OF TRAVELLING',\n",
        "       'CREATE JOB', 'POVERTY ALLEVIATION',\n",
        "       'SENSITIZATION ON THE DANGERS AND DIFFICULTIES',\n",
        "       'TO EDUCATE PEOPLE', 'PROVIDING JOBS', 'TO STOP AGENTS',\n",
        "       'PROVIDE JOB OPPORTUNITY', 'SHOULD BE RECOMMENDED NOT TO TRY',\n",
        "       'IT IS RECOMMENDED TO STAY IN NIGERIA', 'NOT TO ENCOURAGE',\n",
        "       'STAYING IN NIGERIA IS THE BEST', 'STAYING IN NIGERIA IS BETTER',\n",
        "       'IT IS VERY RISKY', 'IT IS DANGEROUS TO LIFE AND PROPERTIES',\n",
        "       'IT IS VERY RISKY TO LIFE', 'IT IS VERY DANGEROUS',\n",
        "       'ENCOURAGE BORDER OFFICIALS TO WORK HARD', 'IT IS NOT GOOD',\n",
        "       'GOOD GOVERNANCE', 'GOVERNMENT SHOULD PROVIDE JOB',\n",
        "       'GOVERNMENT SHOULD MAKE TRAVEL EASY',\n",
        "       'GOVERNMENT SHOULD MAKE THINGS EASY',\n",
        "       'MAKE TRAVEL DOCUMENTS CHEAP', 'BETTER GOVERNMENT',\n",
        "       'EDUCATION AND EMPOLYMENT', 'GOOD WORK', 'GOOD JOBS/EMPLOYMENT',\n",
        "       'TO FOLLOW REGULAR WAY ',\n",
        "       'TO STOP PEOPLE FROM FOLLOWING IRREGULAR ROUTE',\n",
        "       'ORIENTATION OF PEOPLE']\n",
        "\n",
        "correct =     ['FIX OUR ECONOMY', 'MIGRANTS SHOULD TELL THEIR STORY',\n",
        "       'SENSITIZATION', '',\n",
        "       'SET UP SKILL ACQUISITION CENTRE TO CARRY OUT AWARENESS',\n",
        "       'TO GIVE YOUTHS SOMETHING TANGIBLE TO DO', 'ASSISTING PEOPLE',\n",
        "       'EMPOWER PEOPLE WITH BUSINESS', 'ESTABLISG BUSINESS FOR PEOPLE',\n",
        "       'TELLING STORIES AND SENSITIZATION', 'EMPOWERMENT ',\n",
        "       'QUICK TRAVELLING DOCUMENT', 'ACCESS TO QUICK TRAVEL DOCUMENT',\n",
        "       'PROVISION OF EMPLOYMENT ', 'EASY TRAVEL DOCUMENT',\n",
        "       'ENGAGE THE YOUTH TO KEEP THEM BUSY ', 'AWARENESS',\n",
        "       'AWARENESS RAISING ', 'INFORMATION',\n",
        "       'GOVERNMENT SHOULD REDUCE THE STRESS OF GETTING VISA',\n",
        "       'MORE JOB OPPORTUNITIES, YOUTH EMPOWERMENT ', 'CREATE MORE JOBS',\n",
        "       'REDUCE THE PROBLEM AROUND GETTING VISA',\n",
        "       'CREATE JOB OPPORTUNITIES ', 'EMPOWERMENT', 'EMPOWERMENT OF YOUTH',\n",
        "       'EMPOERMENT OF YOUTHS', 'CREATE AWARENESS',\n",
        "       'FININACIAL ASSISTANCE TO THE POOR ', 'ASIST US WITH JOB',\n",
        "       'CREATE AWARENESS, JOB AND FINANCIAL ASSISTANCE ',\n",
        "       'CREATE JOB OPPORTUNITY',\n",
        "       'EMPOWER YOUTH AND WOMEN WHO ARE JOBLESS',\n",
        "       'MAKE FOOD AVAILABLE TO CITIZENS',\n",
        "       'INCREASE THE STANDARD OF LIVING AND REDUCE INFLATION',\n",
        "       'CREATE JOB OPPORTUNITIES',\n",
        "       'HELP SECURITY AGENCIES AT THE BORDER',\n",
        "       'CREATE JOB OPPORTUNITY', 'REDUCE COST OF TRAVELLING',\n",
        "       'CREATE JOB OPPORTUNITY', 'POVERTY ALLEVIATION',\n",
        "       'SENSITIZATION ON THE DANGERS AND DIFFICULTIES',\n",
        "       'TO EDUCATE PEOPLE', 'CREATE JOB OPPORTUNITY', 'TO STOP AGENTS',\n",
        "       'CREATE JOB OPPORTUNITY', 'SHOULD BE RECOMMENDED NOT TO TRY',\n",
        "       'IT IS RECOMMENDED TO STAY IN NIGERIA', 'NOT TO ENCOURAGE',\n",
        "       'STAYING IN NIGERIA IS THE BEST', 'STAYING IN NIGERIA IS BETTER',\n",
        "       'IT IS VERY RISKY', 'IT IS DANGEROUS TO LIFE AND PROPERTIES',\n",
        "       'IT IS VERY RISKY TO LIFE', 'IT IS VERY DANGEROUS',\n",
        "       'ENCOURAGE BORDER OFFICIALS TO WORK HARD', 'IT IS NOT GOOD',\n",
        "       'GOOD GOVERNANCE', 'GOVERNMENT SHOULD PROVIDE JOBS',\n",
        "       'GOVERNMENT SHOULD MAKE TRAVEL EASY',\n",
        "       'GOVERNMENT SHOULD MAKE THINGS EASY',\n",
        "       'MAKE TRAVEL DOCUMENTS CHEAP', 'BETTER GOVERNMENT',\n",
        "       'EDUCATION AND EMPOLYMENT', 'GOOD WORK', 'GOOD JOBS/EMPLOYMENT',\n",
        "       'TO FOLLOW REGULAR WAY ',\n",
        "       'TO STOP PEOPLE FROM FOLLOWING IRREGULAR ROUTE',\n",
        "       'ORIENTATION OF PEOPLE']\n",
        "sample_df.Q28 = sample_df.Q28.replace(wrong,correct)"
      ]
    },
    {
      "cell_type": "code",
      "execution_count": null,
      "metadata": {
        "id": "2M_h4WzJsHdk"
      },
      "outputs": [],
      "source": [
        "sample_df.Q28 = sample_df.Q28.str.strip()\n",
        "sample_df.Q28 = sample_df.Q28.replace('',np.nan) \n",
        "sample_df.Q28.value_counts()"
      ]
    },
    {
      "cell_type": "code",
      "execution_count": null,
      "metadata": {
        "id": "GLXhfuSdsXV0"
      },
      "outputs": [],
      "source": [
        "Q28_df = Create(sample_df,'Q28',level=1)\n",
        "Q28_df"
      ]
    },
    {
      "cell_type": "code",
      "execution_count": null,
      "metadata": {
        "id": "ug2NC13ksk3K"
      },
      "outputs": [],
      "source": [
        " Q28_df = Q28_df.reset_index()\n",
        " Q28_df.to_csv('/content/drive/MyDrive/Colab Notebooks/KII Analysis/{}_Summary.csv'.format('Q28'))\n",
        " Q28_df"
      ]
    },
    {
      "cell_type": "markdown",
      "metadata": {
        "id": "U8M4nw6VsxRk"
      },
      "source": [
        "###**QUESTION 29**"
      ]
    },
    {
      "cell_type": "code",
      "execution_count": null,
      "metadata": {
        "id": "0j1s2Ss1stKY"
      },
      "outputs": [],
      "source": [
        "sample_df.Q29.unique()"
      ]
    },
    {
      "cell_type": "code",
      "execution_count": null,
      "metadata": {
        "id": "jLKDX0zPs3pS"
      },
      "outputs": [],
      "source": [
        "sample_df.Q29 = sample_df.Q29.str.strip()\n",
        "sample_df.Q29 = sample_df.Q29.replace('',np.nan) \n",
        "sample_df.Q29.value_counts()"
      ]
    },
    {
      "cell_type": "code",
      "execution_count": null,
      "metadata": {
        "id": "n9ve1440tAQw"
      },
      "outputs": [],
      "source": [
        "Q29_df = Create(sample_df,'Q29',level=1)\n",
        "Q29_df"
      ]
    },
    {
      "cell_type": "markdown",
      "metadata": {
        "id": "oWyIgvDttHj4"
      },
      "source": [
        "###**QUESTION 30**"
      ]
    },
    {
      "cell_type": "code",
      "execution_count": null,
      "metadata": {
        "colab": {
          "background_save": true
        },
        "id": "aOt0QuvmtGSB",
        "outputId": "aacf62d5-449c-4310-b605-71175eb56e81"
      },
      "outputs": [
        {
          "data": {
            "text/plain": [
              "array(['Yes', '', 'No'], dtype=object)"
            ]
          },
          "execution_count": null,
          "metadata": {},
          "output_type": "execute_result"
        }
      ],
      "source": [
        "sample_df.Q30.unique()"
      ]
    },
    {
      "cell_type": "code",
      "execution_count": null,
      "metadata": {
        "id": "k1dFKViWtg1u"
      },
      "outputs": [],
      "source": [
        "sample_df.Q30 = sample_df.Q30.str.strip()\n",
        "sample_df.Q30 = sample_df.Q30.replace('',np.nan) \n",
        "sample_df.Q30.value_counts()"
      ]
    },
    {
      "cell_type": "code",
      "execution_count": null,
      "metadata": {
        "id": "eFG-SEM5tkMw"
      },
      "outputs": [],
      "source": [
        "Q30_df = Create(sample_df,'Q30',level=1)\n",
        "Q30_df"
      ]
    },
    {
      "cell_type": "markdown",
      "metadata": {
        "id": "l8BkrWN9tw21"
      },
      "source": [
        "###**QUESTION 31**"
      ]
    },
    {
      "cell_type": "code",
      "execution_count": null,
      "metadata": {
        "id": "pXEg91kjtzri"
      },
      "outputs": [],
      "source": [
        "sample_df.Q31.unique()"
      ]
    },
    {
      "cell_type": "code",
      "execution_count": null,
      "metadata": {
        "id": "L9GACeh6t2uQ"
      },
      "outputs": [],
      "source": [
        "sample_df.Q31 = sample_df.Q31.str.strip()\n",
        "sample_df.Q31 = sample_df.Q31.replace('',np.nan) \n",
        "sample_df.Q31.value_counts()"
      ]
    },
    {
      "cell_type": "code",
      "execution_count": null,
      "metadata": {
        "id": "yumtJRgwt3pV"
      },
      "outputs": [],
      "source": [
        "Q31_df = Create(sample_df,'Q31',level=1)\n",
        "Q31_df"
      ]
    },
    {
      "cell_type": "code",
      "execution_count": null,
      "metadata": {
        "id": "aAcSM28xuAxT"
      },
      "outputs": [],
      "source": [
        ""
      ]
    }
  ],
  "metadata": {
    "colab": {
      "collapsed_sections": [],
      "name": "KII.ipynb",
      "provenance": [],
      "mount_file_id": "1gNDpoaptM3fYyjp9tVgZ-872KSSfo0xf",
      "authorship_tag": "ABX9TyPLhvl5avcQfCPHt85AW04K",
      "include_colab_link": true
    },
    "kernelspec": {
      "display_name": "Python 3",
      "name": "python3"
    },
    "language_info": {
      "name": "python"
    }
  },
  "nbformat": 4,
  "nbformat_minor": 0
}